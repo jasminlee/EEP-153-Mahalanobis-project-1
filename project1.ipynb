{
 "cells": [
  {
   "cell_type": "markdown",
   "metadata": {},
   "source": [
    "# Group Mahalanobis Project 1\n"
   ]
  },
  {
   "cell_type": "markdown",
   "metadata": {},
   "source": [
    "## Introduction/Brief Description"
   ]
  },
  {
   "cell_type": "markdown",
   "metadata": {},
   "source": [
    "Lorem ipsum dolor sit amet, consectetur adipiscing elit. Nam pulvinar sagittis erat, eget commodo lectus luctus in. Sed a erat eget felis convallis ultricies. Morbi pharetra quam at volutpat pharetra. Donec bibendum ex sed dignissim imperdiet. Proin fringilla purus tellus, vel posuere eros sagittis vitae. Cras commodo suscipit dui, quis commodo ex pharetra sed. Orci varius natoque penatibus et magnis dis parturient montes, nascetur ridiculus mus. Ut elit massa, dignissim et dui at, molestie hendrerit dui. Nunc non blandit tellus.\n"
   ]
  },
  {
   "cell_type": "markdown",
   "metadata": {},
   "source": [
    "## Project Deliverables"
   ]
  },
  {
   "cell_type": "markdown",
   "metadata": {
    "slideshow": {
     "slide_type": "slide"
    }
   },
   "source": [
    "### [#A] Data Imports"
   ]
  },
  {
   "cell_type": "code",
   "execution_count": 1,
   "metadata": {},
   "outputs": [
    {
     "data": {
      "text/html": [
       "        <script type=\"text/javascript\">\n",
       "        window.PlotlyConfig = {MathJaxConfig: 'local'};\n",
       "        if (window.MathJax) {MathJax.Hub.Config({SVG: {font: \"STIX-Web\"}});}\n",
       "        if (typeof require !== 'undefined') {\n",
       "        require.undef(\"plotly\");\n",
       "        requirejs.config({\n",
       "            paths: {\n",
       "                'plotly': ['https://cdn.plot.ly/plotly-latest.min']\n",
       "            }\n",
       "        });\n",
       "        require(['plotly'], function(Plotly) {\n",
       "            window._Plotly = Plotly;\n",
       "        });\n",
       "        }\n",
       "        </script>\n",
       "        "
      ]
     },
     "metadata": {},
     "output_type": "display_data"
    }
   ],
   "source": [
    "#If necessary, uncomment and run lines below:\n",
    "#!pip install wbdata\n",
    "#!pip install cufflinks\n",
    "\n",
    "import wbdata\n",
    "import cufflinks as cf\n",
    "import pandas as pd\n",
    "cf.go_offline()"
   ]
  },
  {
   "cell_type": "markdown",
   "metadata": {
    "slideshow": {
     "slide_type": "slide"
    }
   },
   "source": [
    "### [#A] Population Statistics"
   ]
  },
  {
   "cell_type": "markdown",
   "metadata": {},
   "source": [
    "A python function named population\n",
    "that will deliver information to\n",
    "answer the queries of the following\n",
    "form:\n",
    "\n",
    "In [year] how many\n",
    "[people/males/females] aged [low] to\n",
    "[high] were living in [the\n",
    "world/region/country]?"
   ]
  },
  {
   "cell_type": "markdown",
   "metadata": {},
   "source": [
    "WBDATA API ref: https://wbdata.readthedocs.io/en/stable/wbdata_library.html"
   ]
  },
  {
   "cell_type": "code",
   "execution_count": 2,
   "metadata": {},
   "outputs": [
    {
     "data": {
      "text/html": [
       "<div>\n",
       "<style scoped>\n",
       "    .dataframe tbody tr th:only-of-type {\n",
       "        vertical-align: middle;\n",
       "    }\n",
       "\n",
       "    .dataframe tbody tr th {\n",
       "        vertical-align: top;\n",
       "    }\n",
       "\n",
       "    .dataframe thead th {\n",
       "        text-align: right;\n",
       "    }\n",
       "</style>\n",
       "<table border=\"1\" class=\"dataframe\">\n",
       "  <thead>\n",
       "    <tr style=\"text-align: right;\">\n",
       "      <th></th>\n",
       "      <th>Age 00 to 04</th>\n",
       "      <th>Age 05 to 09</th>\n",
       "      <th>Age 10 to 14</th>\n",
       "      <th>Age 15 to 19</th>\n",
       "      <th>Age 20 to 24</th>\n",
       "      <th>Age 25 to 29</th>\n",
       "      <th>Age 30 to 34</th>\n",
       "      <th>Age 35 to 39</th>\n",
       "      <th>Age 40 to 44</th>\n",
       "      <th>Age 45 to 49</th>\n",
       "      <th>Age 50 to 54</th>\n",
       "    </tr>\n",
       "    <tr>\n",
       "      <th>date</th>\n",
       "      <th></th>\n",
       "      <th></th>\n",
       "      <th></th>\n",
       "      <th></th>\n",
       "      <th></th>\n",
       "      <th></th>\n",
       "      <th></th>\n",
       "      <th></th>\n",
       "      <th></th>\n",
       "      <th></th>\n",
       "      <th></th>\n",
       "    </tr>\n",
       "  </thead>\n",
       "  <tbody>\n",
       "    <tr>\n",
       "      <th>2020</th>\n",
       "      <td>NaN</td>\n",
       "      <td>NaN</td>\n",
       "      <td>NaN</td>\n",
       "      <td>NaN</td>\n",
       "      <td>NaN</td>\n",
       "      <td>NaN</td>\n",
       "      <td>NaN</td>\n",
       "      <td>NaN</td>\n",
       "      <td>NaN</td>\n",
       "      <td>NaN</td>\n",
       "      <td>NaN</td>\n",
       "    </tr>\n",
       "    <tr>\n",
       "      <th>2019</th>\n",
       "      <td>6.153330</td>\n",
       "      <td>6.369443</td>\n",
       "      <td>6.636408</td>\n",
       "      <td>6.655678</td>\n",
       "      <td>7.015787</td>\n",
       "      <td>7.433873</td>\n",
       "      <td>7.070153</td>\n",
       "      <td>6.554700</td>\n",
       "      <td>6.165810</td>\n",
       "      <td>6.159868</td>\n",
       "      <td>6.430893</td>\n",
       "    </tr>\n",
       "    <tr>\n",
       "      <th>2018</th>\n",
       "      <td>6.162448</td>\n",
       "      <td>6.501650</td>\n",
       "      <td>6.661853</td>\n",
       "      <td>6.699963</td>\n",
       "      <td>7.139412</td>\n",
       "      <td>7.413870</td>\n",
       "      <td>6.995028</td>\n",
       "      <td>6.486387</td>\n",
       "      <td>6.174732</td>\n",
       "      <td>6.250694</td>\n",
       "      <td>6.574907</td>\n",
       "    </tr>\n",
       "    <tr>\n",
       "      <th>2017</th>\n",
       "      <td>6.190469</td>\n",
       "      <td>6.622880</td>\n",
       "      <td>6.670024</td>\n",
       "      <td>6.751103</td>\n",
       "      <td>7.268989</td>\n",
       "      <td>7.364122</td>\n",
       "      <td>6.920691</td>\n",
       "      <td>6.428542</td>\n",
       "      <td>6.204453</td>\n",
       "      <td>6.358585</td>\n",
       "      <td>6.723264</td>\n",
       "    </tr>\n",
       "    <tr>\n",
       "      <th>2016</th>\n",
       "      <td>6.269949</td>\n",
       "      <td>6.712602</td>\n",
       "      <td>6.674819</td>\n",
       "      <td>6.813085</td>\n",
       "      <td>7.375933</td>\n",
       "      <td>7.300735</td>\n",
       "      <td>6.845917</td>\n",
       "      <td>6.384887</td>\n",
       "      <td>6.252850</td>\n",
       "      <td>6.482022</td>\n",
       "      <td>6.860353</td>\n",
       "    </tr>\n",
       "    <tr>\n",
       "      <th>...</th>\n",
       "      <td>...</td>\n",
       "      <td>...</td>\n",
       "      <td>...</td>\n",
       "      <td>...</td>\n",
       "      <td>...</td>\n",
       "      <td>...</td>\n",
       "      <td>...</td>\n",
       "      <td>...</td>\n",
       "      <td>...</td>\n",
       "      <td>...</td>\n",
       "      <td>...</td>\n",
       "    </tr>\n",
       "    <tr>\n",
       "      <th>1964</th>\n",
       "      <td>10.542620</td>\n",
       "      <td>10.813815</td>\n",
       "      <td>9.970752</td>\n",
       "      <td>8.673193</td>\n",
       "      <td>6.799892</td>\n",
       "      <td>5.977102</td>\n",
       "      <td>6.046372</td>\n",
       "      <td>6.399562</td>\n",
       "      <td>6.448021</td>\n",
       "      <td>5.876202</td>\n",
       "      <td>5.413588</td>\n",
       "    </tr>\n",
       "    <tr>\n",
       "      <th>1963</th>\n",
       "      <td>10.882823</td>\n",
       "      <td>10.778797</td>\n",
       "      <td>9.894824</td>\n",
       "      <td>8.388771</td>\n",
       "      <td>6.613361</td>\n",
       "      <td>5.966404</td>\n",
       "      <td>6.173400</td>\n",
       "      <td>6.549346</td>\n",
       "      <td>6.445949</td>\n",
       "      <td>5.891580</td>\n",
       "      <td>5.419146</td>\n",
       "    </tr>\n",
       "    <tr>\n",
       "      <th>1962</th>\n",
       "      <td>11.183908</td>\n",
       "      <td>10.721493</td>\n",
       "      <td>9.813903</td>\n",
       "      <td>8.079322</td>\n",
       "      <td>6.447545</td>\n",
       "      <td>6.004832</td>\n",
       "      <td>6.323720</td>\n",
       "      <td>6.693171</td>\n",
       "      <td>6.424417</td>\n",
       "      <td>5.925501</td>\n",
       "      <td>5.418200</td>\n",
       "    </tr>\n",
       "    <tr>\n",
       "      <th>1961</th>\n",
       "      <td>11.381676</td>\n",
       "      <td>10.672017</td>\n",
       "      <td>9.703123</td>\n",
       "      <td>7.782729</td>\n",
       "      <td>6.306993</td>\n",
       "      <td>6.090091</td>\n",
       "      <td>6.495126</td>\n",
       "      <td>6.819212</td>\n",
       "      <td>6.411615</td>\n",
       "      <td>5.969349</td>\n",
       "      <td>5.420129</td>\n",
       "    </tr>\n",
       "    <tr>\n",
       "      <th>1960</th>\n",
       "      <td>11.438166</td>\n",
       "      <td>10.641427</td>\n",
       "      <td>9.549929</td>\n",
       "      <td>7.519980</td>\n",
       "      <td>6.206072</td>\n",
       "      <td>6.214783</td>\n",
       "      <td>6.683991</td>\n",
       "      <td>6.921554</td>\n",
       "      <td>6.426890</td>\n",
       "      <td>6.014327</td>\n",
       "      <td>5.439911</td>\n",
       "    </tr>\n",
       "  </tbody>\n",
       "</table>\n",
       "<p>61 rows × 11 columns</p>\n",
       "</div>"
      ],
      "text/plain": [
       "      Age 00 to 04  Age 05 to 09  Age 10 to 14  Age 15 to 19  Age 20 to 24  \\\n",
       "date                                                                         \n",
       "2020           NaN           NaN           NaN           NaN           NaN   \n",
       "2019      6.153330      6.369443      6.636408      6.655678      7.015787   \n",
       "2018      6.162448      6.501650      6.661853      6.699963      7.139412   \n",
       "2017      6.190469      6.622880      6.670024      6.751103      7.268989   \n",
       "2016      6.269949      6.712602      6.674819      6.813085      7.375933   \n",
       "...            ...           ...           ...           ...           ...   \n",
       "1964     10.542620     10.813815      9.970752      8.673193      6.799892   \n",
       "1963     10.882823     10.778797      9.894824      8.388771      6.613361   \n",
       "1962     11.183908     10.721493      9.813903      8.079322      6.447545   \n",
       "1961     11.381676     10.672017      9.703123      7.782729      6.306993   \n",
       "1960     11.438166     10.641427      9.549929      7.519980      6.206072   \n",
       "\n",
       "      Age 25 to 29  Age 30 to 34  Age 35 to 39  Age 40 to 44  Age 45 to 49  \\\n",
       "date                                                                         \n",
       "2020           NaN           NaN           NaN           NaN           NaN   \n",
       "2019      7.433873      7.070153      6.554700      6.165810      6.159868   \n",
       "2018      7.413870      6.995028      6.486387      6.174732      6.250694   \n",
       "2017      7.364122      6.920691      6.428542      6.204453      6.358585   \n",
       "2016      7.300735      6.845917      6.384887      6.252850      6.482022   \n",
       "...            ...           ...           ...           ...           ...   \n",
       "1964      5.977102      6.046372      6.399562      6.448021      5.876202   \n",
       "1963      5.966404      6.173400      6.549346      6.445949      5.891580   \n",
       "1962      6.004832      6.323720      6.693171      6.424417      5.925501   \n",
       "1961      6.090091      6.495126      6.819212      6.411615      5.969349   \n",
       "1960      6.214783      6.683991      6.921554      6.426890      6.014327   \n",
       "\n",
       "      Age 50 to 54  \n",
       "date                \n",
       "2020           NaN  \n",
       "2019      6.430893  \n",
       "2018      6.574907  \n",
       "2017      6.723264  \n",
       "2016      6.860353  \n",
       "...            ...  \n",
       "1964      5.413588  \n",
       "1963      5.419146  \n",
       "1962      5.418200  \n",
       "1961      5.420129  \n",
       "1960      5.439911  \n",
       "\n",
       "[61 rows x 11 columns]"
      ]
     },
     "execution_count": 2,
     "metadata": {},
     "output_type": "execute_result"
    }
   ],
   "source": [
    "\"\"\"\n",
    "Parameters\n",
    "----------------\n",
    "years: 1960-2020\n",
    "group: 'people', 'females', 'males'\n",
    "age_lower: lower bound of age group rounded down to nearest 5\n",
    "age_higher: lower bound of age group rounded up to nearest 5\n",
    "location: WLD (world)/country 3-letter codes\n",
    "\n",
    "population ranges available from dataset:\n",
    "00-04\n",
    "05-09\n",
    "10-14\n",
    "15-19\n",
    "20-24\n",
    "25-29\n",
    "30-34\n",
    "35-39\n",
    "40-44\n",
    "45-49\n",
    "50-54\n",
    "55-59\n",
    "60-64\n",
    "65-69\n",
    "70-74\n",
    "75-79\n",
    "above 80\n",
    "\"\"\"\n",
    "\n",
    "def population(year, group, age_lower, age_upper, location):\n",
    "    #female + male\n",
    "    if group == 'people':\n",
    "        return none\n",
    "    #female/male\n",
    "    else:\n",
    "        return population_helper(year, group, age_lower, age_upper, location)\n",
    "\n",
    "\n",
    "# Returns a list of input strings for population age ranges\n",
    "#indicator format: e.g. SP.POP.0004.FE.5Y\n",
    "def population_helper(year, group, age_lower, age_upper, location):\n",
    "    inputs = list_of_age_inputs(age_lower, age_upper)\n",
    "    args_to_indi = {\n",
    "        \"males\": \"MA\",\n",
    "        \"females\": \"FE\",\n",
    "    }\n",
    "      \n",
    "    #create indicator dictionary\n",
    "    indicator_dict = {}\n",
    "    for i in inputs:\n",
    "        key = \"SP.POP.{}.{}.5Y\".format(i, (args_to_indi[group]))\n",
    "        value = \"Age {} to {}\".format(i[:2], i[2:])\n",
    "        indicator_dict[key] = value\n",
    "    df = wbdata.get_dataframe(indicator_dict, country=location)\n",
    "    return df\n",
    "\n",
    "# Returns a list of input strings for population age ranges\n",
    "def list_of_age_inputs(age_lower, age_upper):\n",
    "    def round_down(n):\n",
    "        return n - n % 5\n",
    "    \n",
    "    def round_up(n):\n",
    "        return n - n % 5 + 5\n",
    "    \n",
    "    results = []\n",
    "    r_lower_bound, r_upper_bound = round_down(age_lower), round_up(age_upper)   \n",
    "    while (r_lower_bound < min(79, r_upper_bound)):\n",
    "        results.append(\"{:02d}{:02d}\".format(r_lower_bound, r_lower_bound + 4))\n",
    "        r_lower_bound += 5       \n",
    "    return results\n",
    "\n",
    "population(2020, 'males', 0, 50, 'USA')\n",
    "    "
   ]
  },
  {
   "cell_type": "markdown",
   "metadata": {
    "slideshow": {
     "slide_type": "slide"
    }
   },
   "source": [
    "### [#A] Population DataFrames"
   ]
  },
  {
   "cell_type": "markdown",
   "metadata": {},
   "source": [
    "A function that returns a pandas DataFrame\n",
    "indexed by Region or Country and Year, with\n",
    "columns giving counts of people in different\n",
    "age-sex groups."
   ]
  },
  {
   "cell_type": "code",
   "execution_count": null,
   "metadata": {},
   "outputs": [],
   "source": []
  },
  {
   "cell_type": "markdown",
   "metadata": {
    "slideshow": {
     "slide_type": "slide"
    }
   },
   "source": [
    "### [#B] Population Pyramids"
   ]
  },
  {
   "cell_type": "markdown",
   "metadata": {},
   "source": [
    "A python function that takes as\n",
    "input a pandas DataFrame with\n",
    "columns providing counts of people by\n",
    "age-sex groups, and constructs a\n",
    "“population pyramid” graph for\n",
    "visualizing the data."
   ]
  },
  {
   "cell_type": "code",
   "execution_count": 3,
   "metadata": {},
   "outputs": [
    {
     "data": {
      "text/plain": [
       "2"
      ]
     },
     "execution_count": 3,
     "metadata": {},
     "output_type": "execute_result"
    }
   ],
   "source": [
    "1+1"
   ]
  },
  {
   "cell_type": "markdown",
   "metadata": {
    "slideshow": {
     "slide_type": "slide"
    }
   },
   "source": [
    "### [#C] Animated Population Pyramids"
   ]
  },
  {
   "cell_type": "markdown",
   "metadata": {},
   "source": [
    "A python function that takes as\n",
    "input a pandas DataFrame with\n",
    "columns providing counts of people by\n",
    "age-sex groups, with rows\n",
    "corresponding to different years, and\n",
    "constructs an animated “population\n",
    "pyramid” graph for visualizing how the\n",
    "population changes over time."
   ]
  },
  {
   "cell_type": "code",
   "execution_count": null,
   "metadata": {},
   "outputs": [],
   "source": []
  },
  {
   "cell_type": "markdown",
   "metadata": {
    "slideshow": {
     "slide_type": "slide"
    }
   },
   "source": [
    "### [#C] Population Maps"
   ]
  },
  {
   "cell_type": "markdown",
   "metadata": {},
   "source": [
    "A Jupyter notebook which queries a\n",
    "population database and provides\n",
    "visualizations in the form of maps.\n",
    "An example of a library that may be\n",
    "useful is geopandas."
   ]
  },
  {
   "cell_type": "code",
   "execution_count": null,
   "metadata": {},
   "outputs": [],
   "source": []
  },
  {
   "cell_type": "markdown",
   "metadata": {
    "slideshow": {
     "slide_type": "slide"
    }
   },
   "source": [
    "### [#C] Other Visualization Tools"
   ]
  },
  {
   "cell_type": "markdown",
   "metadata": {},
   "source": [
    "If you think of other ways to organize\n",
    "or visualize population and how it\n",
    "changes over time, this is for you!"
   ]
  },
  {
   "cell_type": "code",
   "execution_count": null,
   "metadata": {},
   "outputs": [],
   "source": []
  },
  {
   "cell_type": "markdown",
   "metadata": {
    "slideshow": {
     "slide_type": "slide"
    }
   },
   "source": [
    "### [#C] Agricultural Supply"
   ]
  },
  {
   "cell_type": "markdown",
   "metadata": {},
   "source": [
    "Relate changes in agricultural food supply\n",
    "to changes in population.\n",
    "\n",
    "What would Malthus think?"
   ]
  },
  {
   "cell_type": "code",
   "execution_count": null,
   "metadata": {},
   "outputs": [],
   "source": []
  },
  {
   "cell_type": "markdown",
   "metadata": {},
   "source": [
    "## Skills"
   ]
  },
  {
   "cell_type": "markdown",
   "metadata": {},
   "source": [
    "[#A] Jupyter Notebooks\n",
    "Basic manipulations of Jupyter notebooks\n",
    "on https://datahub.berkeley.edu\n",
    "\n",
    "[#A] Use of Indicators API from python\n",
    "Use the Indicators API to query the\n",
    "on-line World Development Indicators\n",
    "database.\n",
    "\n",
    "[#A] Build pandas.DataFrame\n",
    "Collect data on population into a\n",
    "pandas DataFrame.\n",
    "\n",
    "[#B] Read on-line spreadsheets using python\n",
    "[#B] Construct plots in python\n",
    "Using matplotlib, plotly, or similar.\n",
    "\n",
    "[#C] Construct world maps\n",
    "Consider using plotly, geopandas, or similar."
   ]
  },
  {
   "cell_type": "markdown",
   "metadata": {},
   "source": [
    "## Further/Others"
   ]
  },
  {
   "cell_type": "code",
   "execution_count": null,
   "metadata": {},
   "outputs": [],
   "source": []
  },
  {
   "cell_type": "code",
   "execution_count": null,
   "metadata": {},
   "outputs": [],
   "source": []
  }
 ],
 "metadata": {
  "history": [
   {
    "code": "## If import fails with \"ModuleNotFoundError\"\n## uncomment below & try again\n!pip install wbdata\n\nimport wbdata",
    "id": "7bdbd1aa9e9e4cec8a05e27902b523d7",
    "idx": 11,
    "time": "2021-01-25T22:24:18.117Z",
    "type": "execution"
   },
   {
    "id": "7bdbd1aa9e9e4cec8a05e27902b523d7",
    "time": "2021-01-25T22:24:23.176Z",
    "type": "completion"
   },
   {
    "code": "import wbdata\n\n# Return list of all country/region codes:\nwbdata.get_country()\n\n# Return list matching a query term:\n#wbdata.search_countries(\"World\")\n\n## Try your own search!\n# wbdata.search_countries(\"\")",
    "id": "31468b156f444d35b3084ce80801f64a",
    "idx": 14,
    "time": "2021-01-25T22:24:32.610Z",
    "type": "execution"
   },
   {
    "id": "31468b156f444d35b3084ce80801f64a",
    "time": "2021-01-25T22:24:33.377Z",
    "type": "completion"
   },
   {
    "code": "wbdata.get_source()",
    "id": "90361e3bc2854dd9891bc1d5d5d2715c",
    "idx": 17,
    "time": "2021-01-25T22:29:40.407Z",
    "type": "execution"
   },
   {
    "id": "90361e3bc2854dd9891bc1d5d5d2715c",
    "time": "2021-01-25T22:29:40.905Z",
    "type": "completion"
   },
   {
    "code": "SOURCE = 40 # \"Population estimates and projections\n\nindicators = wbdata.get_indicator(source=SOURCE)",
    "id": "6ec0d885b91a473c8b0691c0c2fbb7cb",
    "idx": 20,
    "time": "2021-01-25T22:30:08.984Z",
    "type": "execution"
   },
   {
    "id": "6ec0d885b91a473c8b0691c0c2fbb7cb",
    "time": "2021-01-25T22:30:09.719Z",
    "type": "completion"
   },
   {
    "code": "# Give variable for clarity\nvariable_labels = {\"SP.POP.TOTL\":\"World Population\"}\n\nworld = wbdata.get_dataframe(variable_labels, country=\"WLD\")\n\n# Date index is of type string; change to integers\nworld.index = world.index.astype(int)\n\n# Print a few years' data\nworld.head()",
    "id": "1c95405d979c487da484d3f2210473be",
    "idx": 23,
    "time": "2021-01-25T22:31:27.228Z",
    "type": "execution"
   },
   {
    "id": "1c95405d979c487da484d3f2210473be",
    "time": "2021-01-25T22:31:28.019Z",
    "type": "completion"
   },
   {
    "code": "#!pip install cufflinks # IF NECESSARY\nimport cufflinks as cf\ncf.go_offline()",
    "id": "99b9dc7abd42499eb1c5beb807d595d3",
    "idx": 27,
    "time": "2021-01-25T22:37:16.380Z",
    "type": "execution"
   },
   {
    "id": "99b9dc7abd42499eb1c5beb807d595d3",
    "time": "2021-01-25T22:37:18.083Z",
    "type": "completion"
   },
   {
    "code": "# Useful arguments to pass include xTitle, yTitle, Title\nworld.iplot(title=\"Fact I: Growth Rates Falling over Time\",xTitle='Year',yTitle='Population')",
    "id": "57aef14f9ca44d4c81c3af35496a1b84",
    "idx": 30,
    "time": "2021-01-25T22:37:24.688Z",
    "type": "execution"
   },
   {
    "id": "57aef14f9ca44d4c81c3af35496a1b84",
    "time": "2021-01-25T22:37:25.472Z",
    "type": "completion"
   },
   {
    "code": "import numpy as np\n\nvariable_labels = {\"SP.POP.TOTL\":\"Population\"}\n\n# Three letter codes come from wbdata.get_country()\ncountries = {\"WLD\":\"World\",\n             \"LIC\":\"Low income\",\n             \"LMC\":\"Low-medium income\",\n             \"UMC\":\"Upper-medium income\",\n             \"HIC\":\"High income\",\n            }\n\ndf = wbdata.get_dataframe(variable_labels, country = countries).squeeze()\n\ndf = df.unstack('country')\n# Date index is of type string; change to integers\ndf.index = df.index.astype(int)\n\n# Differences (over time) in logs give us growth rates\nnp.log(df).diff().iplot(title=\"Fact II: Poorer places have higher growth rates\",\n                        yTitle=\"Growth Rate\",xTitle='Year')",
    "id": "7244f783a917402d9091f19ea35a0198",
    "idx": 33,
    "time": "2021-01-25T22:38:27.119Z",
    "type": "execution"
   },
   {
    "id": "7244f783a917402d9091f19ea35a0198",
    "time": "2021-01-25T22:38:27.864Z",
    "type": "completion"
   },
   {
    "code": "import numpy as np\n\nvariable_labels = {\"SP.POP.TOTL\":\"Population\"}\n\n# Three letter codes come from wbdata.get_country()\ncountries = {\"WLD\":\"World\",\n             \"LIC\":\"Low income\",\n             \"LMC\":\"Low-medium income\",\n             \"UMC\":\"Upper-medium income\",\n             \"HIC\":\"High income\",\n             \"CHI\": \"China\",\n            }\n\ndf = wbdata.get_dataframe(variable_labels, country = countries).squeeze()\n\ndf = df.unstack('country')\n# Date index is of type string; change to integers\ndf.index = df.index.astype(int)\n\n# Differences (over time) in logs give us growth rates\nnp.log(df).diff().iplot(title=\"Fact II: Poorer places have higher growth rates\",\n                        yTitle=\"Growth Rate\",xTitle='Year')",
    "id": "7244f783a917402d9091f19ea35a0198",
    "idx": 33,
    "time": "2021-01-25T22:45:51.993Z",
    "type": "execution"
   },
   {
    "id": "7244f783a917402d9091f19ea35a0198",
    "time": "2021-01-25T22:45:52.932Z",
    "type": "completion"
   },
   {
    "code": "import numpy as np\n\nvariable_labels = {\"SP.POP.TOTL\":\"Population\"}\n\n# Three letter codes come from wbdata.get_country()\ncountries = {\"WLD\":\"World\",\n             \"LIC\":\"Low income\",\n             \"LMC\":\"Low-medium income\",\n             \"UMC\":\"Upper-medium income\",\n             \"HIC\":\"High income\",\n             \"CHn\": \"China\",\n            }\n\ndf = wbdata.get_dataframe(variable_labels, country = countries).squeeze()\n\ndf = df.unstack('country')\n# Date index is of type string; change to integers\ndf.index = df.index.astype(int)\n\n# Differences (over time) in logs give us growth rates\nnp.log(df).diff().iplot(title=\"Fact II: Poorer places have higher growth rates\",\n                        yTitle=\"Growth Rate\",xTitle='Year')",
    "id": "7244f783a917402d9091f19ea35a0198",
    "idx": 33,
    "time": "2021-01-25T22:46:46.768Z",
    "type": "execution"
   },
   {
    "id": "7244f783a917402d9091f19ea35a0198",
    "time": "2021-01-25T22:46:48.195Z",
    "type": "completion"
   },
   {
    "code": "import numpy as np\n\nvariable_labels = {\"SP.POP.TOTL\":\"Population\"}\n\n# Three letter codes come from wbdata.get_country()\ncountries = {\"WLD\":\"World\",\n             \"LIC\":\"Low income\",\n             \"LMC\":\"Low-medium income\",\n             \"UMC\":\"Upper-medium income\",\n             \"HIC\":\"High income\",\n             \"CHn\",\n            }\n\ndf = wbdata.get_dataframe(variable_labels, country = countries).squeeze()\n\ndf = df.unstack('country')\n# Date index is of type string; change to integers\ndf.index = df.index.astype(int)\n\n# Differences (over time) in logs give us growth rates\nnp.log(df).diff().iplot(title=\"Fact II: Poorer places have higher growth rates\",\n                        yTitle=\"Growth Rate\",xTitle='Year')",
    "id": "7244f783a917402d9091f19ea35a0198",
    "idx": 33,
    "time": "2021-01-25T22:46:57.655Z",
    "type": "execution"
   },
   {
    "id": "7244f783a917402d9091f19ea35a0198",
    "time": "2021-01-25T22:46:57.999Z",
    "type": "completion"
   },
   {
    "code": "import numpy as np\n\nvariable_labels = {\"SP.POP.TOTL\":\"Population\"}\n\n# Three letter codes come from wbdata.get_country()\ncountries = {\"WLD\":\"World\",\n             \"LIC\":\"Low income\",\n             \"LMC\":\"Low-medium income\",\n             \"UMC\":\"Upper-medium income\",\n             \"HIC\":\"High income\",\n             \"CHN\":\"China\",\n            }\n\ndf = wbdata.get_dataframe(variable_labels, country = countries).squeeze()\n\ndf = df.unstack('country')\n# Date index is of type string; change to integers\ndf.index = df.index.astype(int)\n\n# Differences (over time) in logs give us growth rates\nnp.log(df).diff().iplot(title=\"Fact II: Poorer places have higher growth rates\",\n                        yTitle=\"Growth Rate\",xTitle='Year')",
    "id": "7244f783a917402d9091f19ea35a0198",
    "idx": 33,
    "time": "2021-01-25T22:47:09.181Z",
    "type": "execution"
   },
   {
    "id": "7244f783a917402d9091f19ea35a0198",
    "time": "2021-01-25T22:47:10.226Z",
    "type": "completion"
   },
   {
    "code": "import numpy as np\n# wbdata.search_indicators(\"GDP per capita\")\n\nindicators = {\"NY.GDP.PCAP.CD\":\"GDP per capita\",\n              \"SP.DYN.TFRT.IN\":\"Total Fertility Rate\",\n              \"SP.POP.GROW\":\"Population Growth Rate\",\n              \"SP.DYN.AMRT.MA\":\"Male Mortality\",\n              \"SP.DYN.AMRT.FE\":\"Female Mortality\",\n              \"SP.POP.1564.FE.ZS\":\"% Adult Female\",\n              \"SP.POP.TOTL.FE.ZS\":\"% Female\"}\n\ndata = wbdata.get_dataframe(indicators)\n\n# Make years ints instead of strings\ndata.reset_index(inplace=True)\ndata['date'] = data['date'].astype(int)\ndata.set_index(['country','date'],inplace=True)\n\ndf = data.query(\"date==2018\") # Latest year missing some data\n\n# All dates now the same; not a useful index\ndf.index = df.index.droplevel('date')\n\ndf['Log GDP per capita'] = np.log(df['GDP per capita'])\n\ndf.iplot(kind='scatter', mode='markers', symbol='circle-dot',\n         x=\"Log GDP per capita\",y=\"Population Growth Rate\",\n         text=df.reset_index('country')['country'].values.tolist(),\n         xTitle=\"Log GDP per capita\",yTitle=\"Population Growth Rate\",\n         title=\"Fact II: Population growth is lower in higher-income countries\")",
    "id": "d54436366066436aa2c964e2c92e6ac3",
    "idx": 36,
    "time": "2021-01-25T22:50:54.825Z",
    "type": "execution"
   },
   {
    "id": "d54436366066436aa2c964e2c92e6ac3",
    "time": "2021-01-25T22:52:54.064Z",
    "type": "completion"
   },
   {
    "code": "world = data.query(\"country=='World'\")\n\n# Drop country index for World data\nworld.index = world.index.droplevel('country')\n\nworld[[\"Male Mortality\",\"Female Mortality\"]].iplot(title=\"Deaths per 10,000\")",
    "id": "47a256706e0b435d85bc6952f888d230",
    "idx": 41,
    "time": "2021-01-25T22:58:37.623Z",
    "type": "execution"
   },
   {
    "id": "47a256706e0b435d85bc6952f888d230",
    "time": "2021-01-25T22:58:38.102Z",
    "type": "completion"
   },
   {
    "code": "# % Adult Female is % of females who are adult.\n# To make a share of total population take product\nworld[\"% Adult Female\"] = world[\"% Adult Female\"]*world[\"% Female\"]/100\n\nworld[\"% Adult Female\"].iplot(title=\"% of Adult Females in World Population\")",
    "id": "e4028c9db2b0434081ea98f74d05f947",
    "idx": 44,
    "time": "2021-01-25T22:59:31.278Z",
    "type": "execution"
   },
   {
    "id": "e4028c9db2b0434081ea98f74d05f947",
    "time": "2021-01-25T22:59:31.565Z",
    "type": "completion"
   },
   {
    "code": "world[\"Total Fertility Rate\"].iplot()",
    "id": "d398e152c8e34daa86a26d208d9fc064",
    "idx": 47,
    "time": "2021-01-25T23:01:37.442Z",
    "type": "execution"
   }
  ],
  "kernelspec": {
   "display_name": "Python 3",
   "language": "python",
   "name": "python3"
  },
  "language_info": {
   "codemirror_mode": {
    "name": "ipython",
    "version": 3
   },
   "file_extension": ".py",
   "mimetype": "text/x-python",
   "name": "python",
   "nbconvert_exporter": "python",
   "pygments_lexer": "ipython3",
   "version": "3.8.5"
  },
  "org": null
 },
 "nbformat": 4,
 "nbformat_minor": 4
}
