{
 "cells": [
  {
   "cell_type": "markdown",
   "metadata": {},
   "source": [
    "# Group Mahalanobis Project 1\n"
   ]
  },
  {
   "cell_type": "markdown",
   "metadata": {},
   "source": [
    "## Topic & Goals"
   ]
  },
  {
   "cell_type": "markdown",
   "metadata": {},
   "source": [
    "For Project 1, our group will focus on understanding population trends in various Southeast Asian countries as it relates to urbanization, globalization and economic development.\n",
    "\n",
    "Our group is interested in analyzing multiple variables over time (20th century to today) including:<br>\n",
    "Demographics<br>\n",
    "Economic output<br>\n",
    "Agricultural factors of production<br>\n",
    "GDP and population Analysis<br>\n"
   ]
  },
  {
   "cell_type": "code",
   "execution_count": 21,
   "metadata": {},
   "outputs": [
    {
     "data": {
      "text/html": [
       "        <script type=\"text/javascript\">\n",
       "        window.PlotlyConfig = {MathJaxConfig: 'local'};\n",
       "        if (window.MathJax) {MathJax.Hub.Config({SVG: {font: \"STIX-Web\"}});}\n",
       "        if (typeof require !== 'undefined') {\n",
       "        require.undef(\"plotly\");\n",
       "        requirejs.config({\n",
       "            paths: {\n",
       "                'plotly': ['https://cdn.plot.ly/plotly-latest.min']\n",
       "            }\n",
       "        });\n",
       "        require(['plotly'], function(Plotly) {\n",
       "            window._Plotly = Plotly;\n",
       "        });\n",
       "        }\n",
       "        </script>\n",
       "        "
      ]
     },
     "metadata": {},
     "output_type": "display_data"
    }
   ],
   "source": [
    "\"\"\"\n",
    "If necessary, uncomment and install:\n",
    "\"\"\"\n",
    "#!pip install wbdata\n",
    "#!pip install cufflinks\n",
    "#!pip install geopandas\n",
    "#!pip install descartes\n",
    "#!pip install iso3166\n",
    "\n",
    "import iso3166 #iso3166.countries.get('country details')\n",
    "import wbdata\n",
    "import cufflinks as cf\n",
    "import pandas as pd\n",
    "import numpy as np\n",
    "import plotly\n",
    "import matplotlib.pyplot as plt\n",
    "import seaborn as sns\n",
    "import geopandas\n",
    "import datetime\n",
    "cf.go_offline()"
   ]
  },
  {
   "cell_type": "code",
   "execution_count": 22,
   "metadata": {},
   "outputs": [],
   "source": [
    "#wbdata.get_source() to get all sources\n",
    "#wbdata.get_topic()\n",
    "#wbdata.get_indicator()\n",
    "\n",
    "source_id = 40 #Population Estimates and Projections\n",
    "indicators = wbdata.get_indicator(source=source_id)"
   ]
  },
  {
   "cell_type": "markdown",
   "metadata": {},
   "source": [
    "## Project Deliverables"
   ]
  },
  {
   "cell_type": "markdown",
   "metadata": {
    "slideshow": {
     "slide_type": "slide"
    }
   },
   "source": [
    "### [#A] Population DataFrames"
   ]
  },
  {
   "cell_type": "code",
   "execution_count": 5,
   "metadata": {},
   "outputs": [],
   "source": [
    "\"\"\"\n",
    "population ranges available from dataset:\n",
    "00-04, 05-09, 10-14, 15-19, 20-24, 25-29, 30-34, ..., 70-74, 75-79, above 80\n",
    "\"\"\"\n",
    "\n",
    "def pop_df(year='2021', group='all', age_lower=0, age_upper=100, location='world'):\n",
    "    df = pop_df_helper(year, age_lower, age_upper, location)\n",
    "        \n",
    "    if group == 'males':\n",
    "        return df.drop(columns = ['Female'])\n",
    "    elif group == 'females':\n",
    "        return df.drop(columns = ['Male'])\n",
    "    else:\n",
    "        total_pop = df[\"Female\"] + df[\"Male\"]\n",
    "        df[\"Total\"] = total_pop\n",
    "    return df\n",
    "\n",
    "# Returns a list of input strings for population age ranges\n",
    "def pop_df_helper(year, age_lower, age_upper, location):\n",
    "    if location != 'world':\n",
    "        country_alpha3 = iso3166.countries.get(location).alpha3\n",
    "        country_name = iso3166.countries.get(location).apolitical_name\n",
    "    else:\n",
    "        country_alpha3 = 'WLD'\n",
    "        country_name = 'World'\n",
    "    inputs = list_of_age_inputs(age_lower, age_upper)\n",
    "\n",
    "    #create indicator-dictionaries required for WBData API\n",
    "    indicator_dict_m = {}\n",
    "    indicator_dict_f = {}\n",
    "    for i in inputs:\n",
    "        key_m = \"SP.POP.{}.{}\".format(i, 'MA')\n",
    "        key_f = \"SP.POP.{}.{}\".format(i, 'FE')\n",
    "        value = \"{}-{}\".format(i[:2], i[2:])\n",
    "        indicator_dict_m[key_m] = value\n",
    "        indicator_dict_f[key_f] = value\n",
    "\n",
    "    #source_id = 40, refer to wbdata.get_source()\n",
    "    wbdf_m = wbdata.get_dataframe(indicator_dict_m, country=country_alpha3, source=source_id)\n",
    "    wbdf_f = wbdata.get_dataframe(indicator_dict_f, country=country_alpha3, source=source_id)\n",
    "    datas_m = wbdf_m.query(\"date=='{}'\".format(year)).sum(axis=0).tolist()\n",
    "    datas_f = wbdf_f.query(\"date=='{}'\".format(year)).sum(axis=0).tolist()\n",
    "    df = pd.DataFrame({\n",
    "        'Country': country_name,\n",
    "        'Year': year,\n",
    "        'Age': list(indicator_dict_m.values()),\n",
    "        'Female': datas_f,\n",
    "        'Male': datas_m\n",
    "    })\n",
    "    return df\n",
    "\n",
    "# Returns a list of input strings for population age ranges\n",
    "def list_of_age_inputs(age_lower, age_upper):\n",
    "    def round_down(n):\n",
    "        return max(0, n - n % 5)\n",
    "\n",
    "    def round_up(n):\n",
    "        return n - n % 5 + 5\n",
    "\n",
    "    results = []\n",
    "    r_lower_bound, r_upper_bound = round_down(age_lower), round_up(age_upper)   \n",
    "    while r_lower_bound < min(79, r_upper_bound):\n",
    "        results.append(\"{:02d}{:02d}\".format(r_lower_bound, r_lower_bound + 4))\n",
    "        r_lower_bound += 5\n",
    "    if age_upper >= 80:\n",
    "        results.append('80UP')\n",
    "    return results"
   ]
  },
  {
   "cell_type": "markdown",
   "metadata": {},
   "source": [
    "The **pop_df** function takes in the year, target group, age lower/upper bounds and the country as arguments. The function returns a dataframe."
   ]
  },
  {
   "cell_type": "markdown",
   "metadata": {},
   "source": [
    "Function call and output:"
   ]
  },
  {
   "cell_type": "code",
   "execution_count": 8,
   "metadata": {},
   "outputs": [
    {
     "data": {
      "text/html": [
       "<div>\n",
       "<style scoped>\n",
       "    .dataframe tbody tr th:only-of-type {\n",
       "        vertical-align: middle;\n",
       "    }\n",
       "\n",
       "    .dataframe tbody tr th {\n",
       "        vertical-align: top;\n",
       "    }\n",
       "\n",
       "    .dataframe thead th {\n",
       "        text-align: right;\n",
       "    }\n",
       "</style>\n",
       "<table border=\"1\" class=\"dataframe\">\n",
       "  <thead>\n",
       "    <tr style=\"text-align: right;\">\n",
       "      <th></th>\n",
       "      <th>Country</th>\n",
       "      <th>Year</th>\n",
       "      <th>Age</th>\n",
       "      <th>Female</th>\n",
       "      <th>Male</th>\n",
       "      <th>Total</th>\n",
       "    </tr>\n",
       "  </thead>\n",
       "  <tbody>\n",
       "    <tr>\n",
       "      <th>0</th>\n",
       "      <td>Myanmar</td>\n",
       "      <td>2015</td>\n",
       "      <td>10-14</td>\n",
       "      <td>2588926.0</td>\n",
       "      <td>2604586.0</td>\n",
       "      <td>5193512.0</td>\n",
       "    </tr>\n",
       "    <tr>\n",
       "      <th>1</th>\n",
       "      <td>Myanmar</td>\n",
       "      <td>2015</td>\n",
       "      <td>15-19</td>\n",
       "      <td>2490373.0</td>\n",
       "      <td>2475952.0</td>\n",
       "      <td>4966325.0</td>\n",
       "    </tr>\n",
       "    <tr>\n",
       "      <th>2</th>\n",
       "      <td>Myanmar</td>\n",
       "      <td>2015</td>\n",
       "      <td>20-24</td>\n",
       "      <td>2328369.0</td>\n",
       "      <td>2279718.0</td>\n",
       "      <td>4608087.0</td>\n",
       "    </tr>\n",
       "    <tr>\n",
       "      <th>3</th>\n",
       "      <td>Myanmar</td>\n",
       "      <td>2015</td>\n",
       "      <td>25-29</td>\n",
       "      <td>2193006.0</td>\n",
       "      <td>2101669.0</td>\n",
       "      <td>4294675.0</td>\n",
       "    </tr>\n",
       "    <tr>\n",
       "      <th>4</th>\n",
       "      <td>Myanmar</td>\n",
       "      <td>2015</td>\n",
       "      <td>30-34</td>\n",
       "      <td>2076476.0</td>\n",
       "      <td>2001417.0</td>\n",
       "      <td>4077893.0</td>\n",
       "    </tr>\n",
       "    <tr>\n",
       "      <th>5</th>\n",
       "      <td>Myanmar</td>\n",
       "      <td>2015</td>\n",
       "      <td>35-39</td>\n",
       "      <td>2008285.0</td>\n",
       "      <td>1872498.0</td>\n",
       "      <td>3880783.0</td>\n",
       "    </tr>\n",
       "    <tr>\n",
       "      <th>6</th>\n",
       "      <td>Myanmar</td>\n",
       "      <td>2015</td>\n",
       "      <td>40-44</td>\n",
       "      <td>1882127.0</td>\n",
       "      <td>1701604.0</td>\n",
       "      <td>3583731.0</td>\n",
       "    </tr>\n",
       "    <tr>\n",
       "      <th>7</th>\n",
       "      <td>Myanmar</td>\n",
       "      <td>2015</td>\n",
       "      <td>45-49</td>\n",
       "      <td>1700927.0</td>\n",
       "      <td>1489300.0</td>\n",
       "      <td>3190227.0</td>\n",
       "    </tr>\n",
       "    <tr>\n",
       "      <th>8</th>\n",
       "      <td>Myanmar</td>\n",
       "      <td>2015</td>\n",
       "      <td>50-54</td>\n",
       "      <td>1455573.0</td>\n",
       "      <td>1225762.0</td>\n",
       "      <td>2681335.0</td>\n",
       "    </tr>\n",
       "    <tr>\n",
       "      <th>9</th>\n",
       "      <td>Myanmar</td>\n",
       "      <td>2015</td>\n",
       "      <td>55-59</td>\n",
       "      <td>1241131.0</td>\n",
       "      <td>999603.0</td>\n",
       "      <td>2240734.0</td>\n",
       "    </tr>\n",
       "    <tr>\n",
       "      <th>10</th>\n",
       "      <td>Myanmar</td>\n",
       "      <td>2015</td>\n",
       "      <td>60-64</td>\n",
       "      <td>1016023.0</td>\n",
       "      <td>763698.0</td>\n",
       "      <td>1779721.0</td>\n",
       "    </tr>\n",
       "    <tr>\n",
       "      <th>11</th>\n",
       "      <td>Myanmar</td>\n",
       "      <td>2015</td>\n",
       "      <td>65-69</td>\n",
       "      <td>627281.0</td>\n",
       "      <td>478555.0</td>\n",
       "      <td>1105836.0</td>\n",
       "    </tr>\n",
       "  </tbody>\n",
       "</table>\n",
       "</div>"
      ],
      "text/plain": [
       "    Country  Year    Age     Female       Male      Total\n",
       "0   Myanmar  2015  10-14  2588926.0  2604586.0  5193512.0\n",
       "1   Myanmar  2015  15-19  2490373.0  2475952.0  4966325.0\n",
       "2   Myanmar  2015  20-24  2328369.0  2279718.0  4608087.0\n",
       "3   Myanmar  2015  25-29  2193006.0  2101669.0  4294675.0\n",
       "4   Myanmar  2015  30-34  2076476.0  2001417.0  4077893.0\n",
       "5   Myanmar  2015  35-39  2008285.0  1872498.0  3880783.0\n",
       "6   Myanmar  2015  40-44  1882127.0  1701604.0  3583731.0\n",
       "7   Myanmar  2015  45-49  1700927.0  1489300.0  3190227.0\n",
       "8   Myanmar  2015  50-54  1455573.0  1225762.0  2681335.0\n",
       "9   Myanmar  2015  55-59  1241131.0   999603.0  2240734.0\n",
       "10  Myanmar  2015  60-64  1016023.0   763698.0  1779721.0\n",
       "11  Myanmar  2015  65-69   627281.0   478555.0  1105836.0"
      ]
     },
     "execution_count": 8,
     "metadata": {},
     "output_type": "execute_result"
    }
   ],
   "source": [
    "#group can be 'all', 'females' or 'males'\n",
    "df = pop_df(year=2015, group='all', age_lower=10, age_upper=65, location='myanmar')\n",
    "df"
   ]
  },
  {
   "cell_type": "markdown",
   "metadata": {},
   "source": [
    "A dataframe is returned with the above format. The returned dataframe are used to construct some of our visualizations."
   ]
  },
  {
   "cell_type": "markdown",
   "metadata": {
    "slideshow": {
     "slide_type": "slide"
    }
   },
   "source": [
    "### [#A] Population Statistics"
   ]
  },
  {
   "cell_type": "code",
   "execution_count": 10,
   "metadata": {},
   "outputs": [],
   "source": [
    "def pop_stats(year='2021', group='all', age_lower=0, age_upper=100, location='world'):\n",
    "    df = pop_df(year, group, age_lower, age_upper, location)\n",
    "    inputs = list_of_age_inputs(age_lower, age_upper);\n",
    "    total = df.sum()[3]\n",
    "    t = total.astype(int)\n",
    "    age_l = inputs[0][0:2]\n",
    "    \n",
    "    if group == 'people':\n",
    "        g = 'people'\n",
    "    else:\n",
    "        g = group\n",
    "        \n",
    "    if age_upper >= 80:\n",
    "        age_h = '80 or over'\n",
    "    else:\n",
    "        age_h = inputs[-1][2:4]\n",
    "    \n",
    "    if location == 'world':\n",
    "        loc = 'the world'\n",
    "    else:\n",
    "        loc = iso3166.countries.get(location).apolitical_name\n",
    "    \n",
    "    if year > 2021:\n",
    "        print(\"By estimation, in {}, there will be {} {} aged {} to aged {} living in {}.\".format(year, t, g, age_l, age_h, loc))\n",
    "    else:\n",
    "        print(\"In {}, there are {} {} aged {} to aged {} living in {}.\".format(year, t, g, age_l, age_h, loc))\n",
    "        "
   ]
  },
  {
   "cell_type": "markdown",
   "metadata": {},
   "source": [
    "Our **pop_stats** function takes in the year, target group, age lower/upper bounds and the country as arguments. The function returns a summary containing the information we need."
   ]
  },
  {
   "cell_type": "markdown",
   "metadata": {},
   "source": [
    "Function call and output:"
   ]
  },
  {
   "cell_type": "code",
   "execution_count": 12,
   "metadata": {},
   "outputs": [
    {
     "name": "stdout",
     "output_type": "stream",
     "text": [
      "In 2021, there are 2341749700 males aged 10 to aged 49 living in the world.\n"
     ]
    }
   ],
   "source": [
    "pop_stats(year=2021, group='males', age_lower=10, age_upper=45, location='world')"
   ]
  },
  {
   "cell_type": "markdown",
   "metadata": {
    "slideshow": {
     "slide_type": "slide"
    }
   },
   "source": [
    "### [#B] Population Pyramids"
   ]
  },
  {
   "cell_type": "code",
   "execution_count": 14,
   "metadata": {},
   "outputs": [],
   "source": [
    "def draw_pop_pyramid(df):\n",
    "    #negate values under 'Male'\n",
    "    df['Male'] = df['Male'].apply(lambda x: -x)\n",
    "    #remove unnecessary columns\n",
    "    df.drop(columns = ['Country', 'Year', 'Total'])\n",
    "\n",
    "    AgeClass = df['Age'][::-1]\n",
    "    bar_plot = sns.barplot(x='Female', y='Age', data=df, order=AgeClass)\n",
    "    bar_plot = sns.barplot(x='Male', y='Age', data=df, order=AgeClass)\n",
    "    bar_plot.set(xlabel=\"Population (millions)\", ylabel=\"Age-Group\", title = \"Population Pyramid\")"
   ]
  },
  {
   "cell_type": "markdown",
   "metadata": {},
   "source": [
    "**draw_pop_pyramid** function call and output:"
   ]
  },
  {
   "cell_type": "code",
   "execution_count": 15,
   "metadata": {
    "scrolled": true
   },
   "outputs": [
    {
     "data": {
      "image/png": "[encoded data removed]",
      "text/plain": [
       "<Figure size 432x288 with 1 Axes>"
      ]
     },
     "metadata": {
      "needs_background": "light"
     },
     "output_type": "display_data"
    }
   ],
   "source": [
    "df = pop_df(year=2018, group='all', age_lower=0, age_upper=80, location='BRN')\n",
    "draw_pop_pyramid(df)"
   ]
  },
  {
   "cell_type": "markdown",
   "metadata": {
    "slideshow": {
     "slide_type": "slide"
    }
   },
   "source": [
    "### [#C] Animated Population Pyramids"
   ]
  },
  {
   "cell_type": "code",
   "execution_count": null,
   "metadata": {},
   "outputs": [],
   "source": []
  },
  {
   "cell_type": "markdown",
   "metadata": {
    "slideshow": {
     "slide_type": "slide"
    }
   },
   "source": [
    "### [#C] Population Maps"
   ]
  },
  {
   "cell_type": "code",
   "execution_count": 31,
   "metadata": {
    "scrolled": false
   },
   "outputs": [],
   "source": [
    "#A function that draws a geopanda graph, accepting a query_dictionary, the year and the title as arguments\n",
    "\n",
    "def draw_geopanda_sea(indi_dict, year, title):\n",
    "    countries = ['Myanmar', 'Thailand', 'Vietnam', 'Cambodia', 'Malaysia', 'Indonesia', \n",
    "                 \"Philippines\", \"Brunei\"]\n",
    "    countries_iso3166 = ['MMR', 'THA', \"VNM\", 'KHM', 'MYS', 'IDN', 'PHL', 'BRN']\n",
    "    \n",
    "    df = wbdata.get_dataframe(indicators=indi_dict, country=countries_iso3166)\n",
    "    df.reset_index(inplace=True)\n",
    "    df['date'] = df['date'].astype(int)\n",
    "    df = df[df['date'] == year]\n",
    "    df = df.sort_values(by=['country'])\n",
    "\n",
    "    world = geopandas.read_file(geopandas.datasets.get_path('naturalearth_lowres'))\n",
    "    world = world[world['name'].isin(countries)]\n",
    "    world = world.sort_values(by=['name'])\n",
    "    world['data_column'] = df['data_column'].values\n",
    "\n",
    "    graph = geopandas.GeoDataFrame.plot(world, 'data_column', cmap='Spectral', figsize=(14, 14), legend=True, \n",
    "                                        legend_kwds={'shrink': 0.65})\n",
    "    \n",
    "    graph.set_title(title, size=25, pad=20);\n",
    "\n",
    "    world.apply(lambda x: graph.annotate(text=x['name'], xy=x.geometry.centroid.coords[0], \n",
    "                                         ha='center'),axis=1);"
   ]
  },
  {
   "cell_type": "markdown",
   "metadata": {},
   "source": [
    "**draw_geopanda_sea** function call and output:"
   ]
  },
  {
   "cell_type": "code",
   "execution_count": 18,
   "metadata": {},
   "outputs": [
    {
     "data": {
      "image/png": "[encoded data removed]",
      "text/plain": [
       "<Figure size 1008x1008 with 2 Axes>"
      ]
     },
     "metadata": {
      "needs_background": "light"
     },
     "output_type": "display_data"
    }
   ],
   "source": [
    "#indicator: Population Growth Rate (%)\n",
    "indi_dict = {'SP.POP.GROW': 'data_column'}\n",
    "draw_geopanda_sea(indi_dict, 2019, 'Population Growth Rate 2019 (%)')"
   ]
  },
  {
   "cell_type": "code",
   "execution_count": 19,
   "metadata": {
    "scrolled": false
   },
   "outputs": [
    {
     "data": {
      "image/png": "[encoded data removed]",
      "text/plain": [
       "<Figure size 1008x1008 with 2 Axes>"
      ]
     },
     "metadata": {
      "needs_background": "light"
     },
     "output_type": "display_data"
    }
   ],
   "source": [
    "#indicator: GDP per capita growth (annual %)\n",
    "indi_dict = {'NY.GDP.PCAP.KD.ZG': 'data_column'}\n",
    "draw_geopanda_sea(indi_dict, 2019, 'GDP per capita growth 2019 (%)')"
   ]
  },
  {
   "cell_type": "markdown",
   "metadata": {},
   "source": [
    "**Correlation Calculation**"
   ]
  },
  {
   "cell_type": "code",
   "execution_count": 119,
   "metadata": {},
   "outputs": [],
   "source": [
    "def get_correlation_sea(two_indicators_dict):\n",
    "    countries_iso3166 = ['MMR', 'THA', \"VNM\", 'KHM', 'MYS', 'IDN', 'PHL', 'BRN']\n",
    "    df = wbdata.get_dataframe(two_indicators_dict, country=countries_iso3166)\n",
    "    df.reset_index(inplace=True)\n",
    "    df['date'] = df['date'].astype(int)\n",
    "    df = df[df['date'] == year]\n",
    "    df = df.sort_values(by=['country'])\n",
    "    df = df[['gdpppc', 'pop_growth']]\n",
    "    return df.corr()"
   ]
  },
  {
   "cell_type": "code",
   "execution_count": 120,
   "metadata": {},
   "outputs": [
    {
     "data": {
      "text/html": [
       "<div>\n",
       "<style scoped>\n",
       "    .dataframe tbody tr th:only-of-type {\n",
       "        vertical-align: middle;\n",
       "    }\n",
       "\n",
       "    .dataframe tbody tr th {\n",
       "        vertical-align: top;\n",
       "    }\n",
       "\n",
       "    .dataframe thead th {\n",
       "        text-align: right;\n",
       "    }\n",
       "</style>\n",
       "<table border=\"1\" class=\"dataframe\">\n",
       "  <thead>\n",
       "    <tr style=\"text-align: right;\">\n",
       "      <th></th>\n",
       "      <th>gdpppc</th>\n",
       "      <th>pop_growth</th>\n",
       "    </tr>\n",
       "  </thead>\n",
       "  <tbody>\n",
       "    <tr>\n",
       "      <th>gdpppc</th>\n",
       "      <td>1.000000</td>\n",
       "      <td>0.028363</td>\n",
       "    </tr>\n",
       "    <tr>\n",
       "      <th>pop_growth</th>\n",
       "      <td>0.028363</td>\n",
       "      <td>1.000000</td>\n",
       "    </tr>\n",
       "  </tbody>\n",
       "</table>\n",
       "</div>"
      ],
      "text/plain": [
       "              gdpppc  pop_growth\n",
       "gdpppc      1.000000    0.028363\n",
       "pop_growth  0.028363    1.000000"
      ]
     },
     "execution_count": 120,
     "metadata": {},
     "output_type": "execute_result"
    }
   ],
   "source": [
    "two_indicators_dict = {'NY.GDP.PCAP.KD.ZG': 'gdpppc', 'SP.POP.GROW': 'pop_growth'}    \n",
    "get_correlation_sea(two_indicators_dict)"
   ]
  },
  {
   "cell_type": "markdown",
   "metadata": {
    "slideshow": {
     "slide_type": "slide"
    }
   },
   "source": [
    "### [#C] Other Visualization Tools"
   ]
  },
  {
   "cell_type": "code",
   "execution_count": 199,
   "metadata": {},
   "outputs": [
    {
     "data": {
      "application/vnd.plotly.v1+json": {
       "config": {
        "linkText": "Export to plot.ly",
        "plotlyServerURL": "https://plot.ly",
        "showLink": true
       },
       "data": [
        {
         "line": {
          "color": "rgba(255, 153, 51, 1.0)",
          "dash": "solid",
          "shape": "linear",
          "width": 1.3
         },
         "mode": "lines",
         "name": "Brunei Darussalam",
         "text": "",
         "type": "scatter",
         "x": [
          "1960",
          "1961",
          "1962",
          "1963",
          "1964",
          "1965",
          "1966",
          "1967",
          "1968",
          "1969",
          "1970",
          "1971",
          "1972",
          "1973",
          "1974",
          "1975",
          "1976",
          "1977",
          "1978",
          "1979",
          "1980",
          "1981",
          "1982",
          "1983",
          "1984",
          "1985",
          "1986",
          "1987",
          "1988",
          "1989",
          "1990",
          "1991",
          "1992",
          "1993",
          "1994",
          "1995",
          "1996",
          "1997",
          "1998",
          "1999",
          "2000",
          "2001",
          "2002",
          "2003",
          "2004",
          "2005",
          "2006",
          "2007",
          "2008",
          "2009",
          "2010",
          "2011",
          "2012",
          "2013",
          "2014",
          "2015",
          "2016",
          "2017",
          "2018",
          "2019",
          "2020"
         ],
         "y": [
          81702,
          85562,
          89481,
          93540,
          97812,
          102386,
          107274,
          112448,
          117898,
          123600,
          129529,
          135671,
          142022,
          148512,
          155072,
          161626,
          168181,
          174714,
          181205,
          187604,
          193879,
          200021,
          206065,
          212076,
          218175,
          224449,
          230915,
          237563,
          244404,
          251458,
          258721,
          266210,
          273892,
          281681,
          289454,
          297114,
          304622,
          311958,
          319144,
          326210,
          333165,
          340034,
          346782,
          353293,
          359433,
          365114,
          370263,
          374965,
          379421,
          383906,
          388646,
          393688,
          398989,
          404421,
          409769,
          414907,
          419800,
          424473,
          428962,
          433285,
          ""
         ]
        },
        {
         "line": {
          "color": "rgba(55, 128, 191, 1.0)",
          "dash": "solid",
          "shape": "linear",
          "width": 1.3
         },
         "mode": "lines",
         "name": "Cambodia",
         "text": "",
         "type": "scatter",
         "x": [
          "1960",
          "1961",
          "1962",
          "1963",
          "1964",
          "1965",
          "1966",
          "1967",
          "1968",
          "1969",
          "1970",
          "1971",
          "1972",
          "1973",
          "1974",
          "1975",
          "1976",
          "1977",
          "1978",
          "1979",
          "1980",
          "1981",
          "1982",
          "1983",
          "1984",
          "1985",
          "1986",
          "1987",
          "1988",
          "1989",
          "1990",
          "1991",
          "1992",
          "1993",
          "1994",
          "1995",
          "1996",
          "1997",
          "1998",
          "1999",
          "2000",
          "2001",
          "2002",
          "2003",
          "2004",
          "2005",
          "2006",
          "2007",
          "2008",
          "2009",
          "2010",
          "2011",
          "2012",
          "2013",
          "2014",
          "2015",
          "2016",
          "2017",
          "2018",
          "2019",
          "2020"
         ],
         "y": [
          5722370,
          5872966,
          6028431,
          6183584,
          6331449,
          6467197,
          6585035,
          6685960,
          6779787,
          6880623,
          6996576,
          7139647,
          7302111,
          7449238,
          7533336,
          7524447,
          7404684,
          7196042,
          6957265,
          6770396,
          6693764,
          6749847,
          6919801,
          7169997,
          7447853,
          7714880,
          7960949,
          8198082,
          8435912,
          8691334,
          8975597,
          9289299,
          9623889,
          9970733,
          10317899,
          10656138,
          10982917,
          11298600,
          11600508,
          11886458,
          12155239,
          12405408,
          12637727,
          12856163,
          13066469,
          13273354,
          13477709,
          13679962,
          13883834,
          14093604,
          14312212,
          14541423,
          14780454,
          15026332,
          15274503,
          15521436,
          15766293,
          16009414,
          16249798,
          16486542,
          ""
         ]
        },
        {
         "line": {
          "color": "rgba(50, 171, 96, 1.0)",
          "dash": "solid",
          "shape": "linear",
          "width": 1.3
         },
         "mode": "lines",
         "name": "Indonesia",
         "text": "",
         "type": "scatter",
         "x": [
          "1960",
          "1961",
          "1962",
          "1963",
          "1964",
          "1965",
          "1966",
          "1967",
          "1968",
          "1969",
          "1970",
          "1971",
          "1972",
          "1973",
          "1974",
          "1975",
          "1976",
          "1977",
          "1978",
          "1979",
          "1980",
          "1981",
          "1982",
          "1983",
          "1984",
          "1985",
          "1986",
          "1987",
          "1988",
          "1989",
          "1990",
          "1991",
          "1992",
          "1993",
          "1994",
          "1995",
          "1996",
          "1997",
          "1998",
          "1999",
          "2000",
          "2001",
          "2002",
          "2003",
          "2004",
          "2005",
          "2006",
          "2007",
          "2008",
          "2009",
          "2010",
          "2011",
          "2012",
          "2013",
          "2014",
          "2015",
          "2016",
          "2017",
          "2018",
          "2019",
          "2020"
         ],
         "y": [
          87751068,
          90098394,
          92518377,
          95015297,
          97596733,
          100267062,
          103025426,
          105865571,
          108779924,
          111758563,
          114793178,
          117880144,
          121017314,
          124199687,
          127422211,
          130680727,
          133966941,
          137278058,
          140621730,
          144009845,
          147447836,
          150938232,
          154468229,
          158009246,
          161523347,
          164982451,
          168374287,
          171702763,
          174975954,
          178209150,
          181413402,
          184591903,
          187739786,
          190851175,
          193917462,
          196934260,
          199901228,
          202826446,
          205724592,
          208615169,
          211513823,
          214427417,
          217357793,
          220309469,
          223285676,
          226289470,
          229318262,
          232374245,
          235469762,
          238620563,
          241834215,
          245116206,
          248452413,
          251806402,
          255129004,
          258383256,
          261554226,
          264645886,
          267663435,
          270625568,
          ""
         ]
        },
        {
         "line": {
          "color": "rgba(128, 0, 128, 1.0)",
          "dash": "solid",
          "shape": "linear",
          "width": 1.3
         },
         "mode": "lines",
         "name": "Lao PDR",
         "text": "",
         "type": "scatter",
         "x": [
          "1960",
          "1961",
          "1962",
          "1963",
          "1964",
          "1965",
          "1966",
          "1967",
          "1968",
          "1969",
          "1970",
          "1971",
          "1972",
          "1973",
          "1974",
          "1975",
          "1976",
          "1977",
          "1978",
          "1979",
          "1980",
          "1981",
          "1982",
          "1983",
          "1984",
          "1985",
          "1986",
          "1987",
          "1988",
          "1989",
          "1990",
          "1991",
          "1992",
          "1993",
          "1994",
          "1995",
          "1996",
          "1997",
          "1998",
          "1999",
          "2000",
          "2001",
          "2002",
          "2003",
          "2004",
          "2005",
          "2006",
          "2007",
          "2008",
          "2009",
          "2010",
          "2011",
          "2012",
          "2013",
          "2014",
          "2015",
          "2016",
          "2017",
          "2018",
          "2019",
          "2020"
         ],
         "y": [
          2120898,
          2170344,
          2221125,
          2273351,
          2327137,
          2382594,
          2439196,
          2496920,
          2556852,
          2620434,
          2688428,
          2762265,
          2840841,
          2919287,
          2990965,
          3051577,
          3098973,
          3135842,
          3168843,
          3207328,
          3258144,
          3323366,
          3401191,
          3489903,
          3586316,
          3687898,
          3794198,
          3905530,
          4020811,
          4138845,
          4258472,
          4379236,
          4500351,
          4619944,
          4735845,
          4846483,
          4951195,
          5050315,
          5144602,
          5235346,
          5323700,
          5409582,
          5493246,
          5576640,
          5662208,
          5751676,
          5846074,
          5944948,
          6046620,
          6148623,
          6249165,
          6347567,
          6444530,
          6541304,
          6639756,
          6741164,
          6845846,
          6953035,
          7061507,
          7169455,
          ""
         ]
        },
        {
         "line": {
          "color": "rgba(219, 64, 82, 1.0)",
          "dash": "solid",
          "shape": "linear",
          "width": 1.3
         },
         "mode": "lines",
         "name": "Malaysia",
         "text": "",
         "type": "scatter",
         "x": [
          "1960",
          "1961",
          "1962",
          "1963",
          "1964",
          "1965",
          "1966",
          "1967",
          "1968",
          "1969",
          "1970",
          "1971",
          "1972",
          "1973",
          "1974",
          "1975",
          "1976",
          "1977",
          "1978",
          "1979",
          "1980",
          "1981",
          "1982",
          "1983",
          "1984",
          "1985",
          "1986",
          "1987",
          "1988",
          "1989",
          "1990",
          "1991",
          "1992",
          "1993",
          "1994",
          "1995",
          "1996",
          "1997",
          "1998",
          "1999",
          "2000",
          "2001",
          "2002",
          "2003",
          "2004",
          "2005",
          "2006",
          "2007",
          "2008",
          "2009",
          "2010",
          "2011",
          "2012",
          "2013",
          "2014",
          "2015",
          "2016",
          "2017",
          "2018",
          "2019",
          "2020"
         ],
         "y": [
          8156347,
          8417824,
          8692342,
          8973788,
          9253842,
          9526558,
          9790084,
          10046325,
          10297983,
          10549399,
          10804131,
          11062433,
          11324277,
          11592638,
          11871104,
          12162187,
          12468689,
          12790312,
          13122839,
          13460031,
          13798085,
          14134058,
          14471211,
          14819424,
          15192298,
          15598927,
          16043731,
          16522000,
          17022465,
          17528961,
          18029824,
          18519937,
          19002656,
          19484898,
          19977500,
          20487607,
          21017613,
          21562793,
          22114654,
          22661298,
          23194257,
          23709119,
          24208391,
          24698819,
          25190652,
          25690611,
          26201961,
          26720370,
          27236006,
          27735040,
          28208035,
          28650955,
          29068159,
          29468872,
          29866559,
          30270962,
          30684804,
          31105028,
          31528585,
          31949777,
          ""
         ]
        },
        {
         "line": {
          "color": "rgba(0, 128, 128, 1.0)",
          "dash": "solid",
          "shape": "linear",
          "width": 1.3
         },
         "mode": "lines",
         "name": "Myanmar",
         "text": "",
         "type": "scatter",
         "x": [
          "1960",
          "1961",
          "1962",
          "1963",
          "1964",
          "1965",
          "1966",
          "1967",
          "1968",
          "1969",
          "1970",
          "1971",
          "1972",
          "1973",
          "1974",
          "1975",
          "1976",
          "1977",
          "1978",
          "1979",
          "1980",
          "1981",
          "1982",
          "1983",
          "1984",
          "1985",
          "1986",
          "1987",
          "1988",
          "1989",
          "1990",
          "1991",
          "1992",
          "1993",
          "1994",
          "1995",
          "1996",
          "1997",
          "1998",
          "1999",
          "2000",
          "2001",
          "2002",
          "2003",
          "2004",
          "2005",
          "2006",
          "2007",
          "2008",
          "2009",
          "2010",
          "2011",
          "2012",
          "2013",
          "2014",
          "2015",
          "2016",
          "2017",
          "2018",
          "2019",
          "2020"
         ],
         "y": [
          21736942,
          22211624,
          22697667,
          23198241,
          23717788,
          24259359,
          24823940,
          25410060,
          26015248,
          26635849,
          27269069,
          27913750,
          28570097,
          29238168,
          29918461,
          30611095,
          31314341,
          32026742,
          32748784,
          33481396,
          34224313,
          34976462,
          35734272,
          36491800,
          37241527,
          37977086,
          38698482,
          39404335,
          40085651,
          40731426,
          41335199,
          41890197,
          42401684,
          42890002,
          43383428,
          43901598,
          44452206,
          45027233,
          45611220,
          46181077,
          46719701,
          47225120,
          47702171,
          48148902,
          48564484,
          48949924,
          49301050,
          49621475,
          49929642,
          50250367,
          50600818,
          50990615,
          51413698,
          51852451,
          52280807,
          52680726,
          53045226,
          53382581,
          53708395,
          54045420,
          ""
         ]
        },
        {
         "line": {
          "color": "rgba(255, 255, 51, 1.0)",
          "dash": "solid",
          "shape": "linear",
          "width": 1.3
         },
         "mode": "lines",
         "name": "Philippines",
         "text": "",
         "type": "scatter",
         "x": [
          "1960",
          "1961",
          "1962",
          "1963",
          "1964",
          "1965",
          "1966",
          "1967",
          "1968",
          "1969",
          "1970",
          "1971",
          "1972",
          "1973",
          "1974",
          "1975",
          "1976",
          "1977",
          "1978",
          "1979",
          "1980",
          "1981",
          "1982",
          "1983",
          "1984",
          "1985",
          "1986",
          "1987",
          "1988",
          "1989",
          "1990",
          "1991",
          "1992",
          "1993",
          "1994",
          "1995",
          "1996",
          "1997",
          "1998",
          "1999",
          "2000",
          "2001",
          "2002",
          "2003",
          "2004",
          "2005",
          "2006",
          "2007",
          "2008",
          "2009",
          "2010",
          "2011",
          "2012",
          "2013",
          "2014",
          "2015",
          "2016",
          "2017",
          "2018",
          "2019",
          "2020"
         ],
         "y": [
          26269734,
          27161047,
          28077339,
          29012625,
          29958688,
          30909988,
          31864182,
          32823968,
          33795194,
          34786305,
          35803594,
          36849675,
          37923396,
          39022767,
          40144248,
          41285742,
          42446653,
          43629412,
          44838483,
          46079850,
          47357743,
          48672838,
          50023563,
          51408912,
          52827040,
          54275822,
          55755355,
          57263836,
          58795001,
          60340767,
          61895160,
          63454786,
          65020116,
          66593904,
          68180859,
          69784088,
          71401749,
          73030884,
          74672014,
          76325927,
          77991755,
          79672873,
          81365258,
          83051971,
          84710542,
          86326250,
          87888675,
          89405482,
          90901965,
          92414158,
          93966780,
          95570047,
          97212638,
          98871552,
          100513138,
          102113212,
          103663927,
          105173264,
          106651922,
          108116615,
          ""
         ]
        },
        {
         "line": {
          "color": "rgba(128, 128, 0, 1.0)",
          "dash": "solid",
          "shape": "linear",
          "width": 1.3
         },
         "mode": "lines",
         "name": "Singapore",
         "text": "",
         "type": "scatter",
         "x": [
          "1960",
          "1961",
          "1962",
          "1963",
          "1964",
          "1965",
          "1966",
          "1967",
          "1968",
          "1969",
          "1970",
          "1971",
          "1972",
          "1973",
          "1974",
          "1975",
          "1976",
          "1977",
          "1978",
          "1979",
          "1980",
          "1981",
          "1982",
          "1983",
          "1984",
          "1985",
          "1986",
          "1987",
          "1988",
          "1989",
          "1990",
          "1991",
          "1992",
          "1993",
          "1994",
          "1995",
          "1996",
          "1997",
          "1998",
          "1999",
          "2000",
          "2001",
          "2002",
          "2003",
          "2004",
          "2005",
          "2006",
          "2007",
          "2008",
          "2009",
          "2010",
          "2011",
          "2012",
          "2013",
          "2014",
          "2015",
          "2016",
          "2017",
          "2018",
          "2019",
          "2020"
         ],
         "y": [
          1646400,
          1702400,
          1750200,
          1795000,
          1841600,
          1886900,
          1934400,
          1977600,
          2012000,
          2042500,
          2074507,
          2112900,
          2152400,
          2193000,
          2229800,
          2262600,
          2293300,
          2325300,
          2353600,
          2383500,
          2413945,
          2532835,
          2646466,
          2681061,
          2732221,
          2735957,
          2733373,
          2774789,
          2846108,
          2930901,
          3047132,
          3135083,
          3230698,
          3313471,
          3419048,
          3524506,
          3670704,
          3796038,
          3927213,
          3958723,
          4027887,
          4138012,
          4175950,
          4114826,
          4166664,
          4265762,
          4401365,
          4588599,
          4839396,
          4987573,
          5076732,
          5183688,
          5312437,
          5399162,
          5469724,
          5535002,
          5607283,
          5612253,
          5638676,
          5703569,
          ""
         ]
        },
        {
         "line": {
          "color": "rgba(251, 128, 114, 1.0)",
          "dash": "solid",
          "shape": "linear",
          "width": 1.3
         },
         "mode": "lines",
         "name": "Thailand",
         "text": "",
         "type": "scatter",
         "x": [
          "1960",
          "1961",
          "1962",
          "1963",
          "1964",
          "1965",
          "1966",
          "1967",
          "1968",
          "1969",
          "1970",
          "1971",
          "1972",
          "1973",
          "1974",
          "1975",
          "1976",
          "1977",
          "1978",
          "1979",
          "1980",
          "1981",
          "1982",
          "1983",
          "1984",
          "1985",
          "1986",
          "1987",
          "1988",
          "1989",
          "1990",
          "1991",
          "1992",
          "1993",
          "1994",
          "1995",
          "1996",
          "1997",
          "1998",
          "1999",
          "2000",
          "2001",
          "2002",
          "2003",
          "2004",
          "2005",
          "2006",
          "2007",
          "2008",
          "2009",
          "2010",
          "2011",
          "2012",
          "2013",
          "2014",
          "2015",
          "2016",
          "2017",
          "2018",
          "2019",
          "2020"
         ],
         "y": [
          27397207,
          28224187,
          29080938,
          29966865,
          30881138,
          31822660,
          32789130,
          33778799,
          34791409,
          35827092,
          36884536,
          37963278,
          39058603,
          40159582,
          41252324,
          42326312,
          43377271,
          44405904,
          45413080,
          46401754,
          47374472,
          48326274,
          49255900,
          50173924,
          51094868,
          52026901,
          52980094,
          53945881,
          54891520,
          55772169,
          56558186,
          57232465,
          57811021,
          58337773,
          58875269,
          59467274,
          60130186,
          60846582,
          61585103,
          62298571,
          62952642,
          63539196,
          64069087,
          64549866,
          64995299,
          65416189,
          65812536,
          66182067,
          66530984,
          66866839,
          67195028,
          67518382,
          67835957,
          68144501,
          68438730,
          68714511,
          68971331,
          69209858,
          69428524,
          69625582,
          ""
         ]
        },
        {
         "line": {
          "color": "rgba(128, 177, 211, 1.0)",
          "dash": "solid",
          "shape": "linear",
          "width": 1.3
         },
         "mode": "lines",
         "name": "Vietnam",
         "text": "",
         "type": "scatter",
         "x": [
          "1960",
          "1961",
          "1962",
          "1963",
          "1964",
          "1965",
          "1966",
          "1967",
          "1968",
          "1969",
          "1970",
          "1971",
          "1972",
          "1973",
          "1974",
          "1975",
          "1976",
          "1977",
          "1978",
          "1979",
          "1980",
          "1981",
          "1982",
          "1983",
          "1984",
          "1985",
          "1986",
          "1987",
          "1988",
          "1989",
          "1990",
          "1991",
          "1992",
          "1993",
          "1994",
          "1995",
          "1996",
          "1997",
          "1998",
          "1999",
          "2000",
          "2001",
          "2002",
          "2003",
          "2004",
          "2005",
          "2006",
          "2007",
          "2008",
          "2009",
          "2010",
          "2011",
          "2012",
          "2013",
          "2014",
          "2015",
          "2016",
          "2017",
          "2018",
          "2019",
          "2020"
         ],
         "y": [
          32670039,
          33666110,
          34683407,
          35721217,
          36779999,
          37858951,
          38958048,
          40072948,
          41193601,
          42307146,
          43404793,
          44484035,
          45548479,
          46603525,
          47657561,
          48718189,
          49785282,
          50861162,
          51959015,
          53095408,
          54281846,
          55522803,
          56814306,
          58148384,
          59512619,
          60896721,
          62293856,
          63701972,
          65120439,
          66550234,
          67988862,
          69436954,
          70883481,
          72300308,
          73651218,
          74910461,
          76068743,
          77133214,
          78115710,
          79035871,
          79910412,
          80742499,
          81534407,
          82301656,
          83062821,
          83832661,
          84617540,
          85419591,
          86243413,
          87092252,
          87967651,
          88871561,
          89802487,
          90753472,
          91714595,
          92677076,
          93638724,
          94596642,
          95540395,
          96462106,
          ""
         ]
        }
       ],
       "layout": {
        "legend": {
         "bgcolor": "#F5F6F9",
         "font": {
          "color": "#4D5663"
         }
        },
        "paper_bgcolor": "#F5F6F9",
        "plot_bgcolor": "#F5F6F9",
        "template": {
         "data": {
          "bar": [
           {
            "error_x": {
             "color": "#2a3f5f"
            },
            "error_y": {
             "color": "#2a3f5f"
            },
            "marker": {
             "line": {
              "color": "#E5ECF6",
              "width": 0.5
             }
            },
            "type": "bar"
           }
          ],
          "barpolar": [
           {
            "marker": {
             "line": {
              "color": "#E5ECF6",
              "width": 0.5
             }
            },
            "type": "barpolar"
           }
          ],
          "carpet": [
           {
            "aaxis": {
             "endlinecolor": "#2a3f5f",
             "gridcolor": "white",
             "linecolor": "white",
             "minorgridcolor": "white",
             "startlinecolor": "#2a3f5f"
            },
            "baxis": {
             "endlinecolor": "#2a3f5f",
             "gridcolor": "white",
             "linecolor": "white",
             "minorgridcolor": "white",
             "startlinecolor": "#2a3f5f"
            },
            "type": "carpet"
           }
          ],
          "choropleth": [
           {
            "colorbar": {
             "outlinewidth": 0,
             "ticks": ""
            },
            "type": "choropleth"
           }
          ],
          "contour": [
           {
            "colorbar": {
             "outlinewidth": 0,
             "ticks": ""
            },
            "colorscale": [
             [
              0,
              "#0d0887"
             ],
             [
              0.1111111111111111,
              "#46039f"
             ],
             [
              0.2222222222222222,
              "#7201a8"
             ],
             [
              0.3333333333333333,
              "#9c179e"
             ],
             [
              0.4444444444444444,
              "#bd3786"
             ],
             [
              0.5555555555555556,
              "#d8576b"
             ],
             [
              0.6666666666666666,
              "#ed7953"
             ],
             [
              0.7777777777777778,
              "#fb9f3a"
             ],
             [
              0.8888888888888888,
              "#fdca26"
             ],
             [
              1,
              "#f0f921"
             ]
            ],
            "type": "contour"
           }
          ],
          "contourcarpet": [
           {
            "colorbar": {
             "outlinewidth": 0,
             "ticks": ""
            },
            "type": "contourcarpet"
           }
          ],
          "heatmap": [
           {
            "colorbar": {
             "outlinewidth": 0,
             "ticks": ""
            },
            "colorscale": [
             [
              0,
              "#0d0887"
             ],
             [
              0.1111111111111111,
              "#46039f"
             ],
             [
              0.2222222222222222,
              "#7201a8"
             ],
             [
              0.3333333333333333,
              "#9c179e"
             ],
             [
              0.4444444444444444,
              "#bd3786"
             ],
             [
              0.5555555555555556,
              "#d8576b"
             ],
             [
              0.6666666666666666,
              "#ed7953"
             ],
             [
              0.7777777777777778,
              "#fb9f3a"
             ],
             [
              0.8888888888888888,
              "#fdca26"
             ],
             [
              1,
              "#f0f921"
             ]
            ],
            "type": "heatmap"
           }
          ],
          "heatmapgl": [
           {
            "colorbar": {
             "outlinewidth": 0,
             "ticks": ""
            },
            "colorscale": [
             [
              0,
              "#0d0887"
             ],
             [
              0.1111111111111111,
              "#46039f"
             ],
             [
              0.2222222222222222,
              "#7201a8"
             ],
             [
              0.3333333333333333,
              "#9c179e"
             ],
             [
              0.4444444444444444,
              "#bd3786"
             ],
             [
              0.5555555555555556,
              "#d8576b"
             ],
             [
              0.6666666666666666,
              "#ed7953"
             ],
             [
              0.7777777777777778,
              "#fb9f3a"
             ],
             [
              0.8888888888888888,
              "#fdca26"
             ],
             [
              1,
              "#f0f921"
             ]
            ],
            "type": "heatmapgl"
           }
          ],
          "histogram": [
           {
            "marker": {
             "colorbar": {
              "outlinewidth": 0,
              "ticks": ""
             }
            },
            "type": "histogram"
           }
          ],
          "histogram2d": [
           {
            "colorbar": {
             "outlinewidth": 0,
             "ticks": ""
            },
            "colorscale": [
             [
              0,
              "#0d0887"
             ],
             [
              0.1111111111111111,
              "#46039f"
             ],
             [
              0.2222222222222222,
              "#7201a8"
             ],
             [
              0.3333333333333333,
              "#9c179e"
             ],
             [
              0.4444444444444444,
              "#bd3786"
             ],
             [
              0.5555555555555556,
              "#d8576b"
             ],
             [
              0.6666666666666666,
              "#ed7953"
             ],
             [
              0.7777777777777778,
              "#fb9f3a"
             ],
             [
              0.8888888888888888,
              "#fdca26"
             ],
             [
              1,
              "#f0f921"
             ]
            ],
            "type": "histogram2d"
           }
          ],
          "histogram2dcontour": [
           {
            "colorbar": {
             "outlinewidth": 0,
             "ticks": ""
            },
            "colorscale": [
             [
              0,
              "#0d0887"
             ],
             [
              0.1111111111111111,
              "#46039f"
             ],
             [
              0.2222222222222222,
              "#7201a8"
             ],
             [
              0.3333333333333333,
              "#9c179e"
             ],
             [
              0.4444444444444444,
              "#bd3786"
             ],
             [
              0.5555555555555556,
              "#d8576b"
             ],
             [
              0.6666666666666666,
              "#ed7953"
             ],
             [
              0.7777777777777778,
              "#fb9f3a"
             ],
             [
              0.8888888888888888,
              "#fdca26"
             ],
             [
              1,
              "#f0f921"
             ]
            ],
            "type": "histogram2dcontour"
           }
          ],
          "mesh3d": [
           {
            "colorbar": {
             "outlinewidth": 0,
             "ticks": ""
            },
            "type": "mesh3d"
           }
          ],
          "parcoords": [
           {
            "line": {
             "colorbar": {
              "outlinewidth": 0,
              "ticks": ""
             }
            },
            "type": "parcoords"
           }
          ],
          "pie": [
           {
            "automargin": true,
            "type": "pie"
           }
          ],
          "scatter": [
           {
            "marker": {
             "colorbar": {
              "outlinewidth": 0,
              "ticks": ""
             }
            },
            "type": "scatter"
           }
          ],
          "scatter3d": [
           {
            "line": {
             "colorbar": {
              "outlinewidth": 0,
              "ticks": ""
             }
            },
            "marker": {
             "colorbar": {
              "outlinewidth": 0,
              "ticks": ""
             }
            },
            "type": "scatter3d"
           }
          ],
          "scattercarpet": [
           {
            "marker": {
             "colorbar": {
              "outlinewidth": 0,
              "ticks": ""
             }
            },
            "type": "scattercarpet"
           }
          ],
          "scattergeo": [
           {
            "marker": {
             "colorbar": {
              "outlinewidth": 0,
              "ticks": ""
             }
            },
            "type": "scattergeo"
           }
          ],
          "scattergl": [
           {
            "marker": {
             "colorbar": {
              "outlinewidth": 0,
              "ticks": ""
             }
            },
            "type": "scattergl"
           }
          ],
          "scattermapbox": [
           {
            "marker": {
             "colorbar": {
              "outlinewidth": 0,
              "ticks": ""
             }
            },
            "type": "scattermapbox"
           }
          ],
          "scatterpolar": [
           {
            "marker": {
             "colorbar": {
              "outlinewidth": 0,
              "ticks": ""
             }
            },
            "type": "scatterpolar"
           }
          ],
          "scatterpolargl": [
           {
            "marker": {
             "colorbar": {
              "outlinewidth": 0,
              "ticks": ""
             }
            },
            "type": "scatterpolargl"
           }
          ],
          "scatterternary": [
           {
            "marker": {
             "colorbar": {
              "outlinewidth": 0,
              "ticks": ""
             }
            },
            "type": "scatterternary"
           }
          ],
          "surface": [
           {
            "colorbar": {
             "outlinewidth": 0,
             "ticks": ""
            },
            "colorscale": [
             [
              0,
              "#0d0887"
             ],
             [
              0.1111111111111111,
              "#46039f"
             ],
             [
              0.2222222222222222,
              "#7201a8"
             ],
             [
              0.3333333333333333,
              "#9c179e"
             ],
             [
              0.4444444444444444,
              "#bd3786"
             ],
             [
              0.5555555555555556,
              "#d8576b"
             ],
             [
              0.6666666666666666,
              "#ed7953"
             ],
             [
              0.7777777777777778,
              "#fb9f3a"
             ],
             [
              0.8888888888888888,
              "#fdca26"
             ],
             [
              1,
              "#f0f921"
             ]
            ],
            "type": "surface"
           }
          ],
          "table": [
           {
            "cells": {
             "fill": {
              "color": "#EBF0F8"
             },
             "line": {
              "color": "white"
             }
            },
            "header": {
             "fill": {
              "color": "#C8D4E3"
             },
             "line": {
              "color": "white"
             }
            },
            "type": "table"
           }
          ]
         },
         "layout": {
          "annotationdefaults": {
           "arrowcolor": "#2a3f5f",
           "arrowhead": 0,
           "arrowwidth": 1
          },
          "autotypenumbers": "strict",
          "coloraxis": {
           "colorbar": {
            "outlinewidth": 0,
            "ticks": ""
           }
          },
          "colorscale": {
           "diverging": [
            [
             0,
             "#8e0152"
            ],
            [
             0.1,
             "#c51b7d"
            ],
            [
             0.2,
             "#de77ae"
            ],
            [
             0.3,
             "#f1b6da"
            ],
            [
             0.4,
             "#fde0ef"
            ],
            [
             0.5,
             "#f7f7f7"
            ],
            [
             0.6,
             "#e6f5d0"
            ],
            [
             0.7,
             "#b8e186"
            ],
            [
             0.8,
             "#7fbc41"
            ],
            [
             0.9,
             "#4d9221"
            ],
            [
             1,
             "#276419"
            ]
           ],
           "sequential": [
            [
             0,
             "#0d0887"
            ],
            [
             0.1111111111111111,
             "#46039f"
            ],
            [
             0.2222222222222222,
             "#7201a8"
            ],
            [
             0.3333333333333333,
             "#9c179e"
            ],
            [
             0.4444444444444444,
             "#bd3786"
            ],
            [
             0.5555555555555556,
             "#d8576b"
            ],
            [
             0.6666666666666666,
             "#ed7953"
            ],
            [
             0.7777777777777778,
             "#fb9f3a"
            ],
            [
             0.8888888888888888,
             "#fdca26"
            ],
            [
             1,
             "#f0f921"
            ]
           ],
           "sequentialminus": [
            [
             0,
             "#0d0887"
            ],
            [
             0.1111111111111111,
             "#46039f"
            ],
            [
             0.2222222222222222,
             "#7201a8"
            ],
            [
             0.3333333333333333,
             "#9c179e"
            ],
            [
             0.4444444444444444,
             "#bd3786"
            ],
            [
             0.5555555555555556,
             "#d8576b"
            ],
            [
             0.6666666666666666,
             "#ed7953"
            ],
            [
             0.7777777777777778,
             "#fb9f3a"
            ],
            [
             0.8888888888888888,
             "#fdca26"
            ],
            [
             1,
             "#f0f921"
            ]
           ]
          },
          "colorway": [
           "#636efa",
           "#EF553B",
           "#00cc96",
           "#ab63fa",
           "#FFA15A",
           "#19d3f3",
           "#FF6692",
           "#B6E880",
           "#FF97FF",
           "#FECB52"
          ],
          "font": {
           "color": "#2a3f5f"
          },
          "geo": {
           "bgcolor": "white",
           "lakecolor": "white",
           "landcolor": "#E5ECF6",
           "showlakes": true,
           "showland": true,
           "subunitcolor": "white"
          },
          "hoverlabel": {
           "align": "left"
          },
          "hovermode": "closest",
          "mapbox": {
           "style": "light"
          },
          "paper_bgcolor": "white",
          "plot_bgcolor": "#E5ECF6",
          "polar": {
           "angularaxis": {
            "gridcolor": "white",
            "linecolor": "white",
            "ticks": ""
           },
           "bgcolor": "#E5ECF6",
           "radialaxis": {
            "gridcolor": "white",
            "linecolor": "white",
            "ticks": ""
           }
          },
          "scene": {
           "xaxis": {
            "backgroundcolor": "#E5ECF6",
            "gridcolor": "white",
            "gridwidth": 2,
            "linecolor": "white",
            "showbackground": true,
            "ticks": "",
            "zerolinecolor": "white"
           },
           "yaxis": {
            "backgroundcolor": "#E5ECF6",
            "gridcolor": "white",
            "gridwidth": 2,
            "linecolor": "white",
            "showbackground": true,
            "ticks": "",
            "zerolinecolor": "white"
           },
           "zaxis": {
            "backgroundcolor": "#E5ECF6",
            "gridcolor": "white",
            "gridwidth": 2,
            "linecolor": "white",
            "showbackground": true,
            "ticks": "",
            "zerolinecolor": "white"
           }
          },
          "shapedefaults": {
           "line": {
            "color": "#2a3f5f"
           }
          },
          "ternary": {
           "aaxis": {
            "gridcolor": "white",
            "linecolor": "white",
            "ticks": ""
           },
           "baxis": {
            "gridcolor": "white",
            "linecolor": "white",
            "ticks": ""
           },
           "bgcolor": "#E5ECF6",
           "caxis": {
            "gridcolor": "white",
            "linecolor": "white",
            "ticks": ""
           }
          },
          "title": {
           "x": 0.05
          },
          "xaxis": {
           "automargin": true,
           "gridcolor": "white",
           "linecolor": "white",
           "ticks": "",
           "title": {
            "standoff": 15
           },
           "zerolinecolor": "white",
           "zerolinewidth": 2
          },
          "yaxis": {
           "automargin": true,
           "gridcolor": "white",
           "linecolor": "white",
           "ticks": "",
           "title": {
            "standoff": 15
           },
           "zerolinecolor": "white",
           "zerolinewidth": 2
          }
         }
        },
        "title": {
         "font": {
          "color": "#4D5663"
         },
         "text": "Population of Southeast Asian Countries Over Time (1961-2020)"
        },
        "xaxis": {
         "gridcolor": "#E1E5ED",
         "showgrid": true,
         "tickfont": {
          "color": "#4D5663"
         },
         "title": {
          "font": {
           "color": "#4D5663"
          },
          "text": "Year"
         },
         "zerolinecolor": "#E1E5ED"
        },
        "yaxis": {
         "gridcolor": "#E1E5ED",
         "showgrid": true,
         "tickfont": {
          "color": "#4D5663"
         },
         "title": {
          "font": {
           "color": "#4D5663"
          },
          "text": "Population"
         },
         "zerolinecolor": "#E1E5ED"
        }
       }
      },
      "text/html": [
       "<div>                            <div id=\"34341bcb-cf1b-4536-90c3-2bb5d1a3062c\" class=\"plotly-graph-div\" style=\"height:525px; width:100%;\"></div>            <script type=\"text/javascript\">                require([\"plotly\"], function(Plotly) {                    window.PLOTLYENV=window.PLOTLYENV || {};\n",
       "                    window.PLOTLYENV.BASE_URL='https://plot.ly';                                    if (document.getElementById(\"34341bcb-cf1b-4536-90c3-2bb5d1a3062c\")) {                    Plotly.newPlot(                        \"34341bcb-cf1b-4536-90c3-2bb5d1a3062c\",                        [{\"line\": {\"color\": \"rgba(255, 153, 51, 1.0)\", \"dash\": \"solid\", \"shape\": \"linear\", \"width\": 1.3}, \"mode\": \"lines\", \"name\": \"Brunei Darussalam\", \"text\": \"\", \"type\": \"scatter\", \"x\": [\"1960\", \"1961\", \"1962\", \"1963\", \"1964\", \"1965\", \"1966\", \"1967\", \"1968\", \"1969\", \"1970\", \"1971\", \"1972\", \"1973\", \"1974\", \"1975\", \"1976\", \"1977\", \"1978\", \"1979\", \"1980\", \"1981\", \"1982\", \"1983\", \"1984\", \"1985\", \"1986\", \"1987\", \"1988\", \"1989\", \"1990\", \"1991\", \"1992\", \"1993\", \"1994\", \"1995\", \"1996\", \"1997\", \"1998\", \"1999\", \"2000\", \"2001\", \"2002\", \"2003\", \"2004\", \"2005\", \"2006\", \"2007\", \"2008\", \"2009\", \"2010\", \"2011\", \"2012\", \"2013\", \"2014\", \"2015\", \"2016\", \"2017\", \"2018\", \"2019\", \"2020\"], \"y\": [81702.0, 85562.0, 89481.0, 93540.0, 97812.0, 102386.0, 107274.0, 112448.0, 117898.0, 123600.0, 129529.0, 135671.0, 142022.0, 148512.0, 155072.0, 161626.0, 168181.0, 174714.0, 181205.0, 187604.0, 193879.0, 200021.0, 206065.0, 212076.0, 218175.0, 224449.0, 230915.0, 237563.0, 244404.0, 251458.0, 258721.0, 266210.0, 273892.0, 281681.0, 289454.0, 297114.0, 304622.0, 311958.0, 319144.0, 326210.0, 333165.0, 340034.0, 346782.0, 353293.0, 359433.0, 365114.0, 370263.0, 374965.0, 379421.0, 383906.0, 388646.0, 393688.0, 398989.0, 404421.0, 409769.0, 414907.0, 419800.0, 424473.0, 428962.0, 433285.0, \"\"]}, {\"line\": {\"color\": \"rgba(55, 128, 191, 1.0)\", \"dash\": \"solid\", \"shape\": \"linear\", \"width\": 1.3}, \"mode\": \"lines\", \"name\": \"Cambodia\", \"text\": \"\", \"type\": \"scatter\", \"x\": [\"1960\", \"1961\", \"1962\", \"1963\", \"1964\", \"1965\", \"1966\", \"1967\", \"1968\", \"1969\", \"1970\", \"1971\", \"1972\", \"1973\", \"1974\", \"1975\", \"1976\", \"1977\", \"1978\", \"1979\", \"1980\", \"1981\", \"1982\", \"1983\", \"1984\", \"1985\", \"1986\", \"1987\", \"1988\", \"1989\", \"1990\", \"1991\", \"1992\", \"1993\", \"1994\", \"1995\", \"1996\", \"1997\", \"1998\", \"1999\", \"2000\", \"2001\", \"2002\", \"2003\", \"2004\", \"2005\", \"2006\", \"2007\", \"2008\", \"2009\", \"2010\", \"2011\", \"2012\", \"2013\", \"2014\", \"2015\", \"2016\", \"2017\", \"2018\", \"2019\", \"2020\"], \"y\": [5722370.0, 5872966.0, 6028431.0, 6183584.0, 6331449.0, 6467197.0, 6585035.0, 6685960.0, 6779787.0, 6880623.0, 6996576.0, 7139647.0, 7302111.0, 7449238.0, 7533336.0, 7524447.0, 7404684.0, 7196042.0, 6957265.0, 6770396.0, 6693764.0, 6749847.0, 6919801.0, 7169997.0, 7447853.0, 7714880.0, 7960949.0, 8198082.0, 8435912.0, 8691334.0, 8975597.0, 9289299.0, 9623889.0, 9970733.0, 10317899.0, 10656138.0, 10982917.0, 11298600.0, 11600508.0, 11886458.0, 12155239.0, 12405408.0, 12637727.0, 12856163.0, 13066469.0, 13273354.0, 13477709.0, 13679962.0, 13883834.0, 14093604.0, 14312212.0, 14541423.0, 14780454.0, 15026332.0, 15274503.0, 15521436.0, 15766293.0, 16009414.0, 16249798.0, 16486542.0, \"\"]}, {\"line\": {\"color\": \"rgba(50, 171, 96, 1.0)\", \"dash\": \"solid\", \"shape\": \"linear\", \"width\": 1.3}, \"mode\": \"lines\", \"name\": \"Indonesia\", \"text\": \"\", \"type\": \"scatter\", \"x\": [\"1960\", \"1961\", \"1962\", \"1963\", \"1964\", \"1965\", \"1966\", \"1967\", \"1968\", \"1969\", \"1970\", \"1971\", \"1972\", \"1973\", \"1974\", \"1975\", \"1976\", \"1977\", \"1978\", \"1979\", \"1980\", \"1981\", \"1982\", \"1983\", \"1984\", \"1985\", \"1986\", \"1987\", \"1988\", \"1989\", \"1990\", \"1991\", \"1992\", \"1993\", \"1994\", \"1995\", \"1996\", \"1997\", \"1998\", \"1999\", \"2000\", \"2001\", \"2002\", \"2003\", \"2004\", \"2005\", \"2006\", \"2007\", \"2008\", \"2009\", \"2010\", \"2011\", \"2012\", \"2013\", \"2014\", \"2015\", \"2016\", \"2017\", \"2018\", \"2019\", \"2020\"], \"y\": [87751068.0, 90098394.0, 92518377.0, 95015297.0, 97596733.0, 100267062.0, 103025426.0, 105865571.0, 108779924.0, 111758563.0, 114793178.0, 117880144.0, 121017314.0, 124199687.0, 127422211.0, 130680727.0, 133966941.0, 137278058.0, 140621730.0, 144009845.0, 147447836.0, 150938232.0, 154468229.0, 158009246.0, 161523347.0, 164982451.0, 168374287.0, 171702763.0, 174975954.0, 178209150.0, 181413402.0, 184591903.0, 187739786.0, 190851175.0, 193917462.0, 196934260.0, 199901228.0, 202826446.0, 205724592.0, 208615169.0, 211513823.0, 214427417.0, 217357793.0, 220309469.0, 223285676.0, 226289470.0, 229318262.0, 232374245.0, 235469762.0, 238620563.0, 241834215.0, 245116206.0, 248452413.0, 251806402.0, 255129004.0, 258383256.0, 261554226.0, 264645886.0, 267663435.0, 270625568.0, \"\"]}, {\"line\": {\"color\": \"rgba(128, 0, 128, 1.0)\", \"dash\": \"solid\", \"shape\": \"linear\", \"width\": 1.3}, \"mode\": \"lines\", \"name\": \"Lao PDR\", \"text\": \"\", \"type\": \"scatter\", \"x\": [\"1960\", \"1961\", \"1962\", \"1963\", \"1964\", \"1965\", \"1966\", \"1967\", \"1968\", \"1969\", \"1970\", \"1971\", \"1972\", \"1973\", \"1974\", \"1975\", \"1976\", \"1977\", \"1978\", \"1979\", \"1980\", \"1981\", \"1982\", \"1983\", \"1984\", \"1985\", \"1986\", \"1987\", \"1988\", \"1989\", \"1990\", \"1991\", \"1992\", \"1993\", \"1994\", \"1995\", \"1996\", \"1997\", \"1998\", \"1999\", \"2000\", \"2001\", \"2002\", \"2003\", \"2004\", \"2005\", \"2006\", \"2007\", \"2008\", \"2009\", \"2010\", \"2011\", \"2012\", \"2013\", \"2014\", \"2015\", \"2016\", \"2017\", \"2018\", \"2019\", \"2020\"], \"y\": [2120898.0, 2170344.0, 2221125.0, 2273351.0, 2327137.0, 2382594.0, 2439196.0, 2496920.0, 2556852.0, 2620434.0, 2688428.0, 2762265.0, 2840841.0, 2919287.0, 2990965.0, 3051577.0, 3098973.0, 3135842.0, 3168843.0, 3207328.0, 3258144.0, 3323366.0, 3401191.0, 3489903.0, 3586316.0, 3687898.0, 3794198.0, 3905530.0, 4020811.0, 4138845.0, 4258472.0, 4379236.0, 4500351.0, 4619944.0, 4735845.0, 4846483.0, 4951195.0, 5050315.0, 5144602.0, 5235346.0, 5323700.0, 5409582.0, 5493246.0, 5576640.0, 5662208.0, 5751676.0, 5846074.0, 5944948.0, 6046620.0, 6148623.0, 6249165.0, 6347567.0, 6444530.0, 6541304.0, 6639756.0, 6741164.0, 6845846.0, 6953035.0, 7061507.0, 7169455.0, \"\"]}, {\"line\": {\"color\": \"rgba(219, 64, 82, 1.0)\", \"dash\": \"solid\", \"shape\": \"linear\", \"width\": 1.3}, \"mode\": \"lines\", \"name\": \"Malaysia\", \"text\": \"\", \"type\": \"scatter\", \"x\": [\"1960\", \"1961\", \"1962\", \"1963\", \"1964\", \"1965\", \"1966\", \"1967\", \"1968\", \"1969\", \"1970\", \"1971\", \"1972\", \"1973\", \"1974\", \"1975\", \"1976\", \"1977\", \"1978\", \"1979\", \"1980\", \"1981\", \"1982\", \"1983\", \"1984\", \"1985\", \"1986\", \"1987\", \"1988\", \"1989\", \"1990\", \"1991\", \"1992\", \"1993\", \"1994\", \"1995\", \"1996\", \"1997\", \"1998\", \"1999\", \"2000\", \"2001\", \"2002\", \"2003\", \"2004\", \"2005\", \"2006\", \"2007\", \"2008\", \"2009\", \"2010\", \"2011\", \"2012\", \"2013\", \"2014\", \"2015\", \"2016\", \"2017\", \"2018\", \"2019\", \"2020\"], \"y\": [8156347.0, 8417824.0, 8692342.0, 8973788.0, 9253842.0, 9526558.0, 9790084.0, 10046325.0, 10297983.0, 10549399.0, 10804131.0, 11062433.0, 11324277.0, 11592638.0, 11871104.0, 12162187.0, 12468689.0, 12790312.0, 13122839.0, 13460031.0, 13798085.0, 14134058.0, 14471211.0, 14819424.0, 15192298.0, 15598927.0, 16043731.0, 16522000.0, 17022465.0, 17528961.0, 18029824.0, 18519937.0, 19002656.0, 19484898.0, 19977500.0, 20487607.0, 21017613.0, 21562793.0, 22114654.0, 22661298.0, 23194257.0, 23709119.0, 24208391.0, 24698819.0, 25190652.0, 25690611.0, 26201961.0, 26720370.0, 27236006.0, 27735040.0, 28208035.0, 28650955.0, 29068159.0, 29468872.0, 29866559.0, 30270962.0, 30684804.0, 31105028.0, 31528585.0, 31949777.0, \"\"]}, {\"line\": {\"color\": \"rgba(0, 128, 128, 1.0)\", \"dash\": \"solid\", \"shape\": \"linear\", \"width\": 1.3}, \"mode\": \"lines\", \"name\": \"Myanmar\", \"text\": \"\", \"type\": \"scatter\", \"x\": [\"1960\", \"1961\", \"1962\", \"1963\", \"1964\", \"1965\", \"1966\", \"1967\", \"1968\", \"1969\", \"1970\", \"1971\", \"1972\", \"1973\", \"1974\", \"1975\", \"1976\", \"1977\", \"1978\", \"1979\", \"1980\", \"1981\", \"1982\", \"1983\", \"1984\", \"1985\", \"1986\", \"1987\", \"1988\", \"1989\", \"1990\", \"1991\", \"1992\", \"1993\", \"1994\", \"1995\", \"1996\", \"1997\", \"1998\", \"1999\", \"2000\", \"2001\", \"2002\", \"2003\", \"2004\", \"2005\", \"2006\", \"2007\", \"2008\", \"2009\", \"2010\", \"2011\", \"2012\", \"2013\", \"2014\", \"2015\", \"2016\", \"2017\", \"2018\", \"2019\", \"2020\"], \"y\": [21736942.0, 22211624.0, 22697667.0, 23198241.0, 23717788.0, 24259359.0, 24823940.0, 25410060.0, 26015248.0, 26635849.0, 27269069.0, 27913750.0, 28570097.0, 29238168.0, 29918461.0, 30611095.0, 31314341.0, 32026742.0, 32748784.0, 33481396.0, 34224313.0, 34976462.0, 35734272.0, 36491800.0, 37241527.0, 37977086.0, 38698482.0, 39404335.0, 40085651.0, 40731426.0, 41335199.0, 41890197.0, 42401684.0, 42890002.0, 43383428.0, 43901598.0, 44452206.0, 45027233.0, 45611220.0, 46181077.0, 46719701.0, 47225120.0, 47702171.0, 48148902.0, 48564484.0, 48949924.0, 49301050.0, 49621475.0, 49929642.0, 50250367.0, 50600818.0, 50990615.0, 51413698.0, 51852451.0, 52280807.0, 52680726.0, 53045226.0, 53382581.0, 53708395.0, 54045420.0, \"\"]}, {\"line\": {\"color\": \"rgba(255, 255, 51, 1.0)\", \"dash\": \"solid\", \"shape\": \"linear\", \"width\": 1.3}, \"mode\": \"lines\", \"name\": \"Philippines\", \"text\": \"\", \"type\": \"scatter\", \"x\": [\"1960\", \"1961\", \"1962\", \"1963\", \"1964\", \"1965\", \"1966\", \"1967\", \"1968\", \"1969\", \"1970\", \"1971\", \"1972\", \"1973\", \"1974\", \"1975\", \"1976\", \"1977\", \"1978\", \"1979\", \"1980\", \"1981\", \"1982\", \"1983\", \"1984\", \"1985\", \"1986\", \"1987\", \"1988\", \"1989\", \"1990\", \"1991\", \"1992\", \"1993\", \"1994\", \"1995\", \"1996\", \"1997\", \"1998\", \"1999\", \"2000\", \"2001\", \"2002\", \"2003\", \"2004\", \"2005\", \"2006\", \"2007\", \"2008\", \"2009\", \"2010\", \"2011\", \"2012\", \"2013\", \"2014\", \"2015\", \"2016\", \"2017\", \"2018\", \"2019\", \"2020\"], \"y\": [26269734.0, 27161047.0, 28077339.0, 29012625.0, 29958688.0, 30909988.0, 31864182.0, 32823968.0, 33795194.0, 34786305.0, 35803594.0, 36849675.0, 37923396.0, 39022767.0, 40144248.0, 41285742.0, 42446653.0, 43629412.0, 44838483.0, 46079850.0, 47357743.0, 48672838.0, 50023563.0, 51408912.0, 52827040.0, 54275822.0, 55755355.0, 57263836.0, 58795001.0, 60340767.0, 61895160.0, 63454786.0, 65020116.0, 66593904.0, 68180859.0, 69784088.0, 71401749.0, 73030884.0, 74672014.0, 76325927.0, 77991755.0, 79672873.0, 81365258.0, 83051971.0, 84710542.0, 86326250.0, 87888675.0, 89405482.0, 90901965.0, 92414158.0, 93966780.0, 95570047.0, 97212638.0, 98871552.0, 100513138.0, 102113212.0, 103663927.0, 105173264.0, 106651922.0, 108116615.0, \"\"]}, {\"line\": {\"color\": \"rgba(128, 128, 0, 1.0)\", \"dash\": \"solid\", \"shape\": \"linear\", \"width\": 1.3}, \"mode\": \"lines\", \"name\": \"Singapore\", \"text\": \"\", \"type\": \"scatter\", \"x\": [\"1960\", \"1961\", \"1962\", \"1963\", \"1964\", \"1965\", \"1966\", \"1967\", \"1968\", \"1969\", \"1970\", \"1971\", \"1972\", \"1973\", \"1974\", \"1975\", \"1976\", \"1977\", \"1978\", \"1979\", \"1980\", \"1981\", \"1982\", \"1983\", \"1984\", \"1985\", \"1986\", \"1987\", \"1988\", \"1989\", \"1990\", \"1991\", \"1992\", \"1993\", \"1994\", \"1995\", \"1996\", \"1997\", \"1998\", \"1999\", \"2000\", \"2001\", \"2002\", \"2003\", \"2004\", \"2005\", \"2006\", \"2007\", \"2008\", \"2009\", \"2010\", \"2011\", \"2012\", \"2013\", \"2014\", \"2015\", \"2016\", \"2017\", \"2018\", \"2019\", \"2020\"], \"y\": [1646400.0, 1702400.0, 1750200.0, 1795000.0, 1841600.0, 1886900.0, 1934400.0, 1977600.0, 2012000.0, 2042500.0, 2074507.0, 2112900.0, 2152400.0, 2193000.0, 2229800.0, 2262600.0, 2293300.0, 2325300.0, 2353600.0, 2383500.0, 2413945.0, 2532835.0, 2646466.0, 2681061.0, 2732221.0, 2735957.0, 2733373.0, 2774789.0, 2846108.0, 2930901.0, 3047132.0, 3135083.0, 3230698.0, 3313471.0, 3419048.0, 3524506.0, 3670704.0, 3796038.0, 3927213.0, 3958723.0, 4027887.0, 4138012.0, 4175950.0, 4114826.0, 4166664.0, 4265762.0, 4401365.0, 4588599.0, 4839396.0, 4987573.0, 5076732.0, 5183688.0, 5312437.0, 5399162.0, 5469724.0, 5535002.0, 5607283.0, 5612253.0, 5638676.0, 5703569.0, \"\"]}, {\"line\": {\"color\": \"rgba(251, 128, 114, 1.0)\", \"dash\": \"solid\", \"shape\": \"linear\", \"width\": 1.3}, \"mode\": \"lines\", \"name\": \"Thailand\", \"text\": \"\", \"type\": \"scatter\", \"x\": [\"1960\", \"1961\", \"1962\", \"1963\", \"1964\", \"1965\", \"1966\", \"1967\", \"1968\", \"1969\", \"1970\", \"1971\", \"1972\", \"1973\", \"1974\", \"1975\", \"1976\", \"1977\", \"1978\", \"1979\", \"1980\", \"1981\", \"1982\", \"1983\", \"1984\", \"1985\", \"1986\", \"1987\", \"1988\", \"1989\", \"1990\", \"1991\", \"1992\", \"1993\", \"1994\", \"1995\", \"1996\", \"1997\", \"1998\", \"1999\", \"2000\", \"2001\", \"2002\", \"2003\", \"2004\", \"2005\", \"2006\", \"2007\", \"2008\", \"2009\", \"2010\", \"2011\", \"2012\", \"2013\", \"2014\", \"2015\", \"2016\", \"2017\", \"2018\", \"2019\", \"2020\"], \"y\": [27397207.0, 28224187.0, 29080938.0, 29966865.0, 30881138.0, 31822660.0, 32789130.0, 33778799.0, 34791409.0, 35827092.0, 36884536.0, 37963278.0, 39058603.0, 40159582.0, 41252324.0, 42326312.0, 43377271.0, 44405904.0, 45413080.0, 46401754.0, 47374472.0, 48326274.0, 49255900.0, 50173924.0, 51094868.0, 52026901.0, 52980094.0, 53945881.0, 54891520.0, 55772169.0, 56558186.0, 57232465.0, 57811021.0, 58337773.0, 58875269.0, 59467274.0, 60130186.0, 60846582.0, 61585103.0, 62298571.0, 62952642.0, 63539196.0, 64069087.0, 64549866.0, 64995299.0, 65416189.0, 65812536.0, 66182067.0, 66530984.0, 66866839.0, 67195028.0, 67518382.0, 67835957.0, 68144501.0, 68438730.0, 68714511.0, 68971331.0, 69209858.0, 69428524.0, 69625582.0, \"\"]}, {\"line\": {\"color\": \"rgba(128, 177, 211, 1.0)\", \"dash\": \"solid\", \"shape\": \"linear\", \"width\": 1.3}, \"mode\": \"lines\", \"name\": \"Vietnam\", \"text\": \"\", \"type\": \"scatter\", \"x\": [\"1960\", \"1961\", \"1962\", \"1963\", \"1964\", \"1965\", \"1966\", \"1967\", \"1968\", \"1969\", \"1970\", \"1971\", \"1972\", \"1973\", \"1974\", \"1975\", \"1976\", \"1977\", \"1978\", \"1979\", \"1980\", \"1981\", \"1982\", \"1983\", \"1984\", \"1985\", \"1986\", \"1987\", \"1988\", \"1989\", \"1990\", \"1991\", \"1992\", \"1993\", \"1994\", \"1995\", \"1996\", \"1997\", \"1998\", \"1999\", \"2000\", \"2001\", \"2002\", \"2003\", \"2004\", \"2005\", \"2006\", \"2007\", \"2008\", \"2009\", \"2010\", \"2011\", \"2012\", \"2013\", \"2014\", \"2015\", \"2016\", \"2017\", \"2018\", \"2019\", \"2020\"], \"y\": [32670039.0, 33666110.0, 34683407.0, 35721217.0, 36779999.0, 37858951.0, 38958048.0, 40072948.0, 41193601.0, 42307146.0, 43404793.0, 44484035.0, 45548479.0, 46603525.0, 47657561.0, 48718189.0, 49785282.0, 50861162.0, 51959015.0, 53095408.0, 54281846.0, 55522803.0, 56814306.0, 58148384.0, 59512619.0, 60896721.0, 62293856.0, 63701972.0, 65120439.0, 66550234.0, 67988862.0, 69436954.0, 70883481.0, 72300308.0, 73651218.0, 74910461.0, 76068743.0, 77133214.0, 78115710.0, 79035871.0, 79910412.0, 80742499.0, 81534407.0, 82301656.0, 83062821.0, 83832661.0, 84617540.0, 85419591.0, 86243413.0, 87092252.0, 87967651.0, 88871561.0, 89802487.0, 90753472.0, 91714595.0, 92677076.0, 93638724.0, 94596642.0, 95540395.0, 96462106.0, \"\"]}],                        {\"legend\": {\"bgcolor\": \"#F5F6F9\", \"font\": {\"color\": \"#4D5663\"}}, \"paper_bgcolor\": \"#F5F6F9\", \"plot_bgcolor\": \"#F5F6F9\", \"template\": {\"data\": {\"bar\": [{\"error_x\": {\"color\": \"#2a3f5f\"}, \"error_y\": {\"color\": \"#2a3f5f\"}, \"marker\": {\"line\": {\"color\": \"#E5ECF6\", \"width\": 0.5}}, \"type\": \"bar\"}], \"barpolar\": [{\"marker\": {\"line\": {\"color\": \"#E5ECF6\", \"width\": 0.5}}, \"type\": \"barpolar\"}], \"carpet\": [{\"aaxis\": {\"endlinecolor\": \"#2a3f5f\", \"gridcolor\": \"white\", \"linecolor\": \"white\", \"minorgridcolor\": \"white\", \"startlinecolor\": \"#2a3f5f\"}, \"baxis\": {\"endlinecolor\": \"#2a3f5f\", \"gridcolor\": \"white\", \"linecolor\": \"white\", \"minorgridcolor\": \"white\", \"startlinecolor\": \"#2a3f5f\"}, \"type\": \"carpet\"}], \"choropleth\": [{\"colorbar\": {\"outlinewidth\": 0, \"ticks\": \"\"}, \"type\": \"choropleth\"}], \"contour\": [{\"colorbar\": {\"outlinewidth\": 0, \"ticks\": \"\"}, \"colorscale\": [[0.0, \"#0d0887\"], [0.1111111111111111, \"#46039f\"], [0.2222222222222222, \"#7201a8\"], [0.3333333333333333, \"#9c179e\"], [0.4444444444444444, \"#bd3786\"], [0.5555555555555556, \"#d8576b\"], [0.6666666666666666, \"#ed7953\"], [0.7777777777777778, \"#fb9f3a\"], [0.8888888888888888, \"#fdca26\"], [1.0, \"#f0f921\"]], \"type\": \"contour\"}], \"contourcarpet\": [{\"colorbar\": {\"outlinewidth\": 0, \"ticks\": \"\"}, \"type\": \"contourcarpet\"}], \"heatmap\": [{\"colorbar\": {\"outlinewidth\": 0, \"ticks\": \"\"}, \"colorscale\": [[0.0, \"#0d0887\"], [0.1111111111111111, \"#46039f\"], [0.2222222222222222, \"#7201a8\"], [0.3333333333333333, \"#9c179e\"], [0.4444444444444444, \"#bd3786\"], [0.5555555555555556, \"#d8576b\"], [0.6666666666666666, \"#ed7953\"], [0.7777777777777778, \"#fb9f3a\"], [0.8888888888888888, \"#fdca26\"], [1.0, \"#f0f921\"]], \"type\": \"heatmap\"}], \"heatmapgl\": [{\"colorbar\": {\"outlinewidth\": 0, \"ticks\": \"\"}, \"colorscale\": [[0.0, \"#0d0887\"], [0.1111111111111111, \"#46039f\"], [0.2222222222222222, \"#7201a8\"], [0.3333333333333333, \"#9c179e\"], [0.4444444444444444, \"#bd3786\"], [0.5555555555555556, \"#d8576b\"], [0.6666666666666666, \"#ed7953\"], [0.7777777777777778, \"#fb9f3a\"], [0.8888888888888888, \"#fdca26\"], [1.0, \"#f0f921\"]], \"type\": \"heatmapgl\"}], \"histogram\": [{\"marker\": {\"colorbar\": {\"outlinewidth\": 0, \"ticks\": \"\"}}, \"type\": \"histogram\"}], \"histogram2d\": [{\"colorbar\": {\"outlinewidth\": 0, \"ticks\": \"\"}, \"colorscale\": [[0.0, \"#0d0887\"], [0.1111111111111111, \"#46039f\"], [0.2222222222222222, \"#7201a8\"], [0.3333333333333333, \"#9c179e\"], [0.4444444444444444, \"#bd3786\"], [0.5555555555555556, \"#d8576b\"], [0.6666666666666666, \"#ed7953\"], [0.7777777777777778, \"#fb9f3a\"], [0.8888888888888888, \"#fdca26\"], [1.0, \"#f0f921\"]], \"type\": \"histogram2d\"}], \"histogram2dcontour\": [{\"colorbar\": {\"outlinewidth\": 0, \"ticks\": \"\"}, \"colorscale\": [[0.0, \"#0d0887\"], [0.1111111111111111, \"#46039f\"], [0.2222222222222222, \"#7201a8\"], [0.3333333333333333, \"#9c179e\"], [0.4444444444444444, \"#bd3786\"], [0.5555555555555556, \"#d8576b\"], [0.6666666666666666, \"#ed7953\"], [0.7777777777777778, \"#fb9f3a\"], [0.8888888888888888, \"#fdca26\"], [1.0, \"#f0f921\"]], \"type\": \"histogram2dcontour\"}], \"mesh3d\": [{\"colorbar\": {\"outlinewidth\": 0, \"ticks\": \"\"}, \"type\": \"mesh3d\"}], \"parcoords\": [{\"line\": {\"colorbar\": {\"outlinewidth\": 0, \"ticks\": \"\"}}, \"type\": \"parcoords\"}], \"pie\": [{\"automargin\": true, \"type\": \"pie\"}], \"scatter\": [{\"marker\": {\"colorbar\": {\"outlinewidth\": 0, \"ticks\": \"\"}}, \"type\": \"scatter\"}], \"scatter3d\": [{\"line\": {\"colorbar\": {\"outlinewidth\": 0, \"ticks\": \"\"}}, \"marker\": {\"colorbar\": {\"outlinewidth\": 0, \"ticks\": \"\"}}, \"type\": \"scatter3d\"}], \"scattercarpet\": [{\"marker\": {\"colorbar\": {\"outlinewidth\": 0, \"ticks\": \"\"}}, \"type\": \"scattercarpet\"}], \"scattergeo\": [{\"marker\": {\"colorbar\": {\"outlinewidth\": 0, \"ticks\": \"\"}}, \"type\": \"scattergeo\"}], \"scattergl\": [{\"marker\": {\"colorbar\": {\"outlinewidth\": 0, \"ticks\": \"\"}}, \"type\": \"scattergl\"}], \"scattermapbox\": [{\"marker\": {\"colorbar\": {\"outlinewidth\": 0, \"ticks\": \"\"}}, \"type\": \"scattermapbox\"}], \"scatterpolar\": [{\"marker\": {\"colorbar\": {\"outlinewidth\": 0, \"ticks\": \"\"}}, \"type\": \"scatterpolar\"}], \"scatterpolargl\": [{\"marker\": {\"colorbar\": {\"outlinewidth\": 0, \"ticks\": \"\"}}, \"type\": \"scatterpolargl\"}], \"scatterternary\": [{\"marker\": {\"colorbar\": {\"outlinewidth\": 0, \"ticks\": \"\"}}, \"type\": \"scatterternary\"}], \"surface\": [{\"colorbar\": {\"outlinewidth\": 0, \"ticks\": \"\"}, \"colorscale\": [[0.0, \"#0d0887\"], [0.1111111111111111, \"#46039f\"], [0.2222222222222222, \"#7201a8\"], [0.3333333333333333, \"#9c179e\"], [0.4444444444444444, \"#bd3786\"], [0.5555555555555556, \"#d8576b\"], [0.6666666666666666, \"#ed7953\"], [0.7777777777777778, \"#fb9f3a\"], [0.8888888888888888, \"#fdca26\"], [1.0, \"#f0f921\"]], \"type\": \"surface\"}], \"table\": [{\"cells\": {\"fill\": {\"color\": \"#EBF0F8\"}, \"line\": {\"color\": \"white\"}}, \"header\": {\"fill\": {\"color\": \"#C8D4E3\"}, \"line\": {\"color\": \"white\"}}, \"type\": \"table\"}]}, \"layout\": {\"annotationdefaults\": {\"arrowcolor\": \"#2a3f5f\", \"arrowhead\": 0, \"arrowwidth\": 1}, \"autotypenumbers\": \"strict\", \"coloraxis\": {\"colorbar\": {\"outlinewidth\": 0, \"ticks\": \"\"}}, \"colorscale\": {\"diverging\": [[0, \"#8e0152\"], [0.1, \"#c51b7d\"], [0.2, \"#de77ae\"], [0.3, \"#f1b6da\"], [0.4, \"#fde0ef\"], [0.5, \"#f7f7f7\"], [0.6, \"#e6f5d0\"], [0.7, \"#b8e186\"], [0.8, \"#7fbc41\"], [0.9, \"#4d9221\"], [1, \"#276419\"]], \"sequential\": [[0.0, \"#0d0887\"], [0.1111111111111111, \"#46039f\"], [0.2222222222222222, \"#7201a8\"], [0.3333333333333333, \"#9c179e\"], [0.4444444444444444, \"#bd3786\"], [0.5555555555555556, \"#d8576b\"], [0.6666666666666666, \"#ed7953\"], [0.7777777777777778, \"#fb9f3a\"], [0.8888888888888888, \"#fdca26\"], [1.0, \"#f0f921\"]], \"sequentialminus\": [[0.0, \"#0d0887\"], [0.1111111111111111, \"#46039f\"], [0.2222222222222222, \"#7201a8\"], [0.3333333333333333, \"#9c179e\"], [0.4444444444444444, \"#bd3786\"], [0.5555555555555556, \"#d8576b\"], [0.6666666666666666, \"#ed7953\"], [0.7777777777777778, \"#fb9f3a\"], [0.8888888888888888, \"#fdca26\"], [1.0, \"#f0f921\"]]}, \"colorway\": [\"#636efa\", \"#EF553B\", \"#00cc96\", \"#ab63fa\", \"#FFA15A\", \"#19d3f3\", \"#FF6692\", \"#B6E880\", \"#FF97FF\", \"#FECB52\"], \"font\": {\"color\": \"#2a3f5f\"}, \"geo\": {\"bgcolor\": \"white\", \"lakecolor\": \"white\", \"landcolor\": \"#E5ECF6\", \"showlakes\": true, \"showland\": true, \"subunitcolor\": \"white\"}, \"hoverlabel\": {\"align\": \"left\"}, \"hovermode\": \"closest\", \"mapbox\": {\"style\": \"light\"}, \"paper_bgcolor\": \"white\", \"plot_bgcolor\": \"#E5ECF6\", \"polar\": {\"angularaxis\": {\"gridcolor\": \"white\", \"linecolor\": \"white\", \"ticks\": \"\"}, \"bgcolor\": \"#E5ECF6\", \"radialaxis\": {\"gridcolor\": \"white\", \"linecolor\": \"white\", \"ticks\": \"\"}}, \"scene\": {\"xaxis\": {\"backgroundcolor\": \"#E5ECF6\", \"gridcolor\": \"white\", \"gridwidth\": 2, \"linecolor\": \"white\", \"showbackground\": true, \"ticks\": \"\", \"zerolinecolor\": \"white\"}, \"yaxis\": {\"backgroundcolor\": \"#E5ECF6\", \"gridcolor\": \"white\", \"gridwidth\": 2, \"linecolor\": \"white\", \"showbackground\": true, \"ticks\": \"\", \"zerolinecolor\": \"white\"}, \"zaxis\": {\"backgroundcolor\": \"#E5ECF6\", \"gridcolor\": \"white\", \"gridwidth\": 2, \"linecolor\": \"white\", \"showbackground\": true, \"ticks\": \"\", \"zerolinecolor\": \"white\"}}, \"shapedefaults\": {\"line\": {\"color\": \"#2a3f5f\"}}, \"ternary\": {\"aaxis\": {\"gridcolor\": \"white\", \"linecolor\": \"white\", \"ticks\": \"\"}, \"baxis\": {\"gridcolor\": \"white\", \"linecolor\": \"white\", \"ticks\": \"\"}, \"bgcolor\": \"#E5ECF6\", \"caxis\": {\"gridcolor\": \"white\", \"linecolor\": \"white\", \"ticks\": \"\"}}, \"title\": {\"x\": 0.05}, \"xaxis\": {\"automargin\": true, \"gridcolor\": \"white\", \"linecolor\": \"white\", \"ticks\": \"\", \"title\": {\"standoff\": 15}, \"zerolinecolor\": \"white\", \"zerolinewidth\": 2}, \"yaxis\": {\"automargin\": true, \"gridcolor\": \"white\", \"linecolor\": \"white\", \"ticks\": \"\", \"title\": {\"standoff\": 15}, \"zerolinecolor\": \"white\", \"zerolinewidth\": 2}}}, \"title\": {\"font\": {\"color\": \"#4D5663\"}, \"text\": \"Population of Southeast Asian Countries Over Time (1961-2020)\"}, \"xaxis\": {\"gridcolor\": \"#E1E5ED\", \"showgrid\": true, \"tickfont\": {\"color\": \"#4D5663\"}, \"title\": {\"font\": {\"color\": \"#4D5663\"}, \"text\": \"Year\"}, \"zerolinecolor\": \"#E1E5ED\"}, \"yaxis\": {\"gridcolor\": \"#E1E5ED\", \"showgrid\": true, \"tickfont\": {\"color\": \"#4D5663\"}, \"title\": {\"font\": {\"color\": \"#4D5663\"}, \"text\": \"Population\"}, \"zerolinecolor\": \"#E1E5ED\"}},                        {\"showLink\": true, \"linkText\": \"Export to plot.ly\", \"plotlyServerURL\": \"https://plot.ly\", \"responsive\": true}                    ).then(function(){\n",
       "                            \n",
       "var gd = document.getElementById('34341bcb-cf1b-4536-90c3-2bb5d1a3062c');\n",
       "var x = new MutationObserver(function (mutations, observer) {{\n",
       "        var display = window.getComputedStyle(gd).display;\n",
       "        if (!display || display === 'none') {{\n",
       "            console.log([gd, 'removed!']);\n",
       "            Plotly.purge(gd);\n",
       "            observer.disconnect();\n",
       "        }}\n",
       "}});\n",
       "\n",
       "// Listen for the removal of the full notebook cells\n",
       "var notebookContainer = gd.closest('#notebook-container');\n",
       "if (notebookContainer) {{\n",
       "    x.observe(notebookContainer, {childList: true});\n",
       "}}\n",
       "\n",
       "// Listen for the clearing of the current output cell\n",
       "var outputEl = gd.closest('.output');\n",
       "if (outputEl) {{\n",
       "    x.observe(outputEl, {childList: true});\n",
       "}}\n",
       "\n",
       "                        })                };                });            </script>        </div>"
      ]
     },
     "metadata": {},
     "output_type": "display_data"
    }
   ],
   "source": [
    "# Graphing Population of Southeast Asian Countries Over Time (1961-2020) using World Band data\n",
    "\n",
    "se_countries = {'BRN': 'Brunei Darussalam',\n",
    "                'KHM': 'Cambodia',\n",
    "                'IDN': 'Indonesia',\n",
    "                'LAO': 'Laos',\n",
    "                'MYS': 'Malaysia',\n",
    "                'MMR': 'Myanmar',\n",
    "                'PHL': 'Philippines',\n",
    "                'THA': 'Thailand',\n",
    "                'VNM': 'Viet Nam',\n",
    "                'SGP': 'Singapore',\n",
    "               }\n",
    "\n",
    "variable_labels = {\"SP.POP.TOTL\":\"World Population\"}\n",
    "se_population = wbdata.get_dataframe(variable_labels, country = se_countries).squeeze()\n",
    "\n",
    "se_population = se_population.unstack('country')\n",
    "\n",
    "\n",
    "se_population.iplot(title=\"Population of Southeast Asian Countries Over Time (1961-2020)\",xTitle='Year',yTitle='Population')"
   ]
  },
  {
   "cell_type": "code",
   "execution_count": 200,
   "metadata": {},
   "outputs": [
    {
     "data": {
      "application/vnd.plotly.v1+json": {
       "config": {
        "linkText": "Export to plot.ly",
        "plotlyServerURL": "https://plot.ly",
        "showLink": true
       },
       "data": [
        {
         "line": {
          "color": "rgba(255, 153, 51, 1.0)",
          "dash": "solid",
          "shape": "linear",
          "width": 1.3
         },
         "mode": "lines",
         "name": "Brunei Darussalam",
         "text": "",
         "type": "scatter",
         "x": [
          "1960",
          "1961",
          "1962",
          "1963",
          "1964",
          "1965",
          "1966",
          "1967",
          "1968",
          "1969",
          "1970",
          "1971",
          "1972",
          "1973",
          "1974",
          "1975",
          "1976",
          "1977",
          "1978",
          "1979",
          "1980",
          "1981",
          "1982",
          "1983",
          "1984",
          "1985",
          "1986",
          "1987",
          "1988",
          "1989",
          "1990",
          "1991",
          "1992",
          "1993",
          "1994",
          "1995",
          "1996",
          "1997",
          "1998",
          "1999",
          "2000",
          "2001",
          "2002",
          "2003",
          "2004",
          "2005",
          "2006",
          "2007",
          "2008",
          "2009",
          "2010",
          "2011",
          "2012",
          "2013",
          "2014",
          "2015",
          "2016",
          "2017",
          "2018",
          "2019",
          "2020"
         ],
         "y": [
          "",
          "",
          "",
          "",
          "",
          1113.82655495184,
          1237.5635792503,
          1236.3976733859,
          1364.05440765995,
          1304.29846027765,
          1382.54830429835,
          1455.8983072424,
          1906.87749660983,
          2916.20881530969,
          6923.08789234416,
          7228.442859782,
          8461.48706837051,
          9917.47175922488,
          10714.9400049998,
          14945.2037564138,
          25422.1703122437,
          21828.7772262731,
          20693.7244871696,
          18128.9874500249,
          17337.1059400151,
          15698.9452528874,
          10214.1169569813,
          11594.66515323,
          11009.3024303312,
          11872.6307346962,
          13607.5220957631,
          13905.0638689698,
          15274.4446317273,
          14575.7298211504,
          14120.8549888131,
          15933.3455733721,
          16793.2809740578,
          16660.3612477895,
          12693.7909769053,
          14101.345758867,
          18012.5562597047,
          16472.1486214944,
          16850.1511253805,
          18560.6085730701,
          21902.0880525832,
          26105.2790303114,
          30979.8791725798,
          32663.5665921613,
          37934.3765067984,
          27955.7138629359,
          35269.5531076448,
          47055.8411171808,
          47740.5149036597,
          44740.085018517,
          41726.7839720342,
          31164.5620291141,
          27157.8234104784,
          28572.1467776509,
          31628.3287914349,
          31086.7511188028,
          ""
         ]
        },
        {
         "line": {
          "color": "rgba(55, 128, 191, 1.0)",
          "dash": "solid",
          "shape": "linear",
          "width": 1.3
         },
         "mode": "lines",
         "name": "Cambodia",
         "text": "",
         "type": "scatter",
         "x": [
          "1960",
          "1961",
          "1962",
          "1963",
          "1964",
          "1965",
          "1966",
          "1967",
          "1968",
          "1969",
          "1970",
          "1971",
          "1972",
          "1973",
          "1974",
          "1975",
          "1976",
          "1977",
          "1978",
          "1979",
          "1980",
          "1981",
          "1982",
          "1983",
          "1984",
          "1985",
          "1986",
          "1987",
          "1988",
          "1989",
          "1990",
          "1991",
          "1992",
          "1993",
          "1994",
          "1995",
          "1996",
          "1997",
          "1998",
          "1999",
          "2000",
          "2001",
          "2002",
          "2003",
          "2004",
          "2005",
          "2006",
          "2007",
          "2008",
          "2009",
          "2010",
          "2011",
          "2012",
          "2013",
          "2014",
          "2015",
          "2016",
          "2017",
          "2018",
          "2019",
          "2020"
         ],
         "y": [
          111.342479726807,
          109.460387525777,
          109.481224645588,
          117.823488310801,
          123.645808182523,
          134.304155041423,
          138.842954408855,
          144.011799993675,
          157.189930682399,
          142.265203658792,
          102.678961498333,
          135.84865209641,
          69.2333273727387,
          94.358531165474,
          78.1119936359898,
          "",
          "",
          "",
          "",
          "",
          "",
          "",
          "",
          "",
          "",
          "",
          "",
          "",
          "",
          "",
          "",
          "",
          "",
          254.116481911776,
          270.542992547856,
          322.931787568498,
          319.286371696389,
          304.764607003602,
          268.990418573267,
          295.903327738886,
          302.577163565133,
          321.150301305966,
          338.987262704572,
          362.335707650169,
          408.513826347366,
          474.111227790099,
          539.750168717216,
          631.524842114382,
          745.609180660928,
          738.054783617506,
          785.502282874113,
          882.275492640073,
          950.880345993697,
          1013.4204006154,
          1093.49619050796,
          1162.90491997151,
          1269.59125737542,
          1385.2599796333,
          1512.12670972847,
          1643.12138876539,
          ""
         ]
        },
        {
         "line": {
          "color": "rgba(50, 171, 96, 1.0)",
          "dash": "solid",
          "shape": "linear",
          "width": 1.3
         },
         "mode": "lines",
         "name": "Indonesia",
         "text": "",
         "type": "scatter",
         "x": [
          "1960",
          "1961",
          "1962",
          "1963",
          "1964",
          "1965",
          "1966",
          "1967",
          "1968",
          "1969",
          "1970",
          "1971",
          "1972",
          "1973",
          "1974",
          "1975",
          "1976",
          "1977",
          "1978",
          "1979",
          "1980",
          "1981",
          "1982",
          "1983",
          "1984",
          "1985",
          "1986",
          "1987",
          "1988",
          "1989",
          "1990",
          "1991",
          "1992",
          "1993",
          "1994",
          "1995",
          "1996",
          "1997",
          "1998",
          "1999",
          "2000",
          "2001",
          "2002",
          "2003",
          "2004",
          "2005",
          "2006",
          "2007",
          "2008",
          "2009",
          "2010",
          "2011",
          "2012",
          "2013",
          "2014",
          "2015",
          "2016",
          "2017",
          "2018",
          "2019",
          "2020"
         ],
         "y": [
          "",
          "",
          "",
          "",
          "",
          "",
          "",
          53.5372982103029,
          65.0530450392047,
          74.6020983902901,
          79.7145360981891,
          79.1781893293078,
          90.8761729866669,
          131.024911617114,
          202.495384721854,
          233.116666252452,
          278.196668135507,
          333.694374250622,
          365.91584458479,
          356.921336727384,
          491.579526269543,
          566.577680933576,
          583.669858137875,
          512.959117624091,
          525.333962984625,
          516.960993326026,
          474.859160471773,
          442.215467300766,
          481.781482255566,
          530.003245615281,
          585.076549951004,
          631.782837284761,
          681.938385611901,
          827.905305280584,
          912.203275079504,
          1026.39342043947,
          1137.41011823586,
          1063.71236524864,
          463.948169466852,
          671.098616110039,
          780.190200986579,
          748.257615698969,
          900.177575713531,
          1065.64853925461,
          1150.26131499565,
          1263.28732054575,
          1589.80148866142,
          1860.00276310682,
          2166.85416700025,
          2261.24722374577,
          3122.36281521649,
          3643.04393616102,
          3694.34894603237,
          3623.91158235134,
          3491.62479085767,
          3331.69512758628,
          3562.84575641971,
          3837.65173121117,
          3893.84642475571,
          4135.56926281554,
          ""
         ]
        },
        {
         "line": {
          "color": "rgba(128, 0, 128, 1.0)",
          "dash": "solid",
          "shape": "linear",
          "width": 1.3
         },
         "mode": "lines",
         "name": "Lao PDR",
         "text": "",
         "type": "scatter",
         "x": [
          "1960",
          "1961",
          "1962",
          "1963",
          "1964",
          "1965",
          "1966",
          "1967",
          "1968",
          "1969",
          "1970",
          "1971",
          "1972",
          "1973",
          "1974",
          "1975",
          "1976",
          "1977",
          "1978",
          "1979",
          "1980",
          "1981",
          "1982",
          "1983",
          "1984",
          "1985",
          "1986",
          "1987",
          "1988",
          "1989",
          "1990",
          "1991",
          "1992",
          "1993",
          "1994",
          "1995",
          "1996",
          "1997",
          "1998",
          "1999",
          "2000",
          "2001",
          "2002",
          "2003",
          "2004",
          "2005",
          "2006",
          "2007",
          "2008",
          "2009",
          "2010",
          "2011",
          "2012",
          "2013",
          "2014",
          "2015",
          "2016",
          "2017",
          "2018",
          "2019",
          "2020"
         ],
         "y": [
          "",
          "",
          "",
          "",
          "",
          "",
          "",
          "",
          "",
          "",
          "",
          "",
          "",
          "",
          "",
          "",
          "",
          "",
          "",
          "",
          "",
          "",
          "",
          "",
          489.957607113898,
          641.738631479383,
          468.305038654449,
          278.393227986057,
          148.965288171436,
          172.523209033872,
          203.255969785383,
          234.764231092101,
          250.604218340998,
          287.394967267934,
          325.941061229165,
          363.879601876172,
          378.428147214229,
          345.921364772508,
          248.839043082255,
          277.809841506528,
          325.186998225846,
          326.94190759036,
          320.061517921728,
          362.821413486106,
          417.928504195201,
          475.610713513113,
          590.63270735226,
          710.344815049449,
          900.323671821273,
          948.653932285177,
          1140.59920478703,
          1378.36136494331,
          1581.39540349425,
          1825.66511330676,
          1998.33521471699,
          2134.71179567796,
          2308.80048220079,
          2423.8462031921,
          2542.4865281792,
          2534.89827991125,
          ""
         ]
        },
        {
         "line": {
          "color": "rgba(219, 64, 82, 1.0)",
          "dash": "solid",
          "shape": "linear",
          "width": 1.3
         },
         "mode": "lines",
         "name": "Malaysia",
         "text": "",
         "type": "scatter",
         "x": [
          "1960",
          "1961",
          "1962",
          "1963",
          "1964",
          "1965",
          "1966",
          "1967",
          "1968",
          "1969",
          "1970",
          "1971",
          "1972",
          "1973",
          "1974",
          "1975",
          "1976",
          "1977",
          "1978",
          "1979",
          "1980",
          "1981",
          "1982",
          "1983",
          "1984",
          "1985",
          "1986",
          "1987",
          "1988",
          "1989",
          "1990",
          "1991",
          "1992",
          "1993",
          "1994",
          "1995",
          "1996",
          "1997",
          "1998",
          "1999",
          "2000",
          "2001",
          "2002",
          "2003",
          "2004",
          "2005",
          "2006",
          "2007",
          "2008",
          "2009",
          "2010",
          "2011",
          "2012",
          "2013",
          "2014",
          "2015",
          "2016",
          "2017",
          "2018",
          "2019",
          "2020"
         ],
         "y": [
          234.938753415302,
          225.933513017345,
          230.260461298934,
          279.717634033771,
          289.008759338139,
          310.327925803759,
          321.094127654184,
          317.424084086877,
          323.402486662985,
          347.372962504739,
          357.656799363809,
          383.671506396376,
          445.350157783169,
          661.02269101028,
          799.931844087895,
          764.56650431925,
          886.229972127925,
          1027.29299169321,
          1246.55773885714,
          1576.04927426969,
          1774.74145448811,
          1769.09965233453,
          1852.25699601331,
          2047.77111698224,
          2234.25749795714,
          2000.14790090684,
          1728.68534385348,
          1947.80871003652,
          2072.07829480022,
          2216.25044584351,
          2441.74199054895,
          2653.52674224908,
          3113.64633254193,
          3433.16331604191,
          3728.11197385963,
          4329.70736419882,
          4798.6131398692,
          4637.86501599615,
          3263.33385007244,
          3492.66935427227,
          4043.66205143391,
          3913.42872623909,
          4165.72610363859,
          4461.84768676805,
          4952.2129750437,
          5587.02564962339,
          6209.12450825631,
          7243.45598744703,
          8474.58682876228,
          7292.49444727908,
          9040.56625117172,
          10399.372753345,
          10817.4428742856,
          10970.1232849014,
          11319.0797572756,
          9955.24370828938,
          9817.73845699838,
          10259.1817806895,
          11377.4550023015,
          11414.2069765208,
          ""
         ]
        },
        {
         "line": {
          "color": "rgba(0, 128, 128, 1.0)",
          "dash": "solid",
          "shape": "linear",
          "width": 1.3
         },
         "mode": "lines",
         "name": "Myanmar",
         "text": "",
         "type": "scatter",
         "x": [
          "1960",
          "1961",
          "1962",
          "1963",
          "1964",
          "1965",
          "1966",
          "1967",
          "1968",
          "1969",
          "1970",
          "1971",
          "1972",
          "1973",
          "1974",
          "1975",
          "1976",
          "1977",
          "1978",
          "1979",
          "1980",
          "1981",
          "1982",
          "1983",
          "1984",
          "1985",
          "1986",
          "1987",
          "1988",
          "1989",
          "1990",
          "1991",
          "1992",
          "1993",
          "1994",
          "1995",
          "1996",
          "1997",
          "1998",
          "1999",
          "2000",
          "2001",
          "2002",
          "2003",
          "2004",
          "2005",
          "2006",
          "2007",
          "2008",
          "2009",
          "2010",
          "2011",
          "2012",
          "2013",
          "2014",
          "2015",
          "2016",
          "2017",
          "2018",
          "2019",
          "2020"
         ],
         "y": [
          "",
          "",
          "",
          "",
          "",
          "",
          "",
          "",
          "",
          "",
          "",
          "",
          "",
          "",
          "",
          "",
          "",
          "",
          "",
          "",
          "",
          "",
          "",
          "",
          "",
          "",
          "",
          "",
          "",
          "",
          "",
          "",
          "",
          "",
          "",
          "",
          "",
          "",
          "",
          "",
          190.606231910312,
          137.16832669199,
          142.082265230195,
          217.390418948114,
          217.594282612061,
          244.88234994012,
          294.163181308112,
          406.728689152252,
          638.149059869843,
          734.44600674882,
          979.051630004942,
          1176.24245336109,
          1165.79432896131,
          1162.33144011893,
          1251.82076450814,
          1287.43048657119,
          1266.54633814868,
          1291.54241301307,
          1418.17762347196,
          1407.81314341043,
          ""
         ]
        },
        {
         "line": {
          "color": "rgba(255, 255, 51, 1.0)",
          "dash": "solid",
          "shape": "linear",
          "width": 1.3
         },
         "mode": "lines",
         "name": "Philippines",
         "text": "",
         "type": "scatter",
         "x": [
          "1960",
          "1961",
          "1962",
          "1963",
          "1964",
          "1965",
          "1966",
          "1967",
          "1968",
          "1969",
          "1970",
          "1971",
          "1972",
          "1973",
          "1974",
          "1975",
          "1976",
          "1977",
          "1978",
          "1979",
          "1980",
          "1981",
          "1982",
          "1983",
          "1984",
          "1985",
          "1986",
          "1987",
          "1988",
          "1989",
          "1990",
          "1991",
          "1992",
          "1993",
          "1994",
          "1995",
          "1996",
          "1997",
          "1998",
          "1999",
          "2000",
          "2001",
          "2002",
          "2003",
          "2004",
          "2005",
          "2006",
          "2007",
          "2008",
          "2009",
          "2010",
          "2011",
          "2012",
          "2013",
          "2014",
          "2015",
          "2016",
          "2017",
          "2018",
          "2019",
          "2020"
         ],
         "y": [
          254.45894522833,
          267.18288754574,
          156.703873111588,
          168.040977551675,
          175.955791801275,
          187.136888470552,
          199.956782333536,
          207.443970075251,
          224.635581421285,
          241.710917533292,
          186.774680619178,
          201.041277450971,
          211.412202857582,
          258.384691251309,
          343.290524950222,
          360.753339195302,
          402.801211918835,
          450.340841678267,
          506.398833236726,
          596.837201660971,
          685.22146089321,
          732.367752062095,
          742.453390103904,
          646.039360999624,
          594.553336259064,
          566.261998740258,
          535.703504727506,
          579.701531514598,
          644.364993185107,
          705.579097222292,
          715.913712086446,
          715.746820141348,
          814.768539154196,
          816.412324363983,
          939.918637934209,
          1062.13306455336,
          1160.30968118199,
          1127.52654850335,
          966.989169031383,
          1087.37815648062,
          1072.80906434278,
          990.563896177889,
          1036.15931344122,
          1048.00819194625,
          1121.48963230059,
          1244.34904100158,
          1452.43865554224,
          1744.64031268735,
          1991.23154167359,
          1905.89471053263,
          2217.47400857231,
          2450.73365616231,
          2694.30547298686,
          2871.43090179354,
          2959.64845212232,
          3001.04037107616,
          3073.653614975,
          3123.23422944462,
          3252.09232413346,
          3485.08421835861,
          ""
         ]
        },
        {
         "line": {
          "color": "rgba(128, 128, 0, 1.0)",
          "dash": "solid",
          "shape": "linear",
          "width": 1.3
         },
         "mode": "lines",
         "name": "Singapore",
         "text": "",
         "type": "scatter",
         "x": [
          "1960",
          "1961",
          "1962",
          "1963",
          "1964",
          "1965",
          "1966",
          "1967",
          "1968",
          "1969",
          "1970",
          "1971",
          "1972",
          "1973",
          "1974",
          "1975",
          "1976",
          "1977",
          "1978",
          "1979",
          "1980",
          "1981",
          "1982",
          "1983",
          "1984",
          "1985",
          "1986",
          "1987",
          "1988",
          "1989",
          "1990",
          "1991",
          "1992",
          "1993",
          "1994",
          "1995",
          "1996",
          "1997",
          "1998",
          "1999",
          "2000",
          "2001",
          "2002",
          "2003",
          "2004",
          "2005",
          "2006",
          "2007",
          "2008",
          "2009",
          "2010",
          "2011",
          "2012",
          "2013",
          "2014",
          "2015",
          "2016",
          "2017",
          "2018",
          "2019",
          "2020"
         ],
         "y": [
          428.058980027396,
          449.151071278746,
          472.085824452565,
          511.205575252773,
          485.533858206574,
          516.53530333901,
          566.807677554886,
          626.033527685697,
          708.606066462846,
          812.682796852012,
          925.80391294265,
          1071.41154035538,
          1264.37510720987,
          1685.45979632163,
          2341.70551423633,
          2489.91157517591,
          2758.94038028476,
          2846.33598832854,
          3193.90565722355,
          3900.53355310873,
          4928.13911785754,
          5596.58597723068,
          6077.63424070932,
          6633.23667366491,
          7228.31758410647,
          7001.7667477117,
          6799.93036332671,
          7539.02930212443,
          8914.44122574729,
          10394.5389962406,
          11861.7561591366,
          14502.3799938606,
          16135.9136525986,
          18290.0282372282,
          21553.0308996263,
          24914.411255678,
          26233.6288964795,
          26375.9719503189,
          21829.2998697666,
          21796.0844360572,
          23852.3270285975,
          21700.0200458315,
          22159.6888632741,
          23730.1524496489,
          27608.5373712744,
          29961.2632774569,
          33769.1541633501,
          39432.9383493761,
          40007.469261214,
          38927.2068817715,
          47236.9602345421,
          53890.4287270504,
          55546.4885386921,
          56967.4257940383,
          57562.5307937678,
          55646.6187469505,
          56828.2953471601,
          60913.745333494,
          66188.7793961798,
          65233.2824392302,
          ""
         ]
        },
        {
         "line": {
          "color": "rgba(251, 128, 114, 1.0)",
          "dash": "solid",
          "shape": "linear",
          "width": 1.3
         },
         "mode": "lines",
         "name": "Thailand",
         "text": "",
         "type": "scatter",
         "x": [
          "1960",
          "1961",
          "1962",
          "1963",
          "1964",
          "1965",
          "1966",
          "1967",
          "1968",
          "1969",
          "1970",
          "1971",
          "1972",
          "1973",
          "1974",
          "1975",
          "1976",
          "1977",
          "1978",
          "1979",
          "1980",
          "1981",
          "1982",
          "1983",
          "1984",
          "1985",
          "1986",
          "1987",
          "1988",
          "1989",
          "1990",
          "1991",
          "1992",
          "1993",
          "1994",
          "1995",
          "1996",
          "1997",
          "1998",
          "1999",
          "2000",
          "2001",
          "2002",
          "2003",
          "2004",
          "2005",
          "2006",
          "2007",
          "2008",
          "2009",
          "2010",
          "2011",
          "2012",
          "2013",
          "2014",
          "2015",
          "2016",
          "2017",
          "2018",
          "2019",
          "2020"
         ],
         "y": [
          100.76747866621,
          107.497997163238,
          113.782877186935,
          118.143938531877,
          125.938686013051,
          137.918629336406,
          161.005516685185,
          166.923088127192,
          174.784798968177,
          186.879151880585,
          192.127628703259,
          194.266681186974,
          209.374732447154,
          269.887952462916,
          332.175237692275,
          351.619294282781,
          391.569380794467,
          445.420842463283,
          528.626778411772,
          589.885009146693,
          682.929843036258,
          721.059270209148,
          742.851066722984,
          798.080418111881,
          818.038965546254,
          747.703437345799,
          813.451673424011,
          936.780302029165,
          1123.43764273139,
          1295.46472202503,
          1508.94273670514,
          1716.41559946849,
          1927.88273672709,
          2209.36303047747,
          2491.42809022179,
          2846.58673831224,
          3043.98051668092,
          2468.18497325954,
          1845.82886964502,
          2033.25794401796,
          2007.73517506683,
          1893.26405987891,
          2096.18799866778,
          2359.11686709087,
          2660.1269982933,
          2894.06265596401,
          3369.54340286988,
          3973.01699148237,
          4379.65852387961,
          4213.00633872183,
          5076.34017438708,
          5492.12125590558,
          5860.58250725599,
          6168.26298501219,
          5951.88370233604,
          5840.04652294326,
          5994.23147547156,
          6592.91490169864,
          7295.47561612095,
          7806.74221105532,
          ""
         ]
        },
        {
         "line": {
          "color": "rgba(128, 177, 211, 1.0)",
          "dash": "solid",
          "shape": "linear",
          "width": 1.3
         },
         "mode": "lines",
         "name": "Vietnam",
         "text": "",
         "type": "scatter",
         "x": [
          "1960",
          "1961",
          "1962",
          "1963",
          "1964",
          "1965",
          "1966",
          "1967",
          "1968",
          "1969",
          "1970",
          "1971",
          "1972",
          "1973",
          "1974",
          "1975",
          "1976",
          "1977",
          "1978",
          "1979",
          "1980",
          "1981",
          "1982",
          "1983",
          "1984",
          "1985",
          "1986",
          "1987",
          "1988",
          "1989",
          "1990",
          "1991",
          "1992",
          "1993",
          "1994",
          "1995",
          "1996",
          "1997",
          "1998",
          "1999",
          "2000",
          "2001",
          "2002",
          "2003",
          "2004",
          "2005",
          "2006",
          "2007",
          "2008",
          "2009",
          "2010",
          "2011",
          "2012",
          "2013",
          "2014",
          "2015",
          "2016",
          "2017",
          "2018",
          "2019",
          "2020"
         ],
         "y": [
          "",
          "",
          "",
          "",
          "",
          "",
          "",
          "",
          "",
          "",
          "",
          "",
          "",
          "",
          "",
          "",
          "",
          "",
          "",
          "",
          "",
          "",
          "",
          "",
          "",
          231.452327634266,
          422.780318021085,
          575.462700751475,
          390.412181474915,
          94.5647309759125,
          95.1882501808876,
          138.447454368734,
          139.200136579577,
          182.308401759113,
          221.129181235302,
          276.812666510629,
          324.147206885621,
          348.017398076375,
          348.324326182854,
          362.919502801142,
          390.093326052633,
          404.807866242848,
          430.052867139077,
          480.579799221457,
          546.909605842251,
          687.479735592231,
          784.37242227845,
          906.284198109134,
          1149.4246418463,
          1217.26855530412,
          1317.89070617836,
          1525.11598800104,
          1735.14127643805,
          1886.67189633671,
          2030.26195473318,
          2085.10148409879,
          2192.21453866566,
          2365.62166567374,
          2566.59694958511,
          2715.27603640721,
          ""
         ]
        }
       ],
       "layout": {
        "legend": {
         "bgcolor": "#F5F6F9",
         "font": {
          "color": "#4D5663"
         }
        },
        "paper_bgcolor": "#F5F6F9",
        "plot_bgcolor": "#F5F6F9",
        "template": {
         "data": {
          "bar": [
           {
            "error_x": {
             "color": "#2a3f5f"
            },
            "error_y": {
             "color": "#2a3f5f"
            },
            "marker": {
             "line": {
              "color": "#E5ECF6",
              "width": 0.5
             }
            },
            "type": "bar"
           }
          ],
          "barpolar": [
           {
            "marker": {
             "line": {
              "color": "#E5ECF6",
              "width": 0.5
             }
            },
            "type": "barpolar"
           }
          ],
          "carpet": [
           {
            "aaxis": {
             "endlinecolor": "#2a3f5f",
             "gridcolor": "white",
             "linecolor": "white",
             "minorgridcolor": "white",
             "startlinecolor": "#2a3f5f"
            },
            "baxis": {
             "endlinecolor": "#2a3f5f",
             "gridcolor": "white",
             "linecolor": "white",
             "minorgridcolor": "white",
             "startlinecolor": "#2a3f5f"
            },
            "type": "carpet"
           }
          ],
          "choropleth": [
           {
            "colorbar": {
             "outlinewidth": 0,
             "ticks": ""
            },
            "type": "choropleth"
           }
          ],
          "contour": [
           {
            "colorbar": {
             "outlinewidth": 0,
             "ticks": ""
            },
            "colorscale": [
             [
              0,
              "#0d0887"
             ],
             [
              0.1111111111111111,
              "#46039f"
             ],
             [
              0.2222222222222222,
              "#7201a8"
             ],
             [
              0.3333333333333333,
              "#9c179e"
             ],
             [
              0.4444444444444444,
              "#bd3786"
             ],
             [
              0.5555555555555556,
              "#d8576b"
             ],
             [
              0.6666666666666666,
              "#ed7953"
             ],
             [
              0.7777777777777778,
              "#fb9f3a"
             ],
             [
              0.8888888888888888,
              "#fdca26"
             ],
             [
              1,
              "#f0f921"
             ]
            ],
            "type": "contour"
           }
          ],
          "contourcarpet": [
           {
            "colorbar": {
             "outlinewidth": 0,
             "ticks": ""
            },
            "type": "contourcarpet"
           }
          ],
          "heatmap": [
           {
            "colorbar": {
             "outlinewidth": 0,
             "ticks": ""
            },
            "colorscale": [
             [
              0,
              "#0d0887"
             ],
             [
              0.1111111111111111,
              "#46039f"
             ],
             [
              0.2222222222222222,
              "#7201a8"
             ],
             [
              0.3333333333333333,
              "#9c179e"
             ],
             [
              0.4444444444444444,
              "#bd3786"
             ],
             [
              0.5555555555555556,
              "#d8576b"
             ],
             [
              0.6666666666666666,
              "#ed7953"
             ],
             [
              0.7777777777777778,
              "#fb9f3a"
             ],
             [
              0.8888888888888888,
              "#fdca26"
             ],
             [
              1,
              "#f0f921"
             ]
            ],
            "type": "heatmap"
           }
          ],
          "heatmapgl": [
           {
            "colorbar": {
             "outlinewidth": 0,
             "ticks": ""
            },
            "colorscale": [
             [
              0,
              "#0d0887"
             ],
             [
              0.1111111111111111,
              "#46039f"
             ],
             [
              0.2222222222222222,
              "#7201a8"
             ],
             [
              0.3333333333333333,
              "#9c179e"
             ],
             [
              0.4444444444444444,
              "#bd3786"
             ],
             [
              0.5555555555555556,
              "#d8576b"
             ],
             [
              0.6666666666666666,
              "#ed7953"
             ],
             [
              0.7777777777777778,
              "#fb9f3a"
             ],
             [
              0.8888888888888888,
              "#fdca26"
             ],
             [
              1,
              "#f0f921"
             ]
            ],
            "type": "heatmapgl"
           }
          ],
          "histogram": [
           {
            "marker": {
             "colorbar": {
              "outlinewidth": 0,
              "ticks": ""
             }
            },
            "type": "histogram"
           }
          ],
          "histogram2d": [
           {
            "colorbar": {
             "outlinewidth": 0,
             "ticks": ""
            },
            "colorscale": [
             [
              0,
              "#0d0887"
             ],
             [
              0.1111111111111111,
              "#46039f"
             ],
             [
              0.2222222222222222,
              "#7201a8"
             ],
             [
              0.3333333333333333,
              "#9c179e"
             ],
             [
              0.4444444444444444,
              "#bd3786"
             ],
             [
              0.5555555555555556,
              "#d8576b"
             ],
             [
              0.6666666666666666,
              "#ed7953"
             ],
             [
              0.7777777777777778,
              "#fb9f3a"
             ],
             [
              0.8888888888888888,
              "#fdca26"
             ],
             [
              1,
              "#f0f921"
             ]
            ],
            "type": "histogram2d"
           }
          ],
          "histogram2dcontour": [
           {
            "colorbar": {
             "outlinewidth": 0,
             "ticks": ""
            },
            "colorscale": [
             [
              0,
              "#0d0887"
             ],
             [
              0.1111111111111111,
              "#46039f"
             ],
             [
              0.2222222222222222,
              "#7201a8"
             ],
             [
              0.3333333333333333,
              "#9c179e"
             ],
             [
              0.4444444444444444,
              "#bd3786"
             ],
             [
              0.5555555555555556,
              "#d8576b"
             ],
             [
              0.6666666666666666,
              "#ed7953"
             ],
             [
              0.7777777777777778,
              "#fb9f3a"
             ],
             [
              0.8888888888888888,
              "#fdca26"
             ],
             [
              1,
              "#f0f921"
             ]
            ],
            "type": "histogram2dcontour"
           }
          ],
          "mesh3d": [
           {
            "colorbar": {
             "outlinewidth": 0,
             "ticks": ""
            },
            "type": "mesh3d"
           }
          ],
          "parcoords": [
           {
            "line": {
             "colorbar": {
              "outlinewidth": 0,
              "ticks": ""
             }
            },
            "type": "parcoords"
           }
          ],
          "pie": [
           {
            "automargin": true,
            "type": "pie"
           }
          ],
          "scatter": [
           {
            "marker": {
             "colorbar": {
              "outlinewidth": 0,
              "ticks": ""
             }
            },
            "type": "scatter"
           }
          ],
          "scatter3d": [
           {
            "line": {
             "colorbar": {
              "outlinewidth": 0,
              "ticks": ""
             }
            },
            "marker": {
             "colorbar": {
              "outlinewidth": 0,
              "ticks": ""
             }
            },
            "type": "scatter3d"
           }
          ],
          "scattercarpet": [
           {
            "marker": {
             "colorbar": {
              "outlinewidth": 0,
              "ticks": ""
             }
            },
            "type": "scattercarpet"
           }
          ],
          "scattergeo": [
           {
            "marker": {
             "colorbar": {
              "outlinewidth": 0,
              "ticks": ""
             }
            },
            "type": "scattergeo"
           }
          ],
          "scattergl": [
           {
            "marker": {
             "colorbar": {
              "outlinewidth": 0,
              "ticks": ""
             }
            },
            "type": "scattergl"
           }
          ],
          "scattermapbox": [
           {
            "marker": {
             "colorbar": {
              "outlinewidth": 0,
              "ticks": ""
             }
            },
            "type": "scattermapbox"
           }
          ],
          "scatterpolar": [
           {
            "marker": {
             "colorbar": {
              "outlinewidth": 0,
              "ticks": ""
             }
            },
            "type": "scatterpolar"
           }
          ],
          "scatterpolargl": [
           {
            "marker": {
             "colorbar": {
              "outlinewidth": 0,
              "ticks": ""
             }
            },
            "type": "scatterpolargl"
           }
          ],
          "scatterternary": [
           {
            "marker": {
             "colorbar": {
              "outlinewidth": 0,
              "ticks": ""
             }
            },
            "type": "scatterternary"
           }
          ],
          "surface": [
           {
            "colorbar": {
             "outlinewidth": 0,
             "ticks": ""
            },
            "colorscale": [
             [
              0,
              "#0d0887"
             ],
             [
              0.1111111111111111,
              "#46039f"
             ],
             [
              0.2222222222222222,
              "#7201a8"
             ],
             [
              0.3333333333333333,
              "#9c179e"
             ],
             [
              0.4444444444444444,
              "#bd3786"
             ],
             [
              0.5555555555555556,
              "#d8576b"
             ],
             [
              0.6666666666666666,
              "#ed7953"
             ],
             [
              0.7777777777777778,
              "#fb9f3a"
             ],
             [
              0.8888888888888888,
              "#fdca26"
             ],
             [
              1,
              "#f0f921"
             ]
            ],
            "type": "surface"
           }
          ],
          "table": [
           {
            "cells": {
             "fill": {
              "color": "#EBF0F8"
             },
             "line": {
              "color": "white"
             }
            },
            "header": {
             "fill": {
              "color": "#C8D4E3"
             },
             "line": {
              "color": "white"
             }
            },
            "type": "table"
           }
          ]
         },
         "layout": {
          "annotationdefaults": {
           "arrowcolor": "#2a3f5f",
           "arrowhead": 0,
           "arrowwidth": 1
          },
          "autotypenumbers": "strict",
          "coloraxis": {
           "colorbar": {
            "outlinewidth": 0,
            "ticks": ""
           }
          },
          "colorscale": {
           "diverging": [
            [
             0,
             "#8e0152"
            ],
            [
             0.1,
             "#c51b7d"
            ],
            [
             0.2,
             "#de77ae"
            ],
            [
             0.3,
             "#f1b6da"
            ],
            [
             0.4,
             "#fde0ef"
            ],
            [
             0.5,
             "#f7f7f7"
            ],
            [
             0.6,
             "#e6f5d0"
            ],
            [
             0.7,
             "#b8e186"
            ],
            [
             0.8,
             "#7fbc41"
            ],
            [
             0.9,
             "#4d9221"
            ],
            [
             1,
             "#276419"
            ]
           ],
           "sequential": [
            [
             0,
             "#0d0887"
            ],
            [
             0.1111111111111111,
             "#46039f"
            ],
            [
             0.2222222222222222,
             "#7201a8"
            ],
            [
             0.3333333333333333,
             "#9c179e"
            ],
            [
             0.4444444444444444,
             "#bd3786"
            ],
            [
             0.5555555555555556,
             "#d8576b"
            ],
            [
             0.6666666666666666,
             "#ed7953"
            ],
            [
             0.7777777777777778,
             "#fb9f3a"
            ],
            [
             0.8888888888888888,
             "#fdca26"
            ],
            [
             1,
             "#f0f921"
            ]
           ],
           "sequentialminus": [
            [
             0,
             "#0d0887"
            ],
            [
             0.1111111111111111,
             "#46039f"
            ],
            [
             0.2222222222222222,
             "#7201a8"
            ],
            [
             0.3333333333333333,
             "#9c179e"
            ],
            [
             0.4444444444444444,
             "#bd3786"
            ],
            [
             0.5555555555555556,
             "#d8576b"
            ],
            [
             0.6666666666666666,
             "#ed7953"
            ],
            [
             0.7777777777777778,
             "#fb9f3a"
            ],
            [
             0.8888888888888888,
             "#fdca26"
            ],
            [
             1,
             "#f0f921"
            ]
           ]
          },
          "colorway": [
           "#636efa",
           "#EF553B",
           "#00cc96",
           "#ab63fa",
           "#FFA15A",
           "#19d3f3",
           "#FF6692",
           "#B6E880",
           "#FF97FF",
           "#FECB52"
          ],
          "font": {
           "color": "#2a3f5f"
          },
          "geo": {
           "bgcolor": "white",
           "lakecolor": "white",
           "landcolor": "#E5ECF6",
           "showlakes": true,
           "showland": true,
           "subunitcolor": "white"
          },
          "hoverlabel": {
           "align": "left"
          },
          "hovermode": "closest",
          "mapbox": {
           "style": "light"
          },
          "paper_bgcolor": "white",
          "plot_bgcolor": "#E5ECF6",
          "polar": {
           "angularaxis": {
            "gridcolor": "white",
            "linecolor": "white",
            "ticks": ""
           },
           "bgcolor": "#E5ECF6",
           "radialaxis": {
            "gridcolor": "white",
            "linecolor": "white",
            "ticks": ""
           }
          },
          "scene": {
           "xaxis": {
            "backgroundcolor": "#E5ECF6",
            "gridcolor": "white",
            "gridwidth": 2,
            "linecolor": "white",
            "showbackground": true,
            "ticks": "",
            "zerolinecolor": "white"
           },
           "yaxis": {
            "backgroundcolor": "#E5ECF6",
            "gridcolor": "white",
            "gridwidth": 2,
            "linecolor": "white",
            "showbackground": true,
            "ticks": "",
            "zerolinecolor": "white"
           },
           "zaxis": {
            "backgroundcolor": "#E5ECF6",
            "gridcolor": "white",
            "gridwidth": 2,
            "linecolor": "white",
            "showbackground": true,
            "ticks": "",
            "zerolinecolor": "white"
           }
          },
          "shapedefaults": {
           "line": {
            "color": "#2a3f5f"
           }
          },
          "ternary": {
           "aaxis": {
            "gridcolor": "white",
            "linecolor": "white",
            "ticks": ""
           },
           "baxis": {
            "gridcolor": "white",
            "linecolor": "white",
            "ticks": ""
           },
           "bgcolor": "#E5ECF6",
           "caxis": {
            "gridcolor": "white",
            "linecolor": "white",
            "ticks": ""
           }
          },
          "title": {
           "x": 0.05
          },
          "xaxis": {
           "automargin": true,
           "gridcolor": "white",
           "linecolor": "white",
           "ticks": "",
           "title": {
            "standoff": 15
           },
           "zerolinecolor": "white",
           "zerolinewidth": 2
          },
          "yaxis": {
           "automargin": true,
           "gridcolor": "white",
           "linecolor": "white",
           "ticks": "",
           "title": {
            "standoff": 15
           },
           "zerolinecolor": "white",
           "zerolinewidth": 2
          }
         }
        },
        "title": {
         "font": {
          "color": "#4D5663"
         },
         "text": "GDP per Capita of Southeast Asian Countries Over Time"
        },
        "xaxis": {
         "gridcolor": "#E1E5ED",
         "showgrid": true,
         "tickfont": {
          "color": "#4D5663"
         },
         "title": {
          "font": {
           "color": "#4D5663"
          },
          "text": "Year"
         },
         "zerolinecolor": "#E1E5ED"
        },
        "yaxis": {
         "gridcolor": "#E1E5ED",
         "showgrid": true,
         "tickfont": {
          "color": "#4D5663"
         },
         "title": {
          "font": {
           "color": "#4D5663"
          },
          "text": "GDP per Capita (current US$)"
         },
         "zerolinecolor": "#E1E5ED"
        }
       }
      },
      "text/html": [
       "<div>                            <div id=\"8547479a-de0a-4e13-87a5-fc9d9b2df016\" class=\"plotly-graph-div\" style=\"height:525px; width:100%;\"></div>            <script type=\"text/javascript\">                require([\"plotly\"], function(Plotly) {                    window.PLOTLYENV=window.PLOTLYENV || {};\n",
       "                    window.PLOTLYENV.BASE_URL='https://plot.ly';                                    if (document.getElementById(\"8547479a-de0a-4e13-87a5-fc9d9b2df016\")) {                    Plotly.newPlot(                        \"8547479a-de0a-4e13-87a5-fc9d9b2df016\",                        [{\"line\": {\"color\": \"rgba(255, 153, 51, 1.0)\", \"dash\": \"solid\", \"shape\": \"linear\", \"width\": 1.3}, \"mode\": \"lines\", \"name\": \"Brunei Darussalam\", \"text\": \"\", \"type\": \"scatter\", \"x\": [\"1960\", \"1961\", \"1962\", \"1963\", \"1964\", \"1965\", \"1966\", \"1967\", \"1968\", \"1969\", \"1970\", \"1971\", \"1972\", \"1973\", \"1974\", \"1975\", \"1976\", \"1977\", \"1978\", \"1979\", \"1980\", \"1981\", \"1982\", \"1983\", \"1984\", \"1985\", \"1986\", \"1987\", \"1988\", \"1989\", \"1990\", \"1991\", \"1992\", \"1993\", \"1994\", \"1995\", \"1996\", \"1997\", \"1998\", \"1999\", \"2000\", \"2001\", \"2002\", \"2003\", \"2004\", \"2005\", \"2006\", \"2007\", \"2008\", \"2009\", \"2010\", \"2011\", \"2012\", \"2013\", \"2014\", \"2015\", \"2016\", \"2017\", \"2018\", \"2019\", \"2020\"], \"y\": [\"\", \"\", \"\", \"\", \"\", 1113.82655495184, 1237.5635792503, 1236.3976733859, 1364.05440765995, 1304.29846027765, 1382.54830429835, 1455.8983072424, 1906.87749660983, 2916.20881530969, 6923.08789234416, 7228.442859782, 8461.48706837051, 9917.47175922488, 10714.9400049998, 14945.2037564138, 25422.1703122437, 21828.7772262731, 20693.7244871696, 18128.9874500249, 17337.1059400151, 15698.9452528874, 10214.1169569813, 11594.66515323, 11009.3024303312, 11872.6307346962, 13607.5220957631, 13905.0638689698, 15274.4446317273, 14575.7298211504, 14120.8549888131, 15933.3455733721, 16793.2809740578, 16660.3612477895, 12693.7909769053, 14101.345758867, 18012.5562597047, 16472.1486214944, 16850.1511253805, 18560.6085730701, 21902.0880525832, 26105.2790303114, 30979.8791725798, 32663.5665921613, 37934.3765067984, 27955.7138629359, 35269.5531076448, 47055.8411171808, 47740.5149036597, 44740.085018517, 41726.7839720342, 31164.5620291141, 27157.8234104784, 28572.1467776509, 31628.3287914349, 31086.7511188028, \"\"]}, {\"line\": {\"color\": \"rgba(55, 128, 191, 1.0)\", \"dash\": \"solid\", \"shape\": \"linear\", \"width\": 1.3}, \"mode\": \"lines\", \"name\": \"Cambodia\", \"text\": \"\", \"type\": \"scatter\", \"x\": [\"1960\", \"1961\", \"1962\", \"1963\", \"1964\", \"1965\", \"1966\", \"1967\", \"1968\", \"1969\", \"1970\", \"1971\", \"1972\", \"1973\", \"1974\", \"1975\", \"1976\", \"1977\", \"1978\", \"1979\", \"1980\", \"1981\", \"1982\", \"1983\", \"1984\", \"1985\", \"1986\", \"1987\", \"1988\", \"1989\", \"1990\", \"1991\", \"1992\", \"1993\", \"1994\", \"1995\", \"1996\", \"1997\", \"1998\", \"1999\", \"2000\", \"2001\", \"2002\", \"2003\", \"2004\", \"2005\", \"2006\", \"2007\", \"2008\", \"2009\", \"2010\", \"2011\", \"2012\", \"2013\", \"2014\", \"2015\", \"2016\", \"2017\", \"2018\", \"2019\", \"2020\"], \"y\": [111.342479726807, 109.460387525777, 109.481224645588, 117.823488310801, 123.645808182523, 134.304155041423, 138.842954408855, 144.011799993675, 157.189930682399, 142.265203658792, 102.678961498333, 135.84865209641, 69.2333273727387, 94.358531165474, 78.1119936359898, \"\", \"\", \"\", \"\", \"\", \"\", \"\", \"\", \"\", \"\", \"\", \"\", \"\", \"\", \"\", \"\", \"\", \"\", 254.116481911776, 270.542992547856, 322.931787568498, 319.286371696389, 304.764607003602, 268.990418573267, 295.903327738886, 302.577163565133, 321.150301305966, 338.987262704572, 362.335707650169, 408.513826347366, 474.111227790099, 539.750168717216, 631.524842114382, 745.609180660928, 738.054783617506, 785.502282874113, 882.275492640073, 950.880345993697, 1013.4204006154, 1093.49619050796, 1162.90491997151, 1269.59125737542, 1385.2599796333, 1512.12670972847, 1643.12138876539, \"\"]}, {\"line\": {\"color\": \"rgba(50, 171, 96, 1.0)\", \"dash\": \"solid\", \"shape\": \"linear\", \"width\": 1.3}, \"mode\": \"lines\", \"name\": \"Indonesia\", \"text\": \"\", \"type\": \"scatter\", \"x\": [\"1960\", \"1961\", \"1962\", \"1963\", \"1964\", \"1965\", \"1966\", \"1967\", \"1968\", \"1969\", \"1970\", \"1971\", \"1972\", \"1973\", \"1974\", \"1975\", \"1976\", \"1977\", \"1978\", \"1979\", \"1980\", \"1981\", \"1982\", \"1983\", \"1984\", \"1985\", \"1986\", \"1987\", \"1988\", \"1989\", \"1990\", \"1991\", \"1992\", \"1993\", \"1994\", \"1995\", \"1996\", \"1997\", \"1998\", \"1999\", \"2000\", \"2001\", \"2002\", \"2003\", \"2004\", \"2005\", \"2006\", \"2007\", \"2008\", \"2009\", \"2010\", \"2011\", \"2012\", \"2013\", \"2014\", \"2015\", \"2016\", \"2017\", \"2018\", \"2019\", \"2020\"], \"y\": [\"\", \"\", \"\", \"\", \"\", \"\", \"\", 53.5372982103029, 65.0530450392047, 74.6020983902901, 79.7145360981891, 79.1781893293078, 90.8761729866669, 131.024911617114, 202.495384721854, 233.116666252452, 278.196668135507, 333.694374250622, 365.91584458479, 356.921336727384, 491.579526269543, 566.577680933576, 583.669858137875, 512.959117624091, 525.333962984625, 516.960993326026, 474.859160471773, 442.215467300766, 481.781482255566, 530.003245615281, 585.076549951004, 631.782837284761, 681.938385611901, 827.905305280584, 912.203275079504, 1026.39342043947, 1137.41011823586, 1063.71236524864, 463.948169466852, 671.098616110039, 780.190200986579, 748.257615698969, 900.177575713531, 1065.64853925461, 1150.26131499565, 1263.28732054575, 1589.80148866142, 1860.00276310682, 2166.85416700025, 2261.24722374577, 3122.36281521649, 3643.04393616102, 3694.34894603237, 3623.91158235134, 3491.62479085767, 3331.69512758628, 3562.84575641971, 3837.65173121117, 3893.84642475571, 4135.56926281554, \"\"]}, {\"line\": {\"color\": \"rgba(128, 0, 128, 1.0)\", \"dash\": \"solid\", \"shape\": \"linear\", \"width\": 1.3}, \"mode\": \"lines\", \"name\": \"Lao PDR\", \"text\": \"\", \"type\": \"scatter\", \"x\": [\"1960\", \"1961\", \"1962\", \"1963\", \"1964\", \"1965\", \"1966\", \"1967\", \"1968\", \"1969\", \"1970\", \"1971\", \"1972\", \"1973\", \"1974\", \"1975\", \"1976\", \"1977\", \"1978\", \"1979\", \"1980\", \"1981\", \"1982\", \"1983\", \"1984\", \"1985\", \"1986\", \"1987\", \"1988\", \"1989\", \"1990\", \"1991\", \"1992\", \"1993\", \"1994\", \"1995\", \"1996\", \"1997\", \"1998\", \"1999\", \"2000\", \"2001\", \"2002\", \"2003\", \"2004\", \"2005\", \"2006\", \"2007\", \"2008\", \"2009\", \"2010\", \"2011\", \"2012\", \"2013\", \"2014\", \"2015\", \"2016\", \"2017\", \"2018\", \"2019\", \"2020\"], \"y\": [\"\", \"\", \"\", \"\", \"\", \"\", \"\", \"\", \"\", \"\", \"\", \"\", \"\", \"\", \"\", \"\", \"\", \"\", \"\", \"\", \"\", \"\", \"\", \"\", 489.957607113898, 641.738631479383, 468.305038654449, 278.393227986057, 148.965288171436, 172.523209033872, 203.255969785383, 234.764231092101, 250.604218340998, 287.394967267934, 325.941061229165, 363.879601876172, 378.428147214229, 345.921364772508, 248.839043082255, 277.809841506528, 325.186998225846, 326.94190759036, 320.061517921728, 362.821413486106, 417.928504195201, 475.610713513113, 590.63270735226, 710.344815049449, 900.323671821273, 948.653932285177, 1140.59920478703, 1378.36136494331, 1581.39540349425, 1825.66511330676, 1998.33521471699, 2134.71179567796, 2308.80048220079, 2423.8462031921, 2542.4865281792, 2534.89827991125, \"\"]}, {\"line\": {\"color\": \"rgba(219, 64, 82, 1.0)\", \"dash\": \"solid\", \"shape\": \"linear\", \"width\": 1.3}, \"mode\": \"lines\", \"name\": \"Malaysia\", \"text\": \"\", \"type\": \"scatter\", \"x\": [\"1960\", \"1961\", \"1962\", \"1963\", \"1964\", \"1965\", \"1966\", \"1967\", \"1968\", \"1969\", \"1970\", \"1971\", \"1972\", \"1973\", \"1974\", \"1975\", \"1976\", \"1977\", \"1978\", \"1979\", \"1980\", \"1981\", \"1982\", \"1983\", \"1984\", \"1985\", \"1986\", \"1987\", \"1988\", \"1989\", \"1990\", \"1991\", \"1992\", \"1993\", \"1994\", \"1995\", \"1996\", \"1997\", \"1998\", \"1999\", \"2000\", \"2001\", \"2002\", \"2003\", \"2004\", \"2005\", \"2006\", \"2007\", \"2008\", \"2009\", \"2010\", \"2011\", \"2012\", \"2013\", \"2014\", \"2015\", \"2016\", \"2017\", \"2018\", \"2019\", \"2020\"], \"y\": [234.938753415302, 225.933513017345, 230.260461298934, 279.717634033771, 289.008759338139, 310.327925803759, 321.094127654184, 317.424084086877, 323.402486662985, 347.372962504739, 357.656799363809, 383.671506396376, 445.350157783169, 661.02269101028, 799.931844087895, 764.56650431925, 886.229972127925, 1027.29299169321, 1246.55773885714, 1576.04927426969, 1774.74145448811, 1769.09965233453, 1852.25699601331, 2047.77111698224, 2234.25749795714, 2000.14790090684, 1728.68534385348, 1947.80871003652, 2072.07829480022, 2216.25044584351, 2441.74199054895, 2653.52674224908, 3113.64633254193, 3433.16331604191, 3728.11197385963, 4329.70736419882, 4798.6131398692, 4637.86501599615, 3263.33385007244, 3492.66935427227, 4043.66205143391, 3913.42872623909, 4165.72610363859, 4461.84768676805, 4952.2129750437, 5587.02564962339, 6209.12450825631, 7243.45598744703, 8474.58682876228, 7292.49444727908, 9040.56625117172, 10399.372753345, 10817.4428742856, 10970.1232849014, 11319.0797572756, 9955.24370828938, 9817.73845699838, 10259.1817806895, 11377.4550023015, 11414.2069765208, \"\"]}, {\"line\": {\"color\": \"rgba(0, 128, 128, 1.0)\", \"dash\": \"solid\", \"shape\": \"linear\", \"width\": 1.3}, \"mode\": \"lines\", \"name\": \"Myanmar\", \"text\": \"\", \"type\": \"scatter\", \"x\": [\"1960\", \"1961\", \"1962\", \"1963\", \"1964\", \"1965\", \"1966\", \"1967\", \"1968\", \"1969\", \"1970\", \"1971\", \"1972\", \"1973\", \"1974\", \"1975\", \"1976\", \"1977\", \"1978\", \"1979\", \"1980\", \"1981\", \"1982\", \"1983\", \"1984\", \"1985\", \"1986\", \"1987\", \"1988\", \"1989\", \"1990\", \"1991\", \"1992\", \"1993\", \"1994\", \"1995\", \"1996\", \"1997\", \"1998\", \"1999\", \"2000\", \"2001\", \"2002\", \"2003\", \"2004\", \"2005\", \"2006\", \"2007\", \"2008\", \"2009\", \"2010\", \"2011\", \"2012\", \"2013\", \"2014\", \"2015\", \"2016\", \"2017\", \"2018\", \"2019\", \"2020\"], \"y\": [\"\", \"\", \"\", \"\", \"\", \"\", \"\", \"\", \"\", \"\", \"\", \"\", \"\", \"\", \"\", \"\", \"\", \"\", \"\", \"\", \"\", \"\", \"\", \"\", \"\", \"\", \"\", \"\", \"\", \"\", \"\", \"\", \"\", \"\", \"\", \"\", \"\", \"\", \"\", \"\", 190.606231910312, 137.16832669199, 142.082265230195, 217.390418948114, 217.594282612061, 244.88234994012, 294.163181308112, 406.728689152252, 638.149059869843, 734.44600674882, 979.051630004942, 1176.24245336109, 1165.79432896131, 1162.33144011893, 1251.82076450814, 1287.43048657119, 1266.54633814868, 1291.54241301307, 1418.17762347196, 1407.81314341043, \"\"]}, {\"line\": {\"color\": \"rgba(255, 255, 51, 1.0)\", \"dash\": \"solid\", \"shape\": \"linear\", \"width\": 1.3}, \"mode\": \"lines\", \"name\": \"Philippines\", \"text\": \"\", \"type\": \"scatter\", \"x\": [\"1960\", \"1961\", \"1962\", \"1963\", \"1964\", \"1965\", \"1966\", \"1967\", \"1968\", \"1969\", \"1970\", \"1971\", \"1972\", \"1973\", \"1974\", \"1975\", \"1976\", \"1977\", \"1978\", \"1979\", \"1980\", \"1981\", \"1982\", \"1983\", \"1984\", \"1985\", \"1986\", \"1987\", \"1988\", \"1989\", \"1990\", \"1991\", \"1992\", \"1993\", \"1994\", \"1995\", \"1996\", \"1997\", \"1998\", \"1999\", \"2000\", \"2001\", \"2002\", \"2003\", \"2004\", \"2005\", \"2006\", \"2007\", \"2008\", \"2009\", \"2010\", \"2011\", \"2012\", \"2013\", \"2014\", \"2015\", \"2016\", \"2017\", \"2018\", \"2019\", \"2020\"], \"y\": [254.45894522833, 267.18288754574, 156.703873111588, 168.040977551675, 175.955791801275, 187.136888470552, 199.956782333536, 207.443970075251, 224.635581421285, 241.710917533292, 186.774680619178, 201.041277450971, 211.412202857582, 258.384691251309, 343.290524950222, 360.753339195302, 402.801211918835, 450.340841678267, 506.398833236726, 596.837201660971, 685.22146089321, 732.367752062095, 742.453390103904, 646.039360999624, 594.553336259064, 566.261998740258, 535.703504727506, 579.701531514598, 644.364993185107, 705.579097222292, 715.913712086446, 715.746820141348, 814.768539154196, 816.412324363983, 939.918637934209, 1062.13306455336, 1160.30968118199, 1127.52654850335, 966.989169031383, 1087.37815648062, 1072.80906434278, 990.563896177889, 1036.15931344122, 1048.00819194625, 1121.48963230059, 1244.34904100158, 1452.43865554224, 1744.64031268735, 1991.23154167359, 1905.89471053263, 2217.47400857231, 2450.73365616231, 2694.30547298686, 2871.43090179354, 2959.64845212232, 3001.04037107616, 3073.653614975, 3123.23422944462, 3252.09232413346, 3485.08421835861, \"\"]}, {\"line\": {\"color\": \"rgba(128, 128, 0, 1.0)\", \"dash\": \"solid\", \"shape\": \"linear\", \"width\": 1.3}, \"mode\": \"lines\", \"name\": \"Singapore\", \"text\": \"\", \"type\": \"scatter\", \"x\": [\"1960\", \"1961\", \"1962\", \"1963\", \"1964\", \"1965\", \"1966\", \"1967\", \"1968\", \"1969\", \"1970\", \"1971\", \"1972\", \"1973\", \"1974\", \"1975\", \"1976\", \"1977\", \"1978\", \"1979\", \"1980\", \"1981\", \"1982\", \"1983\", \"1984\", \"1985\", \"1986\", \"1987\", \"1988\", \"1989\", \"1990\", \"1991\", \"1992\", \"1993\", \"1994\", \"1995\", \"1996\", \"1997\", \"1998\", \"1999\", \"2000\", \"2001\", \"2002\", \"2003\", \"2004\", \"2005\", \"2006\", \"2007\", \"2008\", \"2009\", \"2010\", \"2011\", \"2012\", \"2013\", \"2014\", \"2015\", \"2016\", \"2017\", \"2018\", \"2019\", \"2020\"], \"y\": [428.058980027396, 449.151071278746, 472.085824452565, 511.205575252773, 485.533858206574, 516.53530333901, 566.807677554886, 626.033527685697, 708.606066462846, 812.682796852012, 925.80391294265, 1071.41154035538, 1264.37510720987, 1685.45979632163, 2341.70551423633, 2489.91157517591, 2758.94038028476, 2846.33598832854, 3193.90565722355, 3900.53355310873, 4928.13911785754, 5596.58597723068, 6077.63424070932, 6633.23667366491, 7228.31758410647, 7001.7667477117, 6799.93036332671, 7539.02930212443, 8914.44122574729, 10394.5389962406, 11861.7561591366, 14502.3799938606, 16135.9136525986, 18290.0282372282, 21553.0308996263, 24914.411255678, 26233.6288964795, 26375.9719503189, 21829.2998697666, 21796.0844360572, 23852.3270285975, 21700.0200458315, 22159.6888632741, 23730.1524496489, 27608.5373712744, 29961.2632774569, 33769.1541633501, 39432.9383493761, 40007.469261214, 38927.2068817715, 47236.9602345421, 53890.4287270504, 55546.4885386921, 56967.4257940383, 57562.5307937678, 55646.6187469505, 56828.2953471601, 60913.745333494, 66188.7793961798, 65233.2824392302, \"\"]}, {\"line\": {\"color\": \"rgba(251, 128, 114, 1.0)\", \"dash\": \"solid\", \"shape\": \"linear\", \"width\": 1.3}, \"mode\": \"lines\", \"name\": \"Thailand\", \"text\": \"\", \"type\": \"scatter\", \"x\": [\"1960\", \"1961\", \"1962\", \"1963\", \"1964\", \"1965\", \"1966\", \"1967\", \"1968\", \"1969\", \"1970\", \"1971\", \"1972\", \"1973\", \"1974\", \"1975\", \"1976\", \"1977\", \"1978\", \"1979\", \"1980\", \"1981\", \"1982\", \"1983\", \"1984\", \"1985\", \"1986\", \"1987\", \"1988\", \"1989\", \"1990\", \"1991\", \"1992\", \"1993\", \"1994\", \"1995\", \"1996\", \"1997\", \"1998\", \"1999\", \"2000\", \"2001\", \"2002\", \"2003\", \"2004\", \"2005\", \"2006\", \"2007\", \"2008\", \"2009\", \"2010\", \"2011\", \"2012\", \"2013\", \"2014\", \"2015\", \"2016\", \"2017\", \"2018\", \"2019\", \"2020\"], \"y\": [100.76747866621, 107.497997163238, 113.782877186935, 118.143938531877, 125.938686013051, 137.918629336406, 161.005516685185, 166.923088127192, 174.784798968177, 186.879151880585, 192.127628703259, 194.266681186974, 209.374732447154, 269.887952462916, 332.175237692275, 351.619294282781, 391.569380794467, 445.420842463283, 528.626778411772, 589.885009146693, 682.929843036258, 721.059270209148, 742.851066722984, 798.080418111881, 818.038965546254, 747.703437345799, 813.451673424011, 936.780302029165, 1123.43764273139, 1295.46472202503, 1508.94273670514, 1716.41559946849, 1927.88273672709, 2209.36303047747, 2491.42809022179, 2846.58673831224, 3043.98051668092, 2468.18497325954, 1845.82886964502, 2033.25794401796, 2007.73517506683, 1893.26405987891, 2096.18799866778, 2359.11686709087, 2660.1269982933, 2894.06265596401, 3369.54340286988, 3973.01699148237, 4379.65852387961, 4213.00633872183, 5076.34017438708, 5492.12125590558, 5860.58250725599, 6168.26298501219, 5951.88370233604, 5840.04652294326, 5994.23147547156, 6592.91490169864, 7295.47561612095, 7806.74221105532, \"\"]}, {\"line\": {\"color\": \"rgba(128, 177, 211, 1.0)\", \"dash\": \"solid\", \"shape\": \"linear\", \"width\": 1.3}, \"mode\": \"lines\", \"name\": \"Vietnam\", \"text\": \"\", \"type\": \"scatter\", \"x\": [\"1960\", \"1961\", \"1962\", \"1963\", \"1964\", \"1965\", \"1966\", \"1967\", \"1968\", \"1969\", \"1970\", \"1971\", \"1972\", \"1973\", \"1974\", \"1975\", \"1976\", \"1977\", \"1978\", \"1979\", \"1980\", \"1981\", \"1982\", \"1983\", \"1984\", \"1985\", \"1986\", \"1987\", \"1988\", \"1989\", \"1990\", \"1991\", \"1992\", \"1993\", \"1994\", \"1995\", \"1996\", \"1997\", \"1998\", \"1999\", \"2000\", \"2001\", \"2002\", \"2003\", \"2004\", \"2005\", \"2006\", \"2007\", \"2008\", \"2009\", \"2010\", \"2011\", \"2012\", \"2013\", \"2014\", \"2015\", \"2016\", \"2017\", \"2018\", \"2019\", \"2020\"], \"y\": [\"\", \"\", \"\", \"\", \"\", \"\", \"\", \"\", \"\", \"\", \"\", \"\", \"\", \"\", \"\", \"\", \"\", \"\", \"\", \"\", \"\", \"\", \"\", \"\", \"\", 231.452327634266, 422.780318021085, 575.462700751475, 390.412181474915, 94.5647309759125, 95.1882501808876, 138.447454368734, 139.200136579577, 182.308401759113, 221.129181235302, 276.812666510629, 324.147206885621, 348.017398076375, 348.324326182854, 362.919502801142, 390.093326052633, 404.807866242848, 430.052867139077, 480.579799221457, 546.909605842251, 687.479735592231, 784.37242227845, 906.284198109134, 1149.4246418463, 1217.26855530412, 1317.89070617836, 1525.11598800104, 1735.14127643805, 1886.67189633671, 2030.26195473318, 2085.10148409879, 2192.21453866566, 2365.62166567374, 2566.59694958511, 2715.27603640721, \"\"]}],                        {\"legend\": {\"bgcolor\": \"#F5F6F9\", \"font\": {\"color\": \"#4D5663\"}}, \"paper_bgcolor\": \"#F5F6F9\", \"plot_bgcolor\": \"#F5F6F9\", \"template\": {\"data\": {\"bar\": [{\"error_x\": {\"color\": \"#2a3f5f\"}, \"error_y\": {\"color\": \"#2a3f5f\"}, \"marker\": {\"line\": {\"color\": \"#E5ECF6\", \"width\": 0.5}}, \"type\": \"bar\"}], \"barpolar\": [{\"marker\": {\"line\": {\"color\": \"#E5ECF6\", \"width\": 0.5}}, \"type\": \"barpolar\"}], \"carpet\": [{\"aaxis\": {\"endlinecolor\": \"#2a3f5f\", \"gridcolor\": \"white\", \"linecolor\": \"white\", \"minorgridcolor\": \"white\", \"startlinecolor\": \"#2a3f5f\"}, \"baxis\": {\"endlinecolor\": \"#2a3f5f\", \"gridcolor\": \"white\", \"linecolor\": \"white\", \"minorgridcolor\": \"white\", \"startlinecolor\": \"#2a3f5f\"}, \"type\": \"carpet\"}], \"choropleth\": [{\"colorbar\": {\"outlinewidth\": 0, \"ticks\": \"\"}, \"type\": \"choropleth\"}], \"contour\": [{\"colorbar\": {\"outlinewidth\": 0, \"ticks\": \"\"}, \"colorscale\": [[0.0, \"#0d0887\"], [0.1111111111111111, \"#46039f\"], [0.2222222222222222, \"#7201a8\"], [0.3333333333333333, \"#9c179e\"], [0.4444444444444444, \"#bd3786\"], [0.5555555555555556, \"#d8576b\"], [0.6666666666666666, \"#ed7953\"], [0.7777777777777778, \"#fb9f3a\"], [0.8888888888888888, \"#fdca26\"], [1.0, \"#f0f921\"]], \"type\": \"contour\"}], \"contourcarpet\": [{\"colorbar\": {\"outlinewidth\": 0, \"ticks\": \"\"}, \"type\": \"contourcarpet\"}], \"heatmap\": [{\"colorbar\": {\"outlinewidth\": 0, \"ticks\": \"\"}, \"colorscale\": [[0.0, \"#0d0887\"], [0.1111111111111111, \"#46039f\"], [0.2222222222222222, \"#7201a8\"], [0.3333333333333333, \"#9c179e\"], [0.4444444444444444, \"#bd3786\"], [0.5555555555555556, \"#d8576b\"], [0.6666666666666666, \"#ed7953\"], [0.7777777777777778, \"#fb9f3a\"], [0.8888888888888888, \"#fdca26\"], [1.0, \"#f0f921\"]], \"type\": \"heatmap\"}], \"heatmapgl\": [{\"colorbar\": {\"outlinewidth\": 0, \"ticks\": \"\"}, \"colorscale\": [[0.0, \"#0d0887\"], [0.1111111111111111, \"#46039f\"], [0.2222222222222222, \"#7201a8\"], [0.3333333333333333, \"#9c179e\"], [0.4444444444444444, \"#bd3786\"], [0.5555555555555556, \"#d8576b\"], [0.6666666666666666, \"#ed7953\"], [0.7777777777777778, \"#fb9f3a\"], [0.8888888888888888, \"#fdca26\"], [1.0, \"#f0f921\"]], \"type\": \"heatmapgl\"}], \"histogram\": [{\"marker\": {\"colorbar\": {\"outlinewidth\": 0, \"ticks\": \"\"}}, \"type\": \"histogram\"}], \"histogram2d\": [{\"colorbar\": {\"outlinewidth\": 0, \"ticks\": \"\"}, \"colorscale\": [[0.0, \"#0d0887\"], [0.1111111111111111, \"#46039f\"], [0.2222222222222222, \"#7201a8\"], [0.3333333333333333, \"#9c179e\"], [0.4444444444444444, \"#bd3786\"], [0.5555555555555556, \"#d8576b\"], [0.6666666666666666, \"#ed7953\"], [0.7777777777777778, \"#fb9f3a\"], [0.8888888888888888, \"#fdca26\"], [1.0, \"#f0f921\"]], \"type\": \"histogram2d\"}], \"histogram2dcontour\": [{\"colorbar\": {\"outlinewidth\": 0, \"ticks\": \"\"}, \"colorscale\": [[0.0, \"#0d0887\"], [0.1111111111111111, \"#46039f\"], [0.2222222222222222, \"#7201a8\"], [0.3333333333333333, \"#9c179e\"], [0.4444444444444444, \"#bd3786\"], [0.5555555555555556, \"#d8576b\"], [0.6666666666666666, \"#ed7953\"], [0.7777777777777778, \"#fb9f3a\"], [0.8888888888888888, \"#fdca26\"], [1.0, \"#f0f921\"]], \"type\": \"histogram2dcontour\"}], \"mesh3d\": [{\"colorbar\": {\"outlinewidth\": 0, \"ticks\": \"\"}, \"type\": \"mesh3d\"}], \"parcoords\": [{\"line\": {\"colorbar\": {\"outlinewidth\": 0, \"ticks\": \"\"}}, \"type\": \"parcoords\"}], \"pie\": [{\"automargin\": true, \"type\": \"pie\"}], \"scatter\": [{\"marker\": {\"colorbar\": {\"outlinewidth\": 0, \"ticks\": \"\"}}, \"type\": \"scatter\"}], \"scatter3d\": [{\"line\": {\"colorbar\": {\"outlinewidth\": 0, \"ticks\": \"\"}}, \"marker\": {\"colorbar\": {\"outlinewidth\": 0, \"ticks\": \"\"}}, \"type\": \"scatter3d\"}], \"scattercarpet\": [{\"marker\": {\"colorbar\": {\"outlinewidth\": 0, \"ticks\": \"\"}}, \"type\": \"scattercarpet\"}], \"scattergeo\": [{\"marker\": {\"colorbar\": {\"outlinewidth\": 0, \"ticks\": \"\"}}, \"type\": \"scattergeo\"}], \"scattergl\": [{\"marker\": {\"colorbar\": {\"outlinewidth\": 0, \"ticks\": \"\"}}, \"type\": \"scattergl\"}], \"scattermapbox\": [{\"marker\": {\"colorbar\": {\"outlinewidth\": 0, \"ticks\": \"\"}}, \"type\": \"scattermapbox\"}], \"scatterpolar\": [{\"marker\": {\"colorbar\": {\"outlinewidth\": 0, \"ticks\": \"\"}}, \"type\": \"scatterpolar\"}], \"scatterpolargl\": [{\"marker\": {\"colorbar\": {\"outlinewidth\": 0, \"ticks\": \"\"}}, \"type\": \"scatterpolargl\"}], \"scatterternary\": [{\"marker\": {\"colorbar\": {\"outlinewidth\": 0, \"ticks\": \"\"}}, \"type\": \"scatterternary\"}], \"surface\": [{\"colorbar\": {\"outlinewidth\": 0, \"ticks\": \"\"}, \"colorscale\": [[0.0, \"#0d0887\"], [0.1111111111111111, \"#46039f\"], [0.2222222222222222, \"#7201a8\"], [0.3333333333333333, \"#9c179e\"], [0.4444444444444444, \"#bd3786\"], [0.5555555555555556, \"#d8576b\"], [0.6666666666666666, \"#ed7953\"], [0.7777777777777778, \"#fb9f3a\"], [0.8888888888888888, \"#fdca26\"], [1.0, \"#f0f921\"]], \"type\": \"surface\"}], \"table\": [{\"cells\": {\"fill\": {\"color\": \"#EBF0F8\"}, \"line\": {\"color\": \"white\"}}, \"header\": {\"fill\": {\"color\": \"#C8D4E3\"}, \"line\": {\"color\": \"white\"}}, \"type\": \"table\"}]}, \"layout\": {\"annotationdefaults\": {\"arrowcolor\": \"#2a3f5f\", \"arrowhead\": 0, \"arrowwidth\": 1}, \"autotypenumbers\": \"strict\", \"coloraxis\": {\"colorbar\": {\"outlinewidth\": 0, \"ticks\": \"\"}}, \"colorscale\": {\"diverging\": [[0, \"#8e0152\"], [0.1, \"#c51b7d\"], [0.2, \"#de77ae\"], [0.3, \"#f1b6da\"], [0.4, \"#fde0ef\"], [0.5, \"#f7f7f7\"], [0.6, \"#e6f5d0\"], [0.7, \"#b8e186\"], [0.8, \"#7fbc41\"], [0.9, \"#4d9221\"], [1, \"#276419\"]], \"sequential\": [[0.0, \"#0d0887\"], [0.1111111111111111, \"#46039f\"], [0.2222222222222222, \"#7201a8\"], [0.3333333333333333, \"#9c179e\"], [0.4444444444444444, \"#bd3786\"], [0.5555555555555556, \"#d8576b\"], [0.6666666666666666, \"#ed7953\"], [0.7777777777777778, \"#fb9f3a\"], [0.8888888888888888, \"#fdca26\"], [1.0, \"#f0f921\"]], \"sequentialminus\": [[0.0, \"#0d0887\"], [0.1111111111111111, \"#46039f\"], [0.2222222222222222, \"#7201a8\"], [0.3333333333333333, \"#9c179e\"], [0.4444444444444444, \"#bd3786\"], [0.5555555555555556, \"#d8576b\"], [0.6666666666666666, \"#ed7953\"], [0.7777777777777778, \"#fb9f3a\"], [0.8888888888888888, \"#fdca26\"], [1.0, \"#f0f921\"]]}, \"colorway\": [\"#636efa\", \"#EF553B\", \"#00cc96\", \"#ab63fa\", \"#FFA15A\", \"#19d3f3\", \"#FF6692\", \"#B6E880\", \"#FF97FF\", \"#FECB52\"], \"font\": {\"color\": \"#2a3f5f\"}, \"geo\": {\"bgcolor\": \"white\", \"lakecolor\": \"white\", \"landcolor\": \"#E5ECF6\", \"showlakes\": true, \"showland\": true, \"subunitcolor\": \"white\"}, \"hoverlabel\": {\"align\": \"left\"}, \"hovermode\": \"closest\", \"mapbox\": {\"style\": \"light\"}, \"paper_bgcolor\": \"white\", \"plot_bgcolor\": \"#E5ECF6\", \"polar\": {\"angularaxis\": {\"gridcolor\": \"white\", \"linecolor\": \"white\", \"ticks\": \"\"}, \"bgcolor\": \"#E5ECF6\", \"radialaxis\": {\"gridcolor\": \"white\", \"linecolor\": \"white\", \"ticks\": \"\"}}, \"scene\": {\"xaxis\": {\"backgroundcolor\": \"#E5ECF6\", \"gridcolor\": \"white\", \"gridwidth\": 2, \"linecolor\": \"white\", \"showbackground\": true, \"ticks\": \"\", \"zerolinecolor\": \"white\"}, \"yaxis\": {\"backgroundcolor\": \"#E5ECF6\", \"gridcolor\": \"white\", \"gridwidth\": 2, \"linecolor\": \"white\", \"showbackground\": true, \"ticks\": \"\", \"zerolinecolor\": \"white\"}, \"zaxis\": {\"backgroundcolor\": \"#E5ECF6\", \"gridcolor\": \"white\", \"gridwidth\": 2, \"linecolor\": \"white\", \"showbackground\": true, \"ticks\": \"\", \"zerolinecolor\": \"white\"}}, \"shapedefaults\": {\"line\": {\"color\": \"#2a3f5f\"}}, \"ternary\": {\"aaxis\": {\"gridcolor\": \"white\", \"linecolor\": \"white\", \"ticks\": \"\"}, \"baxis\": {\"gridcolor\": \"white\", \"linecolor\": \"white\", \"ticks\": \"\"}, \"bgcolor\": \"#E5ECF6\", \"caxis\": {\"gridcolor\": \"white\", \"linecolor\": \"white\", \"ticks\": \"\"}}, \"title\": {\"x\": 0.05}, \"xaxis\": {\"automargin\": true, \"gridcolor\": \"white\", \"linecolor\": \"white\", \"ticks\": \"\", \"title\": {\"standoff\": 15}, \"zerolinecolor\": \"white\", \"zerolinewidth\": 2}, \"yaxis\": {\"automargin\": true, \"gridcolor\": \"white\", \"linecolor\": \"white\", \"ticks\": \"\", \"title\": {\"standoff\": 15}, \"zerolinecolor\": \"white\", \"zerolinewidth\": 2}}}, \"title\": {\"font\": {\"color\": \"#4D5663\"}, \"text\": \"GDP per Capita of Southeast Asian Countries Over Time\"}, \"xaxis\": {\"gridcolor\": \"#E1E5ED\", \"showgrid\": true, \"tickfont\": {\"color\": \"#4D5663\"}, \"title\": {\"font\": {\"color\": \"#4D5663\"}, \"text\": \"Year\"}, \"zerolinecolor\": \"#E1E5ED\"}, \"yaxis\": {\"gridcolor\": \"#E1E5ED\", \"showgrid\": true, \"tickfont\": {\"color\": \"#4D5663\"}, \"title\": {\"font\": {\"color\": \"#4D5663\"}, \"text\": \"GDP per Capita (current US$)\"}, \"zerolinecolor\": \"#E1E5ED\"}},                        {\"showLink\": true, \"linkText\": \"Export to plot.ly\", \"plotlyServerURL\": \"https://plot.ly\", \"responsive\": true}                    ).then(function(){\n",
       "                            \n",
       "var gd = document.getElementById('8547479a-de0a-4e13-87a5-fc9d9b2df016');\n",
       "var x = new MutationObserver(function (mutations, observer) {{\n",
       "        var display = window.getComputedStyle(gd).display;\n",
       "        if (!display || display === 'none') {{\n",
       "            console.log([gd, 'removed!']);\n",
       "            Plotly.purge(gd);\n",
       "            observer.disconnect();\n",
       "        }}\n",
       "}});\n",
       "\n",
       "// Listen for the removal of the full notebook cells\n",
       "var notebookContainer = gd.closest('#notebook-container');\n",
       "if (notebookContainer) {{\n",
       "    x.observe(notebookContainer, {childList: true});\n",
       "}}\n",
       "\n",
       "// Listen for the clearing of the current output cell\n",
       "var outputEl = gd.closest('.output');\n",
       "if (outputEl) {{\n",
       "    x.observe(outputEl, {childList: true});\n",
       "}}\n",
       "\n",
       "                        })                };                });            </script>        </div>"
      ]
     },
     "metadata": {},
     "output_type": "display_data"
    }
   ],
   "source": [
    "# Graphing GDP per Capita of Southeast Asian Countries Over Time\n",
    "gdp_indicator = {\"NY.GDP.PCAP.CD\":\"GDP per capita\"} \n",
    "\n",
    "gdp = wbdata.get_dataframe(gdp_indicator, country = se_countries).squeeze().unstack('country')\n",
    "gdp.iplot(title=\"GDP per Capita of Southeast Asian Countries Over Time\",xTitle='Year',yTitle='GDP per Capita (current US$)')"
   ]
  },
  {
   "cell_type": "code",
   "execution_count": 331,
   "metadata": {},
   "outputs": [
    {
     "data": {
      "image/png": "[encoded data removed]",
      "text/plain": [
       "<Figure size 720x720 with 1 Axes>"
      ]
     },
     "metadata": {
      "needs_background": "light"
     },
     "output_type": "display_data"
    }
   ],
   "source": [
    "group = 'all' #males/females/all\n",
    "age_lower = 0 #rounds to nearest 5 (actual range: 10 to 65)\n",
    "age_upper = 85\n",
    "location = 'Singapore' #accepts country names/abbreviations, 'world'\n",
    "\n",
    "years = [1980, 1990, 2000, 2010, 2020]\n",
    "frames = []\n",
    "for y in years:\n",
    "    frames.append(pop_df(y, group, age_lower, age_upper, location))\n",
    "    \n",
    "result = pd.concat(frames, axis=0, ignore_index = True)\n",
    "result = result.drop(columns = ['Male', 'Female', 'Country'])\n",
    "result = result.pivot(index='Year', columns='Age')\n",
    "\n",
    "for c in result:\n",
    "    result[c] = np.log(result[c])\n",
    "\n",
    "my_colors = [(x/25, x/25, x/20, 0.75) for x in range(17)] \n",
    "graph = result.plot(kind='bar', figsize=(10,10), ylim=(10, 13.2), legend='reverse', rot=0, alpha=0.8, \n",
    "                    color=my_colors)\n",
    "handles, labels = graph.get_legend_handles_labels()\n",
    "graph.set_ylabel('Total Population (Log)');\n",
    "graph.set_title(\"Population Change in {} over decades\".format(location))\n",
    "graph.legend(handles[::-1], labels[::-1], title='Age Groups', loc='center left', bbox_to_anchor=(1.0, 0.5));"
   ]
  },
  {
   "cell_type": "code",
   "execution_count": 332,
   "metadata": {},
   "outputs": [
    {
     "data": {
      "image/png": "[encoded data removed]",
      "text/plain": [
       "<Figure size 720x720 with 1 Axes>"
      ]
     },
     "metadata": {
      "needs_background": "light"
     },
     "output_type": "display_data"
    }
   ],
   "source": [
    "group = 'all' #males/females/all\n",
    "age_lower = 0 #rounds to nearest 5 (actual range: 10 to 65)\n",
    "age_upper = 85\n",
    "location = 'Cambodia' #accepts country names/abbreviations, 'world'\n",
    "\n",
    "years = [1980, 1990, 2000, 2010, 2020]\n",
    "frames = []\n",
    "for y in years:\n",
    "    frames.append(pop_df(y, group, age_lower, age_upper, location))\n",
    "    \n",
    "result = pd.concat(frames, axis=0, ignore_index = True)\n",
    "result = result.drop(columns = ['Male', 'Female', 'Country'])\n",
    "result = result.pivot(index='Year', columns='Age')\n",
    "\n",
    "for c in result:\n",
    "    result[c] = np.log(result[c])\n",
    "\n",
    "my_colors = [(x/30, x/30, 0.75) for x in range(17)] \n",
    "graph = result.plot(kind='bar', figsize=(10,10), ylim=(10, 14.5), legend='reverse', rot=0, alpha=0.8, color=my_colors)\n",
    "handles, labels = graph.get_legend_handles_labels()\n",
    "graph.set_ylabel('Total Population (Log)');\n",
    "graph.set_title(\"Population Change in {} over decades\".format(location))\n",
    "graph.legend(handles[::-1], labels[::-1], title='Age Groups', loc='center left', bbox_to_anchor=(1.0, 0.5));"
   ]
  },
  {
   "cell_type": "code",
   "execution_count": 189,
   "metadata": {},
   "outputs": [],
   "source": [
    "def draw_scatterplot(two_indicators_dict, year, title, color='#a442f5', countries='all'):\n",
    "    if countries == 'sea':\n",
    "        countries_iso3166 = ['MMR', 'THA', \"VNM\", 'KHM', 'MYS', 'IDN', 'PHL', 'BRN']\n",
    "    else:\n",
    "        countries_iso3166 = 'all'\n",
    "    d_values = list(two_indicators_dict.values())\n",
    "    df = wbdata.get_dataframe(two_indicators_dict, country=countries_iso3166)\n",
    "    df.reset_index(inplace=True)\n",
    "    df['date'] = df['date'].astype(int)\n",
    "    df = df[df['date'] == year]\n",
    "    df = df.sort_values(by=['country'])\n",
    "    df = df[[d_values[0], d_values[1]]]\n",
    "    graph = df.plot.scatter(x=d_values[0], y=d_values[1], s=100, c=color , figsize=(10,10))\n",
    "    graph.set_title(title, size=15, pad=15);"
   ]
  },
  {
   "cell_type": "code",
   "execution_count": 197,
   "metadata": {
    "scrolled": false
   },
   "outputs": [
    {
     "data": {
      "image/png": "[encoded data removed]",
      "text/plain": [
       "<Figure size 720x720 with 1 Axes>"
      ]
     },
     "metadata": {
      "needs_background": "light"
     },
     "output_type": "display_data"
    }
   ],
   "source": [
    "#indicators\n",
    "#'NY.GDP.PCAP.KD.ZG': GDPPC\n",
    "#'SP.POP.GROW': Pop Growth %\n",
    "two_indicators_dict = {'NY.GDP.PCAP.KD.ZG': 'GDP Per Capita Growth', \n",
    "                       'SP.POP.GROW': 'Population Growth %'}\n",
    "title = 'Scatterplot of Population Growth Rate against GDP Per Capita Growth\\n(Southeast Asia in 2019)'\n",
    "draw_scatterplot(two_indicators_dict, 2019, title, 'orange', 'sea')"
   ]
  },
  {
   "cell_type": "code",
   "execution_count": 198,
   "metadata": {
    "scrolled": false
   },
   "outputs": [
    {
     "data": {
      "image/png": "[encoded data removed]",
      "text/plain": [
       "<Figure size 720x720 with 1 Axes>"
      ]
     },
     "metadata": {
      "needs_background": "light"
     },
     "output_type": "display_data"
    }
   ],
   "source": [
    "#indicators\n",
    "#'NY.GDP.PCAP.KD.ZG': GDPPC\n",
    "#'SP.POP.GROW': Pop Growth %\n",
    "two_indicators_dict = {'NY.GDP.PCAP.KD.ZG': 'GDP Per Capita Growth', 'SP.POP.GROW': 'Population Growth %'}\n",
    "title = 'Scatterplot of Population Growth Rate against GDP Per Capita Growth\\n(All Countries in 2019)'\n",
    "draw_scatterplot(two_indicators_dict, 2019, title)"
   ]
  }
 ],
 "metadata": {
  "history": [
   {
    "code": "## If import fails with \"ModuleNotFoundError\"\n## uncomment below & try again\n!pip install wbdata\n\nimport wbdata",
    "id": "7bdbd1aa9e9e4cec8a05e27902b523d7",
    "idx": 11,
    "time": "2021-01-25T22:24:18.117Z",
    "type": "execution"
   },
   {
    "id": "7bdbd1aa9e9e4cec8a05e27902b523d7",
    "time": "2021-01-25T22:24:23.176Z",
    "type": "completion"
   },
   {
    "code": "import wbdata\n\n# Return list of all country/region codes:\nwbdata.get_country()\n\n# Return list matching a query term:\n#wbdata.search_countries(\"World\")\n\n## Try your own search!\n# wbdata.search_countries(\"\")",
    "id": "31468b156f444d35b3084ce80801f64a",
    "idx": 14,
    "time": "2021-01-25T22:24:32.610Z",
    "type": "execution"
   },
   {
    "id": "31468b156f444d35b3084ce80801f64a",
    "time": "2021-01-25T22:24:33.377Z",
    "type": "completion"
   },
   {
    "code": "wbdata.get_source()",
    "id": "90361e3bc2854dd9891bc1d5d5d2715c",
    "idx": 17,
    "time": "2021-01-25T22:29:40.407Z",
    "type": "execution"
   },
   {
    "id": "90361e3bc2854dd9891bc1d5d5d2715c",
    "time": "2021-01-25T22:29:40.905Z",
    "type": "completion"
   },
   {
    "code": "SOURCE = 40 # \"Population estimates and projections\n\nindicators = wbdata.get_indicator(source=SOURCE)",
    "id": "6ec0d885b91a473c8b0691c0c2fbb7cb",
    "idx": 20,
    "time": "2021-01-25T22:30:08.984Z",
    "type": "execution"
   },
   {
    "id": "6ec0d885b91a473c8b0691c0c2fbb7cb",
    "time": "2021-01-25T22:30:09.719Z",
    "type": "completion"
   },
   {
    "code": "# Give variable for clarity\nvariable_labels = {\"SP.POP.TOTL\":\"World Population\"}\n\nworld = wbdata.get_dataframe(variable_labels, country=\"WLD\")\n\n# Date index is of type string; change to integers\nworld.index = world.index.astype(int)\n\n# Print a few years' data\nworld.head()",
    "id": "1c95405d979c487da484d3f2210473be",
    "idx": 23,
    "time": "2021-01-25T22:31:27.228Z",
    "type": "execution"
   },
   {
    "id": "1c95405d979c487da484d3f2210473be",
    "time": "2021-01-25T22:31:28.019Z",
    "type": "completion"
   },
   {
    "code": "#!pip install cufflinks # IF NECESSARY\nimport cufflinks as cf\ncf.go_offline()",
    "id": "99b9dc7abd42499eb1c5beb807d595d3",
    "idx": 27,
    "time": "2021-01-25T22:37:16.380Z",
    "type": "execution"
   },
   {
    "id": "99b9dc7abd42499eb1c5beb807d595d3",
    "time": "2021-01-25T22:37:18.083Z",
    "type": "completion"
   },
   {
    "code": "# Useful arguments to pass include xTitle, yTitle, Title\nworld.iplot(title=\"Fact I: Growth Rates Falling over Time\",xTitle='Year',yTitle='Population')",
    "id": "57aef14f9ca44d4c81c3af35496a1b84",
    "idx": 30,
    "time": "2021-01-25T22:37:24.688Z",
    "type": "execution"
   },
   {
    "id": "57aef14f9ca44d4c81c3af35496a1b84",
    "time": "2021-01-25T22:37:25.472Z",
    "type": "completion"
   },
   {
    "code": "import numpy as np\n\nvariable_labels = {\"SP.POP.TOTL\":\"Population\"}\n\n# Three letter codes come from wbdata.get_country()\ncountries = {\"WLD\":\"World\",\n             \"LIC\":\"Low income\",\n             \"LMC\":\"Low-medium income\",\n             \"UMC\":\"Upper-medium income\",\n             \"HIC\":\"High income\",\n            }\n\ndf = wbdata.get_dataframe(variable_labels, country = countries).squeeze()\n\ndf = df.unstack('country')\n# Date index is of type string; change to integers\ndf.index = df.index.astype(int)\n\n# Differences (over time) in logs give us growth rates\nnp.log(df).diff().iplot(title=\"Fact II: Poorer places have higher growth rates\",\n                        yTitle=\"Growth Rate\",xTitle='Year')",
    "id": "7244f783a917402d9091f19ea35a0198",
    "idx": 33,
    "time": "2021-01-25T22:38:27.119Z",
    "type": "execution"
   },
   {
    "id": "7244f783a917402d9091f19ea35a0198",
    "time": "2021-01-25T22:38:27.864Z",
    "type": "completion"
   },
   {
    "code": "import numpy as np\n\nvariable_labels = {\"SP.POP.TOTL\":\"Population\"}\n\n# Three letter codes come from wbdata.get_country()\ncountries = {\"WLD\":\"World\",\n             \"LIC\":\"Low income\",\n             \"LMC\":\"Low-medium income\",\n             \"UMC\":\"Upper-medium income\",\n             \"HIC\":\"High income\",\n             \"CHI\": \"China\",\n            }\n\ndf = wbdata.get_dataframe(variable_labels, country = countries).squeeze()\n\ndf = df.unstack('country')\n# Date index is of type string; change to integers\ndf.index = df.index.astype(int)\n\n# Differences (over time) in logs give us growth rates\nnp.log(df).diff().iplot(title=\"Fact II: Poorer places have higher growth rates\",\n                        yTitle=\"Growth Rate\",xTitle='Year')",
    "id": "7244f783a917402d9091f19ea35a0198",
    "idx": 33,
    "time": "2021-01-25T22:45:51.993Z",
    "type": "execution"
   },
   {
    "id": "7244f783a917402d9091f19ea35a0198",
    "time": "2021-01-25T22:45:52.932Z",
    "type": "completion"
   },
   {
    "code": "import numpy as np\n\nvariable_labels = {\"SP.POP.TOTL\":\"Population\"}\n\n# Three letter codes come from wbdata.get_country()\ncountries = {\"WLD\":\"World\",\n             \"LIC\":\"Low income\",\n             \"LMC\":\"Low-medium income\",\n             \"UMC\":\"Upper-medium income\",\n             \"HIC\":\"High income\",\n             \"CHn\": \"China\",\n            }\n\ndf = wbdata.get_dataframe(variable_labels, country = countries).squeeze()\n\ndf = df.unstack('country')\n# Date index is of type string; change to integers\ndf.index = df.index.astype(int)\n\n# Differences (over time) in logs give us growth rates\nnp.log(df).diff().iplot(title=\"Fact II: Poorer places have higher growth rates\",\n                        yTitle=\"Growth Rate\",xTitle='Year')",
    "id": "7244f783a917402d9091f19ea35a0198",
    "idx": 33,
    "time": "2021-01-25T22:46:46.768Z",
    "type": "execution"
   },
   {
    "id": "7244f783a917402d9091f19ea35a0198",
    "time": "2021-01-25T22:46:48.195Z",
    "type": "completion"
   },
   {
    "code": "import numpy as np\n\nvariable_labels = {\"SP.POP.TOTL\":\"Population\"}\n\n# Three letter codes come from wbdata.get_country()\ncountries = {\"WLD\":\"World\",\n             \"LIC\":\"Low income\",\n             \"LMC\":\"Low-medium income\",\n             \"UMC\":\"Upper-medium income\",\n             \"HIC\":\"High income\",\n             \"CHn\",\n            }\n\ndf = wbdata.get_dataframe(variable_labels, country = countries).squeeze()\n\ndf = df.unstack('country')\n# Date index is of type string; change to integers\ndf.index = df.index.astype(int)\n\n# Differences (over time) in logs give us growth rates\nnp.log(df).diff().iplot(title=\"Fact II: Poorer places have higher growth rates\",\n                        yTitle=\"Growth Rate\",xTitle='Year')",
    "id": "7244f783a917402d9091f19ea35a0198",
    "idx": 33,
    "time": "2021-01-25T22:46:57.655Z",
    "type": "execution"
   },
   {
    "id": "7244f783a917402d9091f19ea35a0198",
    "time": "2021-01-25T22:46:57.999Z",
    "type": "completion"
   },
   {
    "code": "import numpy as np\n\nvariable_labels = {\"SP.POP.TOTL\":\"Population\"}\n\n# Three letter codes come from wbdata.get_country()\ncountries = {\"WLD\":\"World\",\n             \"LIC\":\"Low income\",\n             \"LMC\":\"Low-medium income\",\n             \"UMC\":\"Upper-medium income\",\n             \"HIC\":\"High income\",\n             \"CHN\":\"China\",\n            }\n\ndf = wbdata.get_dataframe(variable_labels, country = countries).squeeze()\n\ndf = df.unstack('country')\n# Date index is of type string; change to integers\ndf.index = df.index.astype(int)\n\n# Differences (over time) in logs give us growth rates\nnp.log(df).diff().iplot(title=\"Fact II: Poorer places have higher growth rates\",\n                        yTitle=\"Growth Rate\",xTitle='Year')",
    "id": "7244f783a917402d9091f19ea35a0198",
    "idx": 33,
    "time": "2021-01-25T22:47:09.181Z",
    "type": "execution"
   },
   {
    "id": "7244f783a917402d9091f19ea35a0198",
    "time": "2021-01-25T22:47:10.226Z",
    "type": "completion"
   },
   {
    "code": "import numpy as np\n# wbdata.search_indicators(\"GDP per capita\")\n\nindicators = {\"NY.GDP.PCAP.CD\":\"GDP per capita\",\n              \"SP.DYN.TFRT.IN\":\"Total Fertility Rate\",\n              \"SP.POP.GROW\":\"Population Growth Rate\",\n              \"SP.DYN.AMRT.MA\":\"Male Mortality\",\n              \"SP.DYN.AMRT.FE\":\"Female Mortality\",\n              \"SP.POP.1564.FE.ZS\":\"% Adult Female\",\n              \"SP.POP.TOTL.FE.ZS\":\"% Female\"}\n\ndata = wbdata.get_dataframe(indicators)\n\n# Make years ints instead of strings\ndata.reset_index(inplace=True)\ndata['date'] = data['date'].astype(int)\ndata.set_index(['country','date'],inplace=True)\n\ndf = data.query(\"date==2018\") # Latest year missing some data\n\n# All dates now the same; not a useful index\ndf.index = df.index.droplevel('date')\n\ndf['Log GDP per capita'] = np.log(df['GDP per capita'])\n\ndf.iplot(kind='scatter', mode='markers', symbol='circle-dot',\n         x=\"Log GDP per capita\",y=\"Population Growth Rate\",\n         text=df.reset_index('country')['country'].values.tolist(),\n         xTitle=\"Log GDP per capita\",yTitle=\"Population Growth Rate\",\n         title=\"Fact II: Population growth is lower in higher-income countries\")",
    "id": "d54436366066436aa2c964e2c92e6ac3",
    "idx": 36,
    "time": "2021-01-25T22:50:54.825Z",
    "type": "execution"
   },
   {
    "id": "d54436366066436aa2c964e2c92e6ac3",
    "time": "2021-01-25T22:52:54.064Z",
    "type": "completion"
   },
   {
    "code": "world = data.query(\"country=='World'\")\n\n# Drop country index for World data\nworld.index = world.index.droplevel('country')\n\nworld[[\"Male Mortality\",\"Female Mortality\"]].iplot(title=\"Deaths per 10,000\")",
    "id": "47a256706e0b435d85bc6952f888d230",
    "idx": 41,
    "time": "2021-01-25T22:58:37.623Z",
    "type": "execution"
   },
   {
    "id": "47a256706e0b435d85bc6952f888d230",
    "time": "2021-01-25T22:58:38.102Z",
    "type": "completion"
   },
   {
    "code": "# % Adult Female is % of females who are adult.\n# To make a share of total population take product\nworld[\"% Adult Female\"] = world[\"% Adult Female\"]*world[\"% Female\"]/100\n\nworld[\"% Adult Female\"].iplot(title=\"% of Adult Females in World Population\")",
    "id": "e4028c9db2b0434081ea98f74d05f947",
    "idx": 44,
    "time": "2021-01-25T22:59:31.278Z",
    "type": "execution"
   },
   {
    "id": "e4028c9db2b0434081ea98f74d05f947",
    "time": "2021-01-25T22:59:31.565Z",
    "type": "completion"
   },
   {
    "code": "world[\"Total Fertility Rate\"].iplot()",
    "id": "d398e152c8e34daa86a26d208d9fc064",
    "idx": 47,
    "time": "2021-01-25T23:01:37.442Z",
    "type": "execution"
   }
  ],
  "kernelspec": {
   "display_name": "Python 3",
   "language": "python",
   "name": "python3"
  },
  "language_info": {
   "codemirror_mode": {
    "name": "ipython",
    "version": 3
   },
   "file_extension": ".py",
   "mimetype": "text/x-python",
   "name": "python",
   "nbconvert_exporter": "python",
   "pygments_lexer": "ipython3",
   "version": "3.8.5"
  },
  "org": null
 },
 "nbformat": 4,
 "nbformat_minor": 4
}
