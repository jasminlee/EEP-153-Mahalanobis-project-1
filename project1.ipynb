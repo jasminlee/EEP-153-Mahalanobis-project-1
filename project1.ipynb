{
 "cells": [
  {
   "cell_type": "markdown",
   "metadata": {},
   "source": [
    "# Group Mahalanobis Project 1\n"
   ]
  },
  {
   "cell_type": "markdown",
   "metadata": {},
   "source": [
    "## Introduction/Brief Description"
   ]
  },
  {
   "cell_type": "markdown",
   "metadata": {},
   "source": [
    "Lorem ipsum dolor sit amet, consectetur adipiscing elit. Nam pulvinar sagittis erat, eget commodo lectus luctus in. Sed a erat eget felis convallis ultricies. Morbi pharetra quam at volutpat pharetra. Donec bibendum ex sed dignissim imperdiet. Proin fringilla purus tellus, vel posuere eros sagittis vitae. Cras commodo suscipit dui, quis commodo ex pharetra sed. Orci varius natoque penatibus et magnis dis parturient montes, nascetur ridiculus mus. Ut elit massa, dignissim et dui at, molestie hendrerit dui. Nunc non blandit tellus.\n"
   ]
  },
  {
   "cell_type": "markdown",
   "metadata": {},
   "source": [
    "## Project Deliverables"
   ]
  },
  {
   "cell_type": "markdown",
   "metadata": {
    "slideshow": {
     "slide_type": "slide"
    }
   },
   "source": [
    "### [#A] Data Imports"
   ]
  },
  {
   "cell_type": "code",
   "execution_count": 4,
   "metadata": {},
   "outputs": [
    {
     "data": {
      "text/html": [
       "        <script type=\"text/javascript\">\n",
       "        window.PlotlyConfig = {MathJaxConfig: 'local'};\n",
       "        if (window.MathJax) {MathJax.Hub.Config({SVG: {font: \"STIX-Web\"}});}\n",
       "        if (typeof require !== 'undefined') {\n",
       "        require.undef(\"plotly\");\n",
       "        requirejs.config({\n",
       "            paths: {\n",
       "                'plotly': ['https://cdn.plot.ly/plotly-latest.min']\n",
       "            }\n",
       "        });\n",
       "        require(['plotly'], function(Plotly) {\n",
       "            window._Plotly = Plotly;\n",
       "        });\n",
       "        }\n",
       "        </script>\n",
       "        "
      ]
     },
     "metadata": {},
     "output_type": "display_data"
    }
   ],
   "source": [
    "#If necessary, uncomment and run lines below:\n",
    "#!pip install wbdata\n",
    "#!pip install cufflinks\n",
    "\n",
    "import wbdata\n",
    "import cufflinks as cf\n",
    "cf.go_offline()"
   ]
  },
  {
   "cell_type": "markdown",
   "metadata": {
    "slideshow": {
     "slide_type": "slide"
    }
   },
   "source": [
    "### [#A] Population Statistics"
   ]
  },
  {
   "cell_type": "markdown",
   "metadata": {},
   "source": [
    "A python function named population\n",
    "that will deliver information to\n",
    "answer the queries of the following\n",
    "form:\n",
    "\n",
    "In [year] how many\n",
    "[people/males/females] aged [low] to\n",
    "[high] were living in [the\n",
    "world/region/country]?"
   ]
  },
  {
   "cell_type": "code",
   "execution_count": 42,
   "metadata": {},
   "outputs": [
    {
     "name": "stdout",
     "output_type": "stream",
     "text": [
      "In 2021, there will be 99999 people, aged from 0 to 80, living in world\n"
     ]
    }
   ],
   "source": [
    "\"\"\"\n",
    "population ranges:\n",
    "00-04\n",
    "05-09\n",
    "10-14\n",
    "15-19\n",
    "20-24\n",
    "25-29\n",
    "30-34\n",
    "35-39\n",
    "40-44\n",
    "45-49\n",
    "50-54\n",
    "55-59\n",
    "60-64\n",
    "65-69\n",
    "70-74\n",
    "75-79\n",
    "above 80\n",
    "\"\"\"\n",
    "\n",
    "def population(year=2021, target='people', age_lower=0, age_upper=80, loc='world'):\n",
    "    #convert arguments to data queries and return a series\n",
    "    result = 99999\n",
    "    print(\"In {}, there will be {} {}, aged from {} to {}, living in {}\".format(year, result, target, age_lower, age_upper, loc))\n",
    "#     print(\"In \" + str(year) + \", there will be \" + str(result) + \" \" + target\n",
    "#           + \"aged from \" + str(age_lower) + \" to \" + str(age_upper) + \" living in \" + loc)\n",
    "    \n",
    "\n",
    "indicators = \"SP.POP.3034.FE.5Y\"\n",
    "series_results = wbdata.get_series(indicators, country='WLD')\n",
    "population()"
   ]
  },
  {
   "cell_type": "markdown",
   "metadata": {
    "slideshow": {
     "slide_type": "slide"
    }
   },
   "source": [
    "### [#A] Population DataFrames"
   ]
  },
  {
   "cell_type": "markdown",
   "metadata": {},
   "source": [
    "A function that returns a pandas DataFrame\n",
    "indexed by Region or Country and Year, with\n",
    "columns giving counts of people in different\n",
    "age-sex groups."
   ]
  },
  {
   "cell_type": "code",
   "execution_count": null,
   "metadata": {},
   "outputs": [],
   "source": []
  },
  {
   "cell_type": "markdown",
   "metadata": {
    "slideshow": {
     "slide_type": "slide"
    }
   },
   "source": [
    "### [#B] Population Pyramids"
   ]
  },
  {
   "cell_type": "markdown",
   "metadata": {},
   "source": [
    "A python function that takes as\n",
    "input a pandas DataFrame with\n",
    "columns providing counts of people by\n",
    "age-sex groups, and constructs a\n",
    "“population pyramid” graph for\n",
    "visualizing the data."
   ]
  },
  {
   "cell_type": "code",
   "execution_count": null,
   "metadata": {},
   "outputs": [],
   "source": []
  },
  {
   "cell_type": "markdown",
   "metadata": {
    "slideshow": {
     "slide_type": "slide"
    }
   },
   "source": [
    "### [#C] Animated Population Pyramids"
   ]
  },
  {
   "cell_type": "markdown",
   "metadata": {},
   "source": [
    "A python function that takes as\n",
    "input a pandas DataFrame with\n",
    "columns providing counts of people by\n",
    "age-sex groups, with rows\n",
    "corresponding to different years, and\n",
    "constructs an animated “population\n",
    "pyramid” graph for visualizing how the\n",
    "population changes over time."
   ]
  },
  {
   "cell_type": "code",
   "execution_count": null,
   "metadata": {},
   "outputs": [],
   "source": []
  },
  {
   "cell_type": "markdown",
   "metadata": {
    "slideshow": {
     "slide_type": "slide"
    }
   },
   "source": [
    "### [#C] Population Maps"
   ]
  },
  {
   "cell_type": "markdown",
   "metadata": {},
   "source": [
    "A Jupyter notebook which queries a\n",
    "population database and provides\n",
    "visualizations in the form of maps.\n",
    "An example of a library that may be\n",
    "useful is geopandas."
   ]
  },
  {
   "cell_type": "code",
   "execution_count": null,
   "metadata": {},
   "outputs": [],
   "source": []
  },
  {
   "cell_type": "markdown",
   "metadata": {
    "slideshow": {
     "slide_type": "slide"
    }
   },
   "source": [
    "### [#C] Other Visualization Tools"
   ]
  },
  {
   "cell_type": "markdown",
   "metadata": {},
   "source": [
    "If you think of other ways to organize\n",
    "or visualize population and how it\n",
    "changes over time, this is for you!"
   ]
  },
  {
   "cell_type": "code",
   "execution_count": null,
   "metadata": {},
   "outputs": [],
   "source": []
  },
  {
   "cell_type": "markdown",
   "metadata": {
    "slideshow": {
     "slide_type": "slide"
    }
   },
   "source": [
    "### [#C] Agricultural Supply"
   ]
  },
  {
   "cell_type": "markdown",
   "metadata": {},
   "source": [
    "Relate changes in agricultural food supply\n",
    "to changes in population.\n",
    "\n",
    "What would Malthus think?"
   ]
  },
  {
   "cell_type": "code",
   "execution_count": null,
   "metadata": {},
   "outputs": [],
   "source": []
  },
  {
   "cell_type": "markdown",
   "metadata": {},
   "source": [
    "## Skills"
   ]
  },
  {
   "cell_type": "markdown",
   "metadata": {},
   "source": [
    "[#A] Jupyter Notebooks\n",
    "Basic manipulations of Jupyter notebooks\n",
    "on https://datahub.berkeley.edu\n",
    "\n",
    "[#A] Use of Indicators API from python\n",
    "Use the Indicators API to query the\n",
    "on-line World Development Indicators\n",
    "database.\n",
    "\n",
    "[#A] Build pandas.DataFrame\n",
    "Collect data on population into a\n",
    "pandas DataFrame.\n",
    "\n",
    "[#B] Read on-line spreadsheets using python\n",
    "[#B] Construct plots in python\n",
    "Using matplotlib, plotly, or similar.\n",
    "\n",
    "[#C] Construct world maps\n",
    "Consider using plotly, geopandas, or similar."
   ]
  },
  {
   "cell_type": "markdown",
   "metadata": {},
   "source": [
    "## Further/Others"
   ]
  },
  {
   "cell_type": "markdown",
   "metadata": {},
   "source": []
  }
 ],
 "metadata": {
  "history": [
   {
    "code": "## If import fails with \"ModuleNotFoundError\"\n## uncomment below & try again\n!pip install wbdata\n\nimport wbdata",
    "id": "7bdbd1aa9e9e4cec8a05e27902b523d7",
    "idx": 11,
    "time": "2021-01-25T22:24:18.117Z",
    "type": "execution"
   },
   {
    "id": "7bdbd1aa9e9e4cec8a05e27902b523d7",
    "time": "2021-01-25T22:24:23.176Z",
    "type": "completion"
   },
   {
    "code": "import wbdata\n\n# Return list of all country/region codes:\nwbdata.get_country()\n\n# Return list matching a query term:\n#wbdata.search_countries(\"World\")\n\n## Try your own search!\n# wbdata.search_countries(\"\")",
    "id": "31468b156f444d35b3084ce80801f64a",
    "idx": 14,
    "time": "2021-01-25T22:24:32.610Z",
    "type": "execution"
   },
   {
    "id": "31468b156f444d35b3084ce80801f64a",
    "time": "2021-01-25T22:24:33.377Z",
    "type": "completion"
   },
   {
    "code": "wbdata.get_source()",
    "id": "90361e3bc2854dd9891bc1d5d5d2715c",
    "idx": 17,
    "time": "2021-01-25T22:29:40.407Z",
    "type": "execution"
   },
   {
    "id": "90361e3bc2854dd9891bc1d5d5d2715c",
    "time": "2021-01-25T22:29:40.905Z",
    "type": "completion"
   },
   {
    "code": "SOURCE = 40 # \"Population estimates and projections\n\nindicators = wbdata.get_indicator(source=SOURCE)",
    "id": "6ec0d885b91a473c8b0691c0c2fbb7cb",
    "idx": 20,
    "time": "2021-01-25T22:30:08.984Z",
    "type": "execution"
   },
   {
    "id": "6ec0d885b91a473c8b0691c0c2fbb7cb",
    "time": "2021-01-25T22:30:09.719Z",
    "type": "completion"
   },
   {
    "code": "# Give variable for clarity\nvariable_labels = {\"SP.POP.TOTL\":\"World Population\"}\n\nworld = wbdata.get_dataframe(variable_labels, country=\"WLD\")\n\n# Date index is of type string; change to integers\nworld.index = world.index.astype(int)\n\n# Print a few years' data\nworld.head()",
    "id": "1c95405d979c487da484d3f2210473be",
    "idx": 23,
    "time": "2021-01-25T22:31:27.228Z",
    "type": "execution"
   },
   {
    "id": "1c95405d979c487da484d3f2210473be",
    "time": "2021-01-25T22:31:28.019Z",
    "type": "completion"
   },
   {
    "code": "#!pip install cufflinks # IF NECESSARY\nimport cufflinks as cf\ncf.go_offline()",
    "id": "99b9dc7abd42499eb1c5beb807d595d3",
    "idx": 27,
    "time": "2021-01-25T22:37:16.380Z",
    "type": "execution"
   },
   {
    "id": "99b9dc7abd42499eb1c5beb807d595d3",
    "time": "2021-01-25T22:37:18.083Z",
    "type": "completion"
   },
   {
    "code": "# Useful arguments to pass include xTitle, yTitle, Title\nworld.iplot(title=\"Fact I: Growth Rates Falling over Time\",xTitle='Year',yTitle='Population')",
    "id": "57aef14f9ca44d4c81c3af35496a1b84",
    "idx": 30,
    "time": "2021-01-25T22:37:24.688Z",
    "type": "execution"
   },
   {
    "id": "57aef14f9ca44d4c81c3af35496a1b84",
    "time": "2021-01-25T22:37:25.472Z",
    "type": "completion"
   },
   {
    "code": "import numpy as np\n\nvariable_labels = {\"SP.POP.TOTL\":\"Population\"}\n\n# Three letter codes come from wbdata.get_country()\ncountries = {\"WLD\":\"World\",\n             \"LIC\":\"Low income\",\n             \"LMC\":\"Low-medium income\",\n             \"UMC\":\"Upper-medium income\",\n             \"HIC\":\"High income\",\n            }\n\ndf = wbdata.get_dataframe(variable_labels, country = countries).squeeze()\n\ndf = df.unstack('country')\n# Date index is of type string; change to integers\ndf.index = df.index.astype(int)\n\n# Differences (over time) in logs give us growth rates\nnp.log(df).diff().iplot(title=\"Fact II: Poorer places have higher growth rates\",\n                        yTitle=\"Growth Rate\",xTitle='Year')",
    "id": "7244f783a917402d9091f19ea35a0198",
    "idx": 33,
    "time": "2021-01-25T22:38:27.119Z",
    "type": "execution"
   },
   {
    "id": "7244f783a917402d9091f19ea35a0198",
    "time": "2021-01-25T22:38:27.864Z",
    "type": "completion"
   },
   {
    "code": "import numpy as np\n\nvariable_labels = {\"SP.POP.TOTL\":\"Population\"}\n\n# Three letter codes come from wbdata.get_country()\ncountries = {\"WLD\":\"World\",\n             \"LIC\":\"Low income\",\n             \"LMC\":\"Low-medium income\",\n             \"UMC\":\"Upper-medium income\",\n             \"HIC\":\"High income\",\n             \"CHI\": \"China\",\n            }\n\ndf = wbdata.get_dataframe(variable_labels, country = countries).squeeze()\n\ndf = df.unstack('country')\n# Date index is of type string; change to integers\ndf.index = df.index.astype(int)\n\n# Differences (over time) in logs give us growth rates\nnp.log(df).diff().iplot(title=\"Fact II: Poorer places have higher growth rates\",\n                        yTitle=\"Growth Rate\",xTitle='Year')",
    "id": "7244f783a917402d9091f19ea35a0198",
    "idx": 33,
    "time": "2021-01-25T22:45:51.993Z",
    "type": "execution"
   },
   {
    "id": "7244f783a917402d9091f19ea35a0198",
    "time": "2021-01-25T22:45:52.932Z",
    "type": "completion"
   },
   {
    "code": "import numpy as np\n\nvariable_labels = {\"SP.POP.TOTL\":\"Population\"}\n\n# Three letter codes come from wbdata.get_country()\ncountries = {\"WLD\":\"World\",\n             \"LIC\":\"Low income\",\n             \"LMC\":\"Low-medium income\",\n             \"UMC\":\"Upper-medium income\",\n             \"HIC\":\"High income\",\n             \"CHn\": \"China\",\n            }\n\ndf = wbdata.get_dataframe(variable_labels, country = countries).squeeze()\n\ndf = df.unstack('country')\n# Date index is of type string; change to integers\ndf.index = df.index.astype(int)\n\n# Differences (over time) in logs give us growth rates\nnp.log(df).diff().iplot(title=\"Fact II: Poorer places have higher growth rates\",\n                        yTitle=\"Growth Rate\",xTitle='Year')",
    "id": "7244f783a917402d9091f19ea35a0198",
    "idx": 33,
    "time": "2021-01-25T22:46:46.768Z",
    "type": "execution"
   },
   {
    "id": "7244f783a917402d9091f19ea35a0198",
    "time": "2021-01-25T22:46:48.195Z",
    "type": "completion"
   },
   {
    "code": "import numpy as np\n\nvariable_labels = {\"SP.POP.TOTL\":\"Population\"}\n\n# Three letter codes come from wbdata.get_country()\ncountries = {\"WLD\":\"World\",\n             \"LIC\":\"Low income\",\n             \"LMC\":\"Low-medium income\",\n             \"UMC\":\"Upper-medium income\",\n             \"HIC\":\"High income\",\n             \"CHn\",\n            }\n\ndf = wbdata.get_dataframe(variable_labels, country = countries).squeeze()\n\ndf = df.unstack('country')\n# Date index is of type string; change to integers\ndf.index = df.index.astype(int)\n\n# Differences (over time) in logs give us growth rates\nnp.log(df).diff().iplot(title=\"Fact II: Poorer places have higher growth rates\",\n                        yTitle=\"Growth Rate\",xTitle='Year')",
    "id": "7244f783a917402d9091f19ea35a0198",
    "idx": 33,
    "time": "2021-01-25T22:46:57.655Z",
    "type": "execution"
   },
   {
    "id": "7244f783a917402d9091f19ea35a0198",
    "time": "2021-01-25T22:46:57.999Z",
    "type": "completion"
   },
   {
    "code": "import numpy as np\n\nvariable_labels = {\"SP.POP.TOTL\":\"Population\"}\n\n# Three letter codes come from wbdata.get_country()\ncountries = {\"WLD\":\"World\",\n             \"LIC\":\"Low income\",\n             \"LMC\":\"Low-medium income\",\n             \"UMC\":\"Upper-medium income\",\n             \"HIC\":\"High income\",\n             \"CHN\":\"China\",\n            }\n\ndf = wbdata.get_dataframe(variable_labels, country = countries).squeeze()\n\ndf = df.unstack('country')\n# Date index is of type string; change to integers\ndf.index = df.index.astype(int)\n\n# Differences (over time) in logs give us growth rates\nnp.log(df).diff().iplot(title=\"Fact II: Poorer places have higher growth rates\",\n                        yTitle=\"Growth Rate\",xTitle='Year')",
    "id": "7244f783a917402d9091f19ea35a0198",
    "idx": 33,
    "time": "2021-01-25T22:47:09.181Z",
    "type": "execution"
   },
   {
    "id": "7244f783a917402d9091f19ea35a0198",
    "time": "2021-01-25T22:47:10.226Z",
    "type": "completion"
   },
   {
    "code": "import numpy as np\n# wbdata.search_indicators(\"GDP per capita\")\n\nindicators = {\"NY.GDP.PCAP.CD\":\"GDP per capita\",\n              \"SP.DYN.TFRT.IN\":\"Total Fertility Rate\",\n              \"SP.POP.GROW\":\"Population Growth Rate\",\n              \"SP.DYN.AMRT.MA\":\"Male Mortality\",\n              \"SP.DYN.AMRT.FE\":\"Female Mortality\",\n              \"SP.POP.1564.FE.ZS\":\"% Adult Female\",\n              \"SP.POP.TOTL.FE.ZS\":\"% Female\"}\n\ndata = wbdata.get_dataframe(indicators)\n\n# Make years ints instead of strings\ndata.reset_index(inplace=True)\ndata['date'] = data['date'].astype(int)\ndata.set_index(['country','date'],inplace=True)\n\ndf = data.query(\"date==2018\") # Latest year missing some data\n\n# All dates now the same; not a useful index\ndf.index = df.index.droplevel('date')\n\ndf['Log GDP per capita'] = np.log(df['GDP per capita'])\n\ndf.iplot(kind='scatter', mode='markers', symbol='circle-dot',\n         x=\"Log GDP per capita\",y=\"Population Growth Rate\",\n         text=df.reset_index('country')['country'].values.tolist(),\n         xTitle=\"Log GDP per capita\",yTitle=\"Population Growth Rate\",\n         title=\"Fact II: Population growth is lower in higher-income countries\")",
    "id": "d54436366066436aa2c964e2c92e6ac3",
    "idx": 36,
    "time": "2021-01-25T22:50:54.825Z",
    "type": "execution"
   },
   {
    "id": "d54436366066436aa2c964e2c92e6ac3",
    "time": "2021-01-25T22:52:54.064Z",
    "type": "completion"
   },
   {
    "code": "world = data.query(\"country=='World'\")\n\n# Drop country index for World data\nworld.index = world.index.droplevel('country')\n\nworld[[\"Male Mortality\",\"Female Mortality\"]].iplot(title=\"Deaths per 10,000\")",
    "id": "47a256706e0b435d85bc6952f888d230",
    "idx": 41,
    "time": "2021-01-25T22:58:37.623Z",
    "type": "execution"
   },
   {
    "id": "47a256706e0b435d85bc6952f888d230",
    "time": "2021-01-25T22:58:38.102Z",
    "type": "completion"
   },
   {
    "code": "# % Adult Female is % of females who are adult.\n# To make a share of total population take product\nworld[\"% Adult Female\"] = world[\"% Adult Female\"]*world[\"% Female\"]/100\n\nworld[\"% Adult Female\"].iplot(title=\"% of Adult Females in World Population\")",
    "id": "e4028c9db2b0434081ea98f74d05f947",
    "idx": 44,
    "time": "2021-01-25T22:59:31.278Z",
    "type": "execution"
   },
   {
    "id": "e4028c9db2b0434081ea98f74d05f947",
    "time": "2021-01-25T22:59:31.565Z",
    "type": "completion"
   },
   {
    "code": "world[\"Total Fertility Rate\"].iplot()",
    "id": "d398e152c8e34daa86a26d208d9fc064",
    "idx": 47,
    "time": "2021-01-25T23:01:37.442Z",
    "type": "execution"
   }
  ],
  "kernelspec": {
   "display_name": "Python 3",
   "language": "python",
   "name": "python3"
  },
  "language_info": {
   "codemirror_mode": {
    "name": "ipython",
    "version": 3
   },
   "file_extension": ".py",
   "mimetype": "text/x-python",
   "name": "python",
   "nbconvert_exporter": "python",
   "pygments_lexer": "ipython3",
   "version": "3.8.5"
  },
  "org": null
 },
 "nbformat": 4,
 "nbformat_minor": 1
}
