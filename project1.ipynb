{
 "cells": [
  {
   "cell_type": "markdown",
   "metadata": {},
   "source": [
    "# Group Mahalanobis Project 1\n"
   ]
  },
  {
   "cell_type": "markdown",
   "metadata": {},
   "source": [
    "## Introduction/Brief Description"
   ]
  },
  {
   "cell_type": "markdown",
   "metadata": {},
   "source": [
    "Lorem ipsum dolor sit amet, consectetur adipiscing elit. Nam pulvinar sagittis erat, eget commodo lectus luctus in. Sed a erat eget felis convallis ultricies. Morbi pharetra quam at volutpat pharetra. Donec bibendum ex sed dignissim imperdiet. Proin fringilla purus tellus, vel posuere eros sagittis vitae. Cras commodo suscipit dui, quis commodo ex pharetra sed. Orci varius natoque penatibus et magnis dis parturient montes, nascetur ridiculus mus. Ut elit massa, dignissim et dui at, molestie hendrerit dui. Nunc non blandit tellus.\n"
   ]
  },
  {
   "cell_type": "markdown",
   "metadata": {},
   "source": [
    "## Project Deliverables"
   ]
  },
  {
   "cell_type": "markdown",
   "metadata": {
    "slideshow": {
     "slide_type": "slide"
    }
   },
   "source": [
    "### [#A] Data Imports"
   ]
  },
  {
   "cell_type": "code",
   "execution_count": 29,
   "metadata": {},
   "outputs": [
    {
     "data": {
      "text/html": [
       "        <script type=\"text/javascript\">\n",
       "        window.PlotlyConfig = {MathJaxConfig: 'local'};\n",
       "        if (window.MathJax) {MathJax.Hub.Config({SVG: {font: \"STIX-Web\"}});}\n",
       "        if (typeof require !== 'undefined') {\n",
       "        require.undef(\"plotly\");\n",
       "        requirejs.config({\n",
       "            paths: {\n",
       "                'plotly': ['https://cdn.plot.ly/plotly-latest.min']\n",
       "            }\n",
       "        });\n",
       "        require(['plotly'], function(Plotly) {\n",
       "            window._Plotly = Plotly;\n",
       "        });\n",
       "        }\n",
       "        </script>\n",
       "        "
      ]
     },
     "metadata": {},
     "output_type": "display_data"
    }
   ],
   "source": [
    "\"\"\"\n",
    "If necessary, uncomment and install:\n",
    "\"\"\"\n",
    "#!pip install wbdata\n",
    "#!pip install cufflinks\n",
    "#!pip install iso3166\n",
    "\n",
    "import iso3166 #iso3166.countries.get('country details')\n",
    "import wbdata\n",
    "import cufflinks as cf\n",
    "import pandas as pd\n",
    "import numpy as np\n",
    "import plotly\n",
    "import matplotlib.pyplot as plt\n",
    "import seaborn as sns\n",
    "cf.go_offline()"
   ]
  },
  {
   "cell_type": "markdown",
   "metadata": {},
   "source": [
    "We are using data from **Source 40: \"Population Estimates and Projections\"**. We can also use **wbdata.get_topic()** and **wbdata.get_indicator()** to explore other datasets.\n",
    "\n",
    "WBDATA API ref: https://wbdata.readthedocs.io/en/stable/wbdata_library.html"
   ]
  },
  {
   "cell_type": "code",
   "execution_count": 18,
   "metadata": {},
   "outputs": [],
   "source": [
    "#wbdata.get_source() to get all sources\n",
    "#wbdata.get_topic()\n",
    "#wbdata.get_indicator()\n",
    "\n",
    "source_id = 40 #Population Estimates and Projections\n",
    "indicators = wbdata.get_indicator(source=source_id)"
   ]
  },
  {
   "cell_type": "markdown",
   "metadata": {
    "slideshow": {
     "slide_type": "slide"
    }
   },
   "source": [
    "### [#A] Population DataFrames"
   ]
  },
  {
   "cell_type": "markdown",
   "metadata": {},
   "source": [
    "A function that returns a pandas DataFrame\n",
    "indexed by Region or Country and Year, with\n",
    "columns giving counts of people in different\n",
    "age-sex groups:"
   ]
  },
  {
   "cell_type": "markdown",
   "metadata": {},
   "source": [
    "**pop_df (year, group, age_lower, age_upper, location)**"
   ]
  },
  {
   "cell_type": "code",
   "execution_count": 178,
   "metadata": {},
   "outputs": [],
   "source": [
    "\"\"\"\n",
    "population ranges available from dataset:\n",
    "00-04, 05-09, 10-14, 15-19, 20-24, 25-29, 30-34, ..., 70-74, 75-79, above 80\n",
    "\"\"\"\n",
    "\n",
    "def pop_df(year='2021', group='all', age_lower=0, age_upper=100, location='world'):\n",
    "    df = pop_df_helper(year, age_lower, age_upper, location)\n",
    "        \n",
    "    if group == 'males':\n",
    "        return df.drop(columns = ['Female'])\n",
    "    elif group == 'females':\n",
    "        return df.drop(columns = ['Male'])\n",
    "    else:\n",
    "        total_pop = df[\"Female\"] + df[\"Male\"]\n",
    "        df[\"Total\"] = total_pop\n",
    "    return df\n",
    "\n",
    "# Returns a list of input strings for population age ranges\n",
    "def pop_df_helper(year, age_lower, age_upper, location):\n",
    "    if location != 'world':\n",
    "        country_alpha3 = iso3166.countries.get(location).alpha3\n",
    "        country_name = iso3166.countries.get(location).apolitical_name\n",
    "    else:\n",
    "        country_alpha3 = 'WLD'\n",
    "        country_name = 'World'\n",
    "    inputs = list_of_age_inputs(age_lower, age_upper)\n",
    "\n",
    "    #create indicator-dictionaries required for WBData API\n",
    "    indicator_dict_m = {}\n",
    "    indicator_dict_f = {}\n",
    "    for i in inputs:\n",
    "        key_m = \"SP.POP.{}.{}\".format(i, 'MA')\n",
    "        key_f = \"SP.POP.{}.{}\".format(i, 'FE')\n",
    "        value = \"{}-{}\".format(i[:2], i[2:])\n",
    "        indicator_dict_m[key_m] = value\n",
    "        indicator_dict_f[key_f] = value\n",
    "\n",
    "    #source_id = 40, refer to wbdata.get_source()\n",
    "    wbdf_m = wbdata.get_dataframe(indicator_dict_m, country=country_alpha3, source=source_id)\n",
    "    wbdf_f = wbdata.get_dataframe(indicator_dict_f, country=country_alpha3, source=source_id)\n",
    "    datas_m = wbdf_m.query(\"date=='{}'\".format(year)).sum(axis=0).tolist()\n",
    "    datas_f = wbdf_f.query(\"date=='{}'\".format(year)).sum(axis=0).tolist()\n",
    "    df = pd.DataFrame({\n",
    "        'Country': country_name,\n",
    "        'Year': year,\n",
    "        'Age': list(indicator_dict_m.values()),\n",
    "        'Female': datas_f,\n",
    "        'Male': datas_m\n",
    "    })\n",
    "    return df\n",
    "\n",
    "# Returns a list of input strings for population age ranges\n",
    "def list_of_age_inputs(age_lower, age_upper):\n",
    "    def round_down(n):\n",
    "        return max(0, n - n % 5)\n",
    "\n",
    "    def round_up(n):\n",
    "        return n - n % 5 + 5\n",
    "\n",
    "    results = []\n",
    "    r_lower_bound, r_upper_bound = round_down(age_lower), round_up(age_upper)   \n",
    "    while r_lower_bound < min(79, r_upper_bound):\n",
    "        results.append(\"{:02d}{:02d}\".format(r_lower_bound, r_lower_bound + 4))\n",
    "        r_lower_bound += 5\n",
    "    if age_upper >= 80:\n",
    "        results.append('80UP')\n",
    "    return results"
   ]
  },
  {
   "cell_type": "markdown",
   "metadata": {},
   "source": [
    "The **pop_df** function takes in the year, target group, age lower/upper bounds and the country as arguments. The function returns a dataframe."
   ]
  },
  {
   "cell_type": "markdown",
   "metadata": {},
   "source": [
    "Variables:"
   ]
  },
  {
   "cell_type": "code",
   "execution_count": 371,
   "metadata": {},
   "outputs": [],
   "source": [
    "year = 2015 #1960 to 2050 (projections)\n",
    "group = 'all' #males/females/all\n",
    "age_lower = 13 #rounds to nearest 5 (actual range: 10 to 65)\n",
    "age_upper = 61\n",
    "location = 'myanmar' #accepts country names/abbreviations, 'world'"
   ]
  },
  {
   "cell_type": "markdown",
   "metadata": {},
   "source": [
    "Function call and output:"
   ]
  },
  {
   "cell_type": "code",
   "execution_count": 372,
   "metadata": {},
   "outputs": [],
   "source": [
    "df = pop_df(year, group, age_lower, age_upper, location)"
   ]
  },
  {
   "cell_type": "markdown",
   "metadata": {},
   "source": [
    "A dataframe is returned with the above format. The returned dataframe can be used to construct visualizations."
   ]
  },
  {
   "cell_type": "markdown",
   "metadata": {
    "slideshow": {
     "slide_type": "slide"
    }
   },
   "source": [
    "### [#A] Population Statistics"
   ]
  },
  {
   "cell_type": "markdown",
   "metadata": {},
   "source": [
    "A python function named population\n",
    "that will deliver information to\n",
    "answer the queries of the following\n",
    "form:\n",
    "\n",
    "In [year] how many\n",
    "[people/males/females] aged [low] to\n",
    "[high] were living in [the\n",
    "world/region/country]?"
   ]
  },
  {
   "cell_type": "markdown",
   "metadata": {},
   "source": [
    "**pop_stats (year, group, age_lower, age_upper, location)**"
   ]
  },
  {
   "cell_type": "code",
   "execution_count": 22,
   "metadata": {},
   "outputs": [],
   "source": [
    "def pop_stats(year='2021', group='all', age_lower=0, age_upper=100, location='world'):\n",
    "    df = pop_df(year, group, age_lower, age_upper, location)\n",
    "    inputs = list_of_age_inputs(age_lower, age_upper);\n",
    "    total = df.sum()[3]\n",
    "    t = total.astype(int)\n",
    "    age_l = inputs[0][0:2]\n",
    "    \n",
    "    if group == 'people':\n",
    "        g = 'people'\n",
    "    else:\n",
    "        g = group\n",
    "        \n",
    "    if age_upper >= 80:\n",
    "        age_h = '80 or over'\n",
    "    else:\n",
    "        age_h = inputs[-1][2:4]\n",
    "    \n",
    "    if location == 'world':\n",
    "        loc = 'the world'\n",
    "    else:\n",
    "        loc = iso3166.countries.get(location).apolitical_name\n",
    "    \n",
    "    if year > 2021:\n",
    "        print(\"By estimation, in {}, there will be {} {} aged {} to aged {} living in {}.\".format(year, t, g, age_l, age_h, loc))\n",
    "    else:\n",
    "        print(\"In {}, there are {} {} aged {} to aged {} living in {}.\".format(year, t, g, age_l, age_h, loc))\n",
    "        "
   ]
  },
  {
   "cell_type": "markdown",
   "metadata": {},
   "source": [
    "Our **pop_stats** function takes in the year, target group, age lower/upper bounds and the country as arguments. The function returns a summary containing the information we need."
   ]
  },
  {
   "cell_type": "markdown",
   "metadata": {},
   "source": [
    "Variables:"
   ]
  },
  {
   "cell_type": "code",
   "execution_count": 23,
   "metadata": {},
   "outputs": [],
   "source": [
    "year = 2021\n",
    "group = 'males'\n",
    "age_lower = 10\n",
    "age_upper = 45\n",
    "location = 'world'"
   ]
  },
  {
   "cell_type": "markdown",
   "metadata": {},
   "source": [
    "Function call and output:"
   ]
  },
  {
   "cell_type": "code",
   "execution_count": 24,
   "metadata": {},
   "outputs": [
    {
     "name": "stdout",
     "output_type": "stream",
     "text": [
      "In 2021, there are 2341749700 males aged 10 to aged 49 living in the world.\n"
     ]
    }
   ],
   "source": [
    "pop_stats(year, group, age_lower, age_upper, location)"
   ]
  },
  {
   "cell_type": "markdown",
   "metadata": {
    "slideshow": {
     "slide_type": "slide"
    }
   },
   "source": [
    "### [#B] Population Pyramids"
   ]
  },
  {
   "cell_type": "markdown",
   "metadata": {},
   "source": [
    "A python function that takes as\n",
    "input a pandas DataFrame with\n",
    "columns providing counts of people by\n",
    "age-sex groups, and constructs a\n",
    "“population pyramid” graph for\n",
    "visualizing the data."
   ]
  },
  {
   "cell_type": "markdown",
   "metadata": {},
   "source": [
    "**draw_pop_pyramid (dataframe)**"
   ]
  },
  {
   "cell_type": "code",
   "execution_count": 11,
   "metadata": {},
   "outputs": [],
   "source": [
    "def draw_pop_pyramid(df):\n",
    "    #negate values under 'Male'\n",
    "    df['Male'] = df['Male'].apply(lambda x: -x)\n",
    "    #remove unnecessary columns\n",
    "    df.drop(columns = ['Country', 'Year', 'Total'])\n",
    "\n",
    "    AgeClass = df['Age'][::-1]\n",
    "    bar_plot = sns.barplot(x='Female', y='Age', data=df, order=AgeClass)\n",
    "    bar_plot = sns.barplot(x='Male', y='Age', data=df, order=AgeClass)\n",
    "    bar_plot.set(xlabel=\"Population (millions)\", ylabel=\"Age-Group\", title = \"Population Pyramid\")"
   ]
  },
  {
   "cell_type": "markdown",
   "metadata": {},
   "source": [
    "**draw_pop_pyramid** function call and output:"
   ]
  },
  {
   "cell_type": "code",
   "execution_count": 12,
   "metadata": {},
   "outputs": [
    {
     "data": {
      "image/png": "[encoded data removed]",
      "text/plain": [
       "<Figure size 432x288 with 1 Axes>"
      ]
     },
     "metadata": {
      "needs_background": "light"
     },
     "output_type": "display_data"
    }
   ],
   "source": [
    "year = 2018\n",
    "group = 'all'\n",
    "age_lower = 0\n",
    "age_upper = 80\n",
    "location = 'thailand'\n",
    "\n",
    "df = pop_df(year, group, age_lower, age_upper, location)\n",
    "draw_pop_pyramid(df) "
   ]
  },
  {
   "cell_type": "markdown",
   "metadata": {},
   "source": [
    "#### Functions we have so far:\n",
    "**pop_df(year, group, age_lr, age_up, location)**: returns a dataframe for visualizations<br>\n",
    "**pop_stats(year, group, age_lr, age_up, location)**: returns a print statement containing population information<br>\n",
    "**draw_pop_pyramid(dataframe)**: accepts a dataframe created using pop_df(), and creates a population histogram"
   ]
  },
  {
   "cell_type": "markdown",
   "metadata": {
    "slideshow": {
     "slide_type": "slide"
    }
   },
   "source": [
    "### [#C] Animated Population Pyramids"
   ]
  },
  {
   "cell_type": "markdown",
   "metadata": {},
   "source": [
    "A python function that takes as\n",
    "input a pandas DataFrame with\n",
    "columns providing counts of people by\n",
    "age-sex groups, with rows\n",
    "corresponding to different years, and\n",
    "constructs an animated “population\n",
    "pyramid” graph for visualizing how the\n",
    "population changes over time."
   ]
  },
  {
   "cell_type": "code",
   "execution_count": null,
   "metadata": {},
   "outputs": [],
   "source": []
  },
  {
   "cell_type": "markdown",
   "metadata": {
    "slideshow": {
     "slide_type": "slide"
    }
   },
   "source": [
    "### [#C] Population Maps"
   ]
  },
  {
   "cell_type": "markdown",
   "metadata": {},
   "source": [
    "A Jupyter notebook which queries a\n",
    "population database and provides\n",
    "visualizations in the form of maps.\n",
    "An example of a library that may be\n",
    "useful is geopandas."
   ]
  },
  {
   "cell_type": "code",
   "execution_count": null,
   "metadata": {},
   "outputs": [],
   "source": []
  },
  {
   "cell_type": "markdown",
   "metadata": {
    "slideshow": {
     "slide_type": "slide"
    }
   },
   "source": [
    "### [#C] Other Visualization Tools"
   ]
  },
  {
   "cell_type": "markdown",
   "metadata": {},
   "source": [
    "If you think of other ways to organize\n",
    "or visualize population and how it\n",
    "changes over time, this is for you!"
   ]
  },
  {
   "cell_type": "code",
   "execution_count": 346,
   "metadata": {},
   "outputs": [],
   "source": [
    "countries = ['Myanmar', 'Thailand', 'Vietnam', 'Singapore', 'Indonesia', 'Cambodia', 'Brunei']"
   ]
  },
  {
   "cell_type": "code",
   "execution_count": 471,
   "metadata": {},
   "outputs": [
    {
     "data": {
      "image/png": "[encoded data removed]",
      "text/plain": [
       "<Figure size 720x720 with 1 Axes>"
      ]
     },
     "metadata": {
      "needs_background": "light"
     },
     "output_type": "display_data"
    }
   ],
   "source": [
    "group = 'all' #males/females/all\n",
    "age_lower = 0 #rounds to nearest 5 (actual range: 10 to 65)\n",
    "age_upper = 79\n",
    "location = 'Singapore' #accepts country names/abbreviations, 'world'\n",
    "\n",
    "years = [1980, 1990, 2000, 2010, 2020]\n",
    "frames = []\n",
    "for y in years:\n",
    "    frames.append(pop_df(y, group, age_lower, age_upper, location))\n",
    "    \n",
    "result = pd.concat(frames, axis=0, ignore_index = True)\n",
    "result = result.drop(columns = ['Male', 'Female', 'Country'])\n",
    "result = result.pivot(index='Year', columns='Age')\n",
    "\n",
    "for c in result:\n",
    "    result[c] = np.log(result[c])\n",
    "\n",
    "my_colors = [(x/25, x/25, x/20, 0.75) for x in range(17)] \n",
    "graph = result.plot(kind='bar', figsize=(10,10), ylim=(10, 13.2), legend='reverse', rot=0, alpha=0.8, color=my_colors)\n",
    "handles, labels = graph.get_legend_handles_labels()\n",
    "graph.set_ylabel('Total Population (Log)');\n",
    "graph.set_title(\"Population Change in {} over decades\".format(location))\n",
    "graph.legend(handles[::-1], labels[::-1], title='Age Groups', loc='center left', bbox_to_anchor=(1.0, 0.5));"
   ]
  },
  {
   "cell_type": "code",
   "execution_count": 472,
   "metadata": {},
   "outputs": [
    {
     "data": {
      "image/png": "[encoded data removed]",
      "text/plain": [
       "<Figure size 720x720 with 1 Axes>"
      ]
     },
     "metadata": {
      "needs_background": "light"
     },
     "output_type": "display_data"
    }
   ],
   "source": [
    "group = 'all' #males/females/all\n",
    "age_lower = 0 #rounds to nearest 5 (actual range: 10 to 65)\n",
    "age_upper = 85\n",
    "location = 'Cambodia' #accepts country names/abbreviations, 'world'\n",
    "\n",
    "years = [1980, 1990, 2000, 2010, 2020]\n",
    "frames = []\n",
    "for y in years:\n",
    "    frames.append(pop_df(y, group, age_lower, age_upper, location))\n",
    "    \n",
    "result = pd.concat(frames, axis=0, ignore_index = True)\n",
    "result = result.drop(columns = ['Male', 'Female', 'Country'])\n",
    "result = result.pivot(index='Year', columns='Age')\n",
    "\n",
    "for c in result:\n",
    "    result[c] = np.log(result[c])\n",
    "\n",
    "my_colors = [(x/30, x/30, 0.75) for x in range(17)] \n",
    "graph = result.plot(kind='bar', figsize=(10,10), ylim=(10, 14.5), legend='reverse', rot=0, alpha=0.8, color=my_colors)\n",
    "handles, labels = graph.get_legend_handles_labels()\n",
    "graph.set_ylabel('Total Population (Log)');\n",
    "graph.set_title(\"Population Change in {} over decades\".format(location))\n",
    "graph.legend(handles[::-1], labels[::-1], title='Age Groups', loc='center left', bbox_to_anchor=(1.0, 0.5));"
   ]
  },
  {
   "cell_type": "markdown",
   "metadata": {
    "slideshow": {
     "slide_type": "slide"
    }
   },
   "source": [
    "### [#C] Agricultural Supply"
   ]
  },
  {
   "cell_type": "markdown",
   "metadata": {},
   "source": [
    "Relate changes in agricultural food supply\n",
    "to changes in population.\n",
    "\n",
    "What would Malthus think?"
   ]
  },
  {
   "cell_type": "code",
   "execution_count": null,
   "metadata": {},
   "outputs": [],
   "source": []
  },
  {
   "cell_type": "markdown",
   "metadata": {},
   "source": [
    "## Skills"
   ]
  },
  {
   "cell_type": "markdown",
   "metadata": {},
   "source": [
    "[#A] Jupyter Notebooks\n",
    "Basic manipulations of Jupyter notebooks\n",
    "on https://datahub.berkeley.edu\n",
    "\n",
    "[#A] Use of Indicators API from python\n",
    "Use the Indicators API to query the\n",
    "on-line World Development Indicators\n",
    "database.\n",
    "\n",
    "[#A] Build pandas.DataFrame\n",
    "Collect data on population into a\n",
    "pandas DataFrame.\n",
    "\n",
    "[#B] Read on-line spreadsheets using python\n",
    "[#B] Construct plots in python\n",
    "Using matplotlib, plotly, or similar.\n",
    "\n",
    "[#C] Construct world maps\n",
    "Consider using plotly, geopandas, or similar."
   ]
  },
  {
   "cell_type": "markdown",
   "metadata": {},
   "source": [
    "## Further/Others"
   ]
  },
  {
   "cell_type": "code",
   "execution_count": null,
   "metadata": {},
   "outputs": [],
   "source": []
  }
 ],
 "metadata": {
  "history": [
   {
    "code": "## If import fails with \"ModuleNotFoundError\"\n## uncomment below & try again\n!pip install wbdata\n\nimport wbdata",
    "id": "7bdbd1aa9e9e4cec8a05e27902b523d7",
    "idx": 11,
    "time": "2021-01-25T22:24:18.117Z",
    "type": "execution"
   },
   {
    "id": "7bdbd1aa9e9e4cec8a05e27902b523d7",
    "time": "2021-01-25T22:24:23.176Z",
    "type": "completion"
   },
   {
    "code": "import wbdata\n\n# Return list of all country/region codes:\nwbdata.get_country()\n\n# Return list matching a query term:\n#wbdata.search_countries(\"World\")\n\n## Try your own search!\n# wbdata.search_countries(\"\")",
    "id": "31468b156f444d35b3084ce80801f64a",
    "idx": 14,
    "time": "2021-01-25T22:24:32.610Z",
    "type": "execution"
   },
   {
    "id": "31468b156f444d35b3084ce80801f64a",
    "time": "2021-01-25T22:24:33.377Z",
    "type": "completion"
   },
   {
    "code": "wbdata.get_source()",
    "id": "90361e3bc2854dd9891bc1d5d5d2715c",
    "idx": 17,
    "time": "2021-01-25T22:29:40.407Z",
    "type": "execution"
   },
   {
    "id": "90361e3bc2854dd9891bc1d5d5d2715c",
    "time": "2021-01-25T22:29:40.905Z",
    "type": "completion"
   },
   {
    "code": "SOURCE = 40 # \"Population estimates and projections\n\nindicators = wbdata.get_indicator(source=SOURCE)",
    "id": "6ec0d885b91a473c8b0691c0c2fbb7cb",
    "idx": 20,
    "time": "2021-01-25T22:30:08.984Z",
    "type": "execution"
   },
   {
    "id": "6ec0d885b91a473c8b0691c0c2fbb7cb",
    "time": "2021-01-25T22:30:09.719Z",
    "type": "completion"
   },
   {
    "code": "# Give variable for clarity\nvariable_labels = {\"SP.POP.TOTL\":\"World Population\"}\n\nworld = wbdata.get_dataframe(variable_labels, country=\"WLD\")\n\n# Date index is of type string; change to integers\nworld.index = world.index.astype(int)\n\n# Print a few years' data\nworld.head()",
    "id": "1c95405d979c487da484d3f2210473be",
    "idx": 23,
    "time": "2021-01-25T22:31:27.228Z",
    "type": "execution"
   },
   {
    "id": "1c95405d979c487da484d3f2210473be",
    "time": "2021-01-25T22:31:28.019Z",
    "type": "completion"
   },
   {
    "code": "#!pip install cufflinks # IF NECESSARY\nimport cufflinks as cf\ncf.go_offline()",
    "id": "99b9dc7abd42499eb1c5beb807d595d3",
    "idx": 27,
    "time": "2021-01-25T22:37:16.380Z",
    "type": "execution"
   },
   {
    "id": "99b9dc7abd42499eb1c5beb807d595d3",
    "time": "2021-01-25T22:37:18.083Z",
    "type": "completion"
   },
   {
    "code": "# Useful arguments to pass include xTitle, yTitle, Title\nworld.iplot(title=\"Fact I: Growth Rates Falling over Time\",xTitle='Year',yTitle='Population')",
    "id": "57aef14f9ca44d4c81c3af35496a1b84",
    "idx": 30,
    "time": "2021-01-25T22:37:24.688Z",
    "type": "execution"
   },
   {
    "id": "57aef14f9ca44d4c81c3af35496a1b84",
    "time": "2021-01-25T22:37:25.472Z",
    "type": "completion"
   },
   {
    "code": "import numpy as np\n\nvariable_labels = {\"SP.POP.TOTL\":\"Population\"}\n\n# Three letter codes come from wbdata.get_country()\ncountries = {\"WLD\":\"World\",\n             \"LIC\":\"Low income\",\n             \"LMC\":\"Low-medium income\",\n             \"UMC\":\"Upper-medium income\",\n             \"HIC\":\"High income\",\n            }\n\ndf = wbdata.get_dataframe(variable_labels, country = countries).squeeze()\n\ndf = df.unstack('country')\n# Date index is of type string; change to integers\ndf.index = df.index.astype(int)\n\n# Differences (over time) in logs give us growth rates\nnp.log(df).diff().iplot(title=\"Fact II: Poorer places have higher growth rates\",\n                        yTitle=\"Growth Rate\",xTitle='Year')",
    "id": "7244f783a917402d9091f19ea35a0198",
    "idx": 33,
    "time": "2021-01-25T22:38:27.119Z",
    "type": "execution"
   },
   {
    "id": "7244f783a917402d9091f19ea35a0198",
    "time": "2021-01-25T22:38:27.864Z",
    "type": "completion"
   },
   {
    "code": "import numpy as np\n\nvariable_labels = {\"SP.POP.TOTL\":\"Population\"}\n\n# Three letter codes come from wbdata.get_country()\ncountries = {\"WLD\":\"World\",\n             \"LIC\":\"Low income\",\n             \"LMC\":\"Low-medium income\",\n             \"UMC\":\"Upper-medium income\",\n             \"HIC\":\"High income\",\n             \"CHI\": \"China\",\n            }\n\ndf = wbdata.get_dataframe(variable_labels, country = countries).squeeze()\n\ndf = df.unstack('country')\n# Date index is of type string; change to integers\ndf.index = df.index.astype(int)\n\n# Differences (over time) in logs give us growth rates\nnp.log(df).diff().iplot(title=\"Fact II: Poorer places have higher growth rates\",\n                        yTitle=\"Growth Rate\",xTitle='Year')",
    "id": "7244f783a917402d9091f19ea35a0198",
    "idx": 33,
    "time": "2021-01-25T22:45:51.993Z",
    "type": "execution"
   },
   {
    "id": "7244f783a917402d9091f19ea35a0198",
    "time": "2021-01-25T22:45:52.932Z",
    "type": "completion"
   },
   {
    "code": "import numpy as np\n\nvariable_labels = {\"SP.POP.TOTL\":\"Population\"}\n\n# Three letter codes come from wbdata.get_country()\ncountries = {\"WLD\":\"World\",\n             \"LIC\":\"Low income\",\n             \"LMC\":\"Low-medium income\",\n             \"UMC\":\"Upper-medium income\",\n             \"HIC\":\"High income\",\n             \"CHn\": \"China\",\n            }\n\ndf = wbdata.get_dataframe(variable_labels, country = countries).squeeze()\n\ndf = df.unstack('country')\n# Date index is of type string; change to integers\ndf.index = df.index.astype(int)\n\n# Differences (over time) in logs give us growth rates\nnp.log(df).diff().iplot(title=\"Fact II: Poorer places have higher growth rates\",\n                        yTitle=\"Growth Rate\",xTitle='Year')",
    "id": "7244f783a917402d9091f19ea35a0198",
    "idx": 33,
    "time": "2021-01-25T22:46:46.768Z",
    "type": "execution"
   },
   {
    "id": "7244f783a917402d9091f19ea35a0198",
    "time": "2021-01-25T22:46:48.195Z",
    "type": "completion"
   },
   {
    "code": "import numpy as np\n\nvariable_labels = {\"SP.POP.TOTL\":\"Population\"}\n\n# Three letter codes come from wbdata.get_country()\ncountries = {\"WLD\":\"World\",\n             \"LIC\":\"Low income\",\n             \"LMC\":\"Low-medium income\",\n             \"UMC\":\"Upper-medium income\",\n             \"HIC\":\"High income\",\n             \"CHn\",\n            }\n\ndf = wbdata.get_dataframe(variable_labels, country = countries).squeeze()\n\ndf = df.unstack('country')\n# Date index is of type string; change to integers\ndf.index = df.index.astype(int)\n\n# Differences (over time) in logs give us growth rates\nnp.log(df).diff().iplot(title=\"Fact II: Poorer places have higher growth rates\",\n                        yTitle=\"Growth Rate\",xTitle='Year')",
    "id": "7244f783a917402d9091f19ea35a0198",
    "idx": 33,
    "time": "2021-01-25T22:46:57.655Z",
    "type": "execution"
   },
   {
    "id": "7244f783a917402d9091f19ea35a0198",
    "time": "2021-01-25T22:46:57.999Z",
    "type": "completion"
   },
   {
    "code": "import numpy as np\n\nvariable_labels = {\"SP.POP.TOTL\":\"Population\"}\n\n# Three letter codes come from wbdata.get_country()\ncountries = {\"WLD\":\"World\",\n             \"LIC\":\"Low income\",\n             \"LMC\":\"Low-medium income\",\n             \"UMC\":\"Upper-medium income\",\n             \"HIC\":\"High income\",\n             \"CHN\":\"China\",\n            }\n\ndf = wbdata.get_dataframe(variable_labels, country = countries).squeeze()\n\ndf = df.unstack('country')\n# Date index is of type string; change to integers\ndf.index = df.index.astype(int)\n\n# Differences (over time) in logs give us growth rates\nnp.log(df).diff().iplot(title=\"Fact II: Poorer places have higher growth rates\",\n                        yTitle=\"Growth Rate\",xTitle='Year')",
    "id": "7244f783a917402d9091f19ea35a0198",
    "idx": 33,
    "time": "2021-01-25T22:47:09.181Z",
    "type": "execution"
   },
   {
    "id": "7244f783a917402d9091f19ea35a0198",
    "time": "2021-01-25T22:47:10.226Z",
    "type": "completion"
   },
   {
    "code": "import numpy as np\n# wbdata.search_indicators(\"GDP per capita\")\n\nindicators = {\"NY.GDP.PCAP.CD\":\"GDP per capita\",\n              \"SP.DYN.TFRT.IN\":\"Total Fertility Rate\",\n              \"SP.POP.GROW\":\"Population Growth Rate\",\n              \"SP.DYN.AMRT.MA\":\"Male Mortality\",\n              \"SP.DYN.AMRT.FE\":\"Female Mortality\",\n              \"SP.POP.1564.FE.ZS\":\"% Adult Female\",\n              \"SP.POP.TOTL.FE.ZS\":\"% Female\"}\n\ndata = wbdata.get_dataframe(indicators)\n\n# Make years ints instead of strings\ndata.reset_index(inplace=True)\ndata['date'] = data['date'].astype(int)\ndata.set_index(['country','date'],inplace=True)\n\ndf = data.query(\"date==2018\") # Latest year missing some data\n\n# All dates now the same; not a useful index\ndf.index = df.index.droplevel('date')\n\ndf['Log GDP per capita'] = np.log(df['GDP per capita'])\n\ndf.iplot(kind='scatter', mode='markers', symbol='circle-dot',\n         x=\"Log GDP per capita\",y=\"Population Growth Rate\",\n         text=df.reset_index('country')['country'].values.tolist(),\n         xTitle=\"Log GDP per capita\",yTitle=\"Population Growth Rate\",\n         title=\"Fact II: Population growth is lower in higher-income countries\")",
    "id": "d54436366066436aa2c964e2c92e6ac3",
    "idx": 36,
    "time": "2021-01-25T22:50:54.825Z",
    "type": "execution"
   },
   {
    "id": "d54436366066436aa2c964e2c92e6ac3",
    "time": "2021-01-25T22:52:54.064Z",
    "type": "completion"
   },
   {
    "code": "world = data.query(\"country=='World'\")\n\n# Drop country index for World data\nworld.index = world.index.droplevel('country')\n\nworld[[\"Male Mortality\",\"Female Mortality\"]].iplot(title=\"Deaths per 10,000\")",
    "id": "47a256706e0b435d85bc6952f888d230",
    "idx": 41,
    "time": "2021-01-25T22:58:37.623Z",
    "type": "execution"
   },
   {
    "id": "47a256706e0b435d85bc6952f888d230",
    "time": "2021-01-25T22:58:38.102Z",
    "type": "completion"
   },
   {
    "code": "# % Adult Female is % of females who are adult.\n# To make a share of total population take product\nworld[\"% Adult Female\"] = world[\"% Adult Female\"]*world[\"% Female\"]/100\n\nworld[\"% Adult Female\"].iplot(title=\"% of Adult Females in World Population\")",
    "id": "e4028c9db2b0434081ea98f74d05f947",
    "idx": 44,
    "time": "2021-01-25T22:59:31.278Z",
    "type": "execution"
   },
   {
    "id": "e4028c9db2b0434081ea98f74d05f947",
    "time": "2021-01-25T22:59:31.565Z",
    "type": "completion"
   },
   {
    "code": "world[\"Total Fertility Rate\"].iplot()",
    "id": "d398e152c8e34daa86a26d208d9fc064",
    "idx": 47,
    "time": "2021-01-25T23:01:37.442Z",
    "type": "execution"
   }
  ],
  "kernelspec": {
   "display_name": "Python 3",
   "language": "python",
   "name": "python3"
  },
  "language_info": {
   "codemirror_mode": {
    "name": "ipython",
    "version": 3
   },
   "file_extension": ".py",
   "mimetype": "text/x-python",
   "name": "python",
   "nbconvert_exporter": "python",
   "pygments_lexer": "ipython3",
   "version": "3.8.5"
  },
  "org": null
 },
 "nbformat": 4,
 "nbformat_minor": 4
}
