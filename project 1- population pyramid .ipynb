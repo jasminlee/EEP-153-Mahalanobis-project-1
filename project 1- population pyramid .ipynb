{
 "cells": [
  {
   "cell_type": "code",
   "execution_count": 2,
   "metadata": {},
   "outputs": [],
   "source": [
    "import numpy as np\n",
    "import pandas as pd\n",
    "import matplotlib.pyplot as plt\n",
    "import seaborn as sns\n"
   ]
  },
  {
   "cell_type": "code",
   "execution_count": 3,
   "metadata": {},
   "outputs": [
    {
     "name": "stdout",
     "output_type": "stream",
     "text": [
      "Collecting wbdata\n",
      "  Using cached wbdata-0.3.0-py3-none-any.whl (14 kB)\n",
      "Collecting tabulate>=0.8.5\n",
      "  Using cached tabulate-0.8.7-py3-none-any.whl (24 kB)\n",
      "Requirement already satisfied: appdirs<2.0,>=1.4 in /opt/conda/lib/python3.8/site-packages (from wbdata) (1.4.4)\n",
      "Requirement already satisfied: requests>=2.0 in /opt/conda/lib/python3.8/site-packages (from wbdata) (2.25.1)\n",
      "Requirement already satisfied: decorator>=4.0 in /opt/conda/lib/python3.8/site-packages (from wbdata) (4.4.2)\n",
      "Requirement already satisfied: idna<3,>=2.5 in /opt/conda/lib/python3.8/site-packages (from requests>=2.0->wbdata) (2.8)\n",
      "Requirement already satisfied: chardet<5,>=3.0.2 in /opt/conda/lib/python3.8/site-packages (from requests>=2.0->wbdata) (3.0.4)\n",
      "Requirement already satisfied: certifi>=2017.4.17 in /opt/conda/lib/python3.8/site-packages (from requests>=2.0->wbdata) (2019.11.28)\n",
      "Requirement already satisfied: urllib3<1.27,>=1.21.1 in /opt/conda/lib/python3.8/site-packages (from requests>=2.0->wbdata) (1.25.7)\n",
      "Installing collected packages: tabulate, wbdata\n",
      "Successfully installed tabulate-0.8.7 wbdata-0.3.0\n"
     ]
    }
   ],
   "source": [
    "!pip install wbdata\n",
    "\n",
    "import wbdata"
   ]
  },
  {
   "cell_type": "code",
   "execution_count": 4,
   "metadata": {},
   "outputs": [],
   "source": [
    "population = 40\n",
    "\n",
    "indicators = wbdata.get_indicator(source=population)\n"
   ]
  },
  {
   "cell_type": "code",
   "execution_count": 5,
   "metadata": {},
   "outputs": [
    {
     "name": "stdout",
     "output_type": "stream",
     "text": [
      "['0004', '0509', '1014', '1519', '2024', '2529', '3034', '3539', '4044', '4549', '5054', '5559', '6064', '6569', '7074', '7579', '80UP']\n"
     ]
    }
   ],
   "source": [
    "age_ranges = []\n",
    "\n",
    "# Ranges top out at 80, and go in five year increments\n",
    "for i in range(0,80,5):\n",
    "    age_ranges.append(f\"{i:02d}\"+f\"{i+4:02d}\")\n",
    "\n",
    "age_ranges.append(\"80UP\")\n",
    "\n",
    "print(age_ranges)"
   ]
  },
  {
   "cell_type": "code",
   "execution_count": 6,
   "metadata": {},
   "outputs": [],
   "source": [
    "list_ma = {\"SP.POP.\"+age_range+\".MA\":\"Males \"+age_range for age_range in age_ranges}\n",
    "list_fe = {\"SP.POP.\"+age_range+\".FE\":\"Females \"+age_range for age_range in age_ranges}\n"
   ]
  },
  {
   "cell_type": "code",
   "execution_count": 11,
   "metadata": {},
   "outputs": [],
   "source": [
    "xx= \"MMR\"\n",
    "world_ma = wbdata.get_dataframe(list_ma, country=xx)\n",
    "world_fe = wbdata.get_dataframe(list_fe, country=xx)"
   ]
  },
  {
   "cell_type": "code",
   "execution_count": 18,
   "metadata": {},
   "outputs": [
    {
     "data": {
      "text/html": [
       "<div>\n",
       "<style scoped>\n",
       "    .dataframe tbody tr th:only-of-type {\n",
       "        vertical-align: middle;\n",
       "    }\n",
       "\n",
       "    .dataframe tbody tr th {\n",
       "        vertical-align: top;\n",
       "    }\n",
       "\n",
       "    .dataframe thead th {\n",
       "        text-align: right;\n",
       "    }\n",
       "</style>\n",
       "<table border=\"1\" class=\"dataframe\">\n",
       "  <thead>\n",
       "    <tr style=\"text-align: right;\">\n",
       "      <th></th>\n",
       "      <th>Age</th>\n",
       "      <th>Female</th>\n",
       "      <th>Male</th>\n",
       "    </tr>\n",
       "  </thead>\n",
       "  <tbody>\n",
       "    <tr>\n",
       "      <th>0</th>\n",
       "      <td>0-4</td>\n",
       "      <td>2238253.0</td>\n",
       "      <td>-2279429.0</td>\n",
       "    </tr>\n",
       "    <tr>\n",
       "      <th>1</th>\n",
       "      <td>5-9</td>\n",
       "      <td>2306619.0</td>\n",
       "      <td>-2335347.0</td>\n",
       "    </tr>\n",
       "    <tr>\n",
       "      <th>2</th>\n",
       "      <td>10-14</td>\n",
       "      <td>2491777.0</td>\n",
       "      <td>-2512010.0</td>\n",
       "    </tr>\n",
       "    <tr>\n",
       "      <th>3</th>\n",
       "      <td>15-19</td>\n",
       "      <td>2527385.0</td>\n",
       "      <td>-2527916.0</td>\n",
       "    </tr>\n",
       "    <tr>\n",
       "      <th>4</th>\n",
       "      <td>20-24</td>\n",
       "      <td>2363879.0</td>\n",
       "      <td>-2328549.0</td>\n",
       "    </tr>\n",
       "    <tr>\n",
       "      <th>5</th>\n",
       "      <td>25-29</td>\n",
       "      <td>2215921.0</td>\n",
       "      <td>-2138534.0</td>\n",
       "    </tr>\n",
       "    <tr>\n",
       "      <th>6</th>\n",
       "      <td>30-34</td>\n",
       "      <td>2099819.0</td>\n",
       "      <td>-2005335.0</td>\n",
       "    </tr>\n",
       "    <tr>\n",
       "      <th>7</th>\n",
       "      <td>35-39</td>\n",
       "      <td>2015704.0</td>\n",
       "      <td>-1910462.0</td>\n",
       "    </tr>\n",
       "    <tr>\n",
       "      <th>8</th>\n",
       "      <td>40-44</td>\n",
       "      <td>1935260.0</td>\n",
       "      <td>-1765580.0</td>\n",
       "    </tr>\n",
       "    <tr>\n",
       "      <th>9</th>\n",
       "      <td>45-49</td>\n",
       "      <td>1784828.0</td>\n",
       "      <td>-1576112.0</td>\n",
       "    </tr>\n",
       "    <tr>\n",
       "      <th>10</th>\n",
       "      <td>50-54</td>\n",
       "      <td>1568574.0</td>\n",
       "      <td>-1332888.0</td>\n",
       "    </tr>\n",
       "    <tr>\n",
       "      <th>11</th>\n",
       "      <td>55-59</td>\n",
       "      <td>1321909.0</td>\n",
       "      <td>-1071273.0</td>\n",
       "    </tr>\n",
       "    <tr>\n",
       "      <th>12</th>\n",
       "      <td>60-64</td>\n",
       "      <td>1107567.0</td>\n",
       "      <td>-840605.0</td>\n",
       "    </tr>\n",
       "    <tr>\n",
       "      <th>13</th>\n",
       "      <td>65-69</td>\n",
       "      <td>799287.0</td>\n",
       "      <td>-575824.0</td>\n",
       "    </tr>\n",
       "    <tr>\n",
       "      <th>14</th>\n",
       "      <td>70-74</td>\n",
       "      <td>465011.0</td>\n",
       "      <td>-334399.0</td>\n",
       "    </tr>\n",
       "    <tr>\n",
       "      <th>15</th>\n",
       "      <td>75-79</td>\n",
       "      <td>309003.0</td>\n",
       "      <td>-200870.0</td>\n",
       "    </tr>\n",
       "    <tr>\n",
       "      <th>16</th>\n",
       "      <td>80-UP</td>\n",
       "      <td>274394.0</td>\n",
       "      <td>-148072.0</td>\n",
       "    </tr>\n",
       "  </tbody>\n",
       "</table>\n",
       "</div>"
      ],
      "text/plain": [
       "      Age     Female       Male\n",
       "0     0-4  2238253.0 -2279429.0\n",
       "1     5-9  2306619.0 -2335347.0\n",
       "2   10-14  2491777.0 -2512010.0\n",
       "3   15-19  2527385.0 -2527916.0\n",
       "4   20-24  2363879.0 -2328549.0\n",
       "5   25-29  2215921.0 -2138534.0\n",
       "6   30-34  2099819.0 -2005335.0\n",
       "7   35-39  2015704.0 -1910462.0\n",
       "8   40-44  1935260.0 -1765580.0\n",
       "9   45-49  1784828.0 -1576112.0\n",
       "10  50-54  1568574.0 -1332888.0\n",
       "11  55-59  1321909.0 -1071273.0\n",
       "12  60-64  1107567.0  -840605.0\n",
       "13  65-69   799287.0  -575824.0\n",
       "14  70-74   465011.0  -334399.0\n",
       "15  75-79   309003.0  -200870.0\n",
       "16  80-UP   274394.0  -148072.0"
      ]
     },
     "execution_count": 18,
     "metadata": {},
     "output_type": "execute_result"
    }
   ],
   "source": [
    "year= 2000\n",
    "list_age = [\"0-4\",\"5-9\",\"10-14\",\"15-19\",\"20-24\",\"25-29\",\"30-34\",\"35-39\",\"40-44\",\"45-49\",\"50-54\",\"55-59\",\"60-64\",'65-69', '70-74', '75-79', '80-UP']\n",
    "range_fe = world_fe.query(\"date=='2018'\").sum(axis=0).tolist()\n",
    "range_ma = world_ma.query(\"date=='2018'\").sum(axis=0).tolist()\n",
    "neg_range_ma = [ -x for x in range_ma]\n",
    "\n",
    "dff = pd.DataFrame({'Age': list_age,\n",
    "                 'Female': range_fe,\n",
    "                 'Male': neg_range_ma})\n",
    "dff"
   ]
  },
  {
   "cell_type": "code",
   "execution_count": 19,
   "metadata": {},
   "outputs": [
    {
     "name": "stdout",
     "output_type": "stream",
     "text": [
      "[-2279429.0, -2335347.0, -2512010.0, -2527916.0, -2328549.0, -2138534.0, -2005335.0, -1910462.0, -1765580.0, -1576112.0, -1332888.0, -1071273.0, -840605.0, -575824.0, -334399.0, -200870.0, -148072.0]\n"
     ]
    }
   ],
   "source": [
    "neg_range_ma = [ -x for x in range_ma]\n",
    "print(neg_range_ma)"
   ]
  },
  {
   "cell_type": "code",
   "execution_count": 20,
   "metadata": {},
   "outputs": [
    {
     "data": {
      "text/plain": [
       "[Text(0.5, 0, 'Population (millions)'),\n",
       " Text(0, 0.5, 'Age-Group'),\n",
       " Text(0.5, 1.0, 'Population Pyramid')]"
      ]
     },
     "execution_count": 20,
     "metadata": {},
     "output_type": "execute_result"
    },
    {
     "data": {
      "image/png": "[encoded data removed]",
      "text/plain": [
       "<Figure size 432x288 with 1 Axes>"
      ]
     },
     "metadata": {
      "needs_background": "light"
     },
     "output_type": "display_data"
    }
   ],
   "source": [
    "AgeClass = [ '80-UP', '75-79', '70-74','65-69','60-64','55-59','50-54','45-49','40-44','35-39','30-34','25-29','20-24','15-19','10-14','5-9','0-4']\n",
    "\n",
    "bar_plot = sns.barplot(x='Female', y='Age', data=dff, order=AgeClass)\n",
    "\n",
    "bar_plot = sns.barplot(x='Male', y='Age', data=dff, order=AgeClass)\n",
    "\n",
    "bar_plot.set(xlabel=\"Population (millions)\", ylabel=\"Age-Group\", title = \"Population Pyramid\")"
   ]
  },
  {
   "cell_type": "code",
   "execution_count": null,
   "metadata": {},
   "outputs": [],
   "source": []
  }
 ],
 "metadata": {
  "history": [
   {
    "code": "import numpy as np\nimport pandas as pd\nimport matplotlib.pyplot as plt\nimport seaborn as sns\n",
    "id": "ea463ead13db4df8948abe976edbb01d",
    "idx": 0,
    "time": "2021-01-29T19:01:47.013Z",
    "type": "execution"
   },
   {
    "id": "ea463ead13db4df8948abe976edbb01d",
    "time": "2021-01-29T19:01:48.204Z",
    "type": "completion"
   },
   {
    "code": "!pip install wbdata\n\nimport wbdata",
    "id": "3d976408840e44e88ec8d58c478d40bd",
    "idx": 1,
    "time": "2021-01-29T19:01:58.588Z",
    "type": "execution"
   },
   {
    "id": "3d976408840e44e88ec8d58c478d40bd",
    "time": "2021-01-29T19:02:02.337Z",
    "type": "completion"
   },
   {
    "code": "population = 40\n\nindicators = wbdata.get_indicator(source=population)\n",
    "id": "7d1cd98a472343daabb166a58b71bb3f",
    "idx": 2,
    "time": "2021-01-29T19:03:04.085Z",
    "type": "execution"
   },
   {
    "id": "7d1cd98a472343daabb166a58b71bb3f",
    "time": "2021-01-29T19:03:04.151Z",
    "type": "completion"
   },
   {
    "code": "age_ranges = []\n\n# Ranges top out at 80, and go in five year increments\nfor i in range(0,80,5):\n    age_ranges.append(f\"{i:02d}\"+f\"{i+4:02d}\")\n\nage_ranges.append(\"80UP\")\n\nprint(age_ranges)",
    "id": "88cd4146e7744b1c894a4e3c868ba585",
    "idx": 3,
    "time": "2021-01-29T19:03:32.713Z",
    "type": "execution"
   },
   {
    "id": "88cd4146e7744b1c894a4e3c868ba585",
    "time": "2021-01-29T19:03:32.781Z",
    "type": "completion"
   },
   {
    "code": "list_ma = {\"SP.POP.\"+age_range+\".MA\":\"Males \"+age_range for age_range in age_ranges}\nlist_fe = {\"SP.POP.\"+age_range+\".FE\":\"Females \"+age_range for age_range in age_ranges}\nlist_ma",
    "id": "b0204c1dc3b54c11a752c1e2b384584e",
    "idx": 4,
    "time": "2021-01-29T19:04:14.723Z",
    "type": "execution"
   },
   {
    "id": "b0204c1dc3b54c11a752c1e2b384584e",
    "time": "2021-01-29T19:04:14.794Z",
    "type": "completion"
   },
   {
    "code": "list_ma = {\"SP.POP.\"+age_range+\".MA\":\"Males \"+age_range for age_range in age_ranges}\nlist_fe = {\"SP.POP.\"+age_range+\".FE\":\"Females \"+age_range for age_range in age_ranges}\n",
    "id": "b0204c1dc3b54c11a752c1e2b384584e",
    "idx": 4,
    "time": "2021-01-29T19:04:22.310Z",
    "type": "execution"
   },
   {
    "id": "b0204c1dc3b54c11a752c1e2b384584e",
    "time": "2021-01-29T19:04:22.377Z",
    "type": "completion"
   },
   {
    "code": "world_ma = wbdata.get_dataframe(list_ma, country=\"THA\")\nworld_fe = wbdata.get_dataframe(list_fe, country=\"THA\")\nworld_ma.head()",
    "id": "24e4fe9c504c4e469de6aef0d013d733",
    "idx": 5,
    "time": "2021-01-29T19:05:24.978Z",
    "type": "execution"
   },
   {
    "id": "24e4fe9c504c4e469de6aef0d013d733",
    "time": "2021-01-29T19:05:25.223Z",
    "type": "completion"
   },
   {
    "code": "world_ma = wbdata.get_dataframe(list_ma, country=\"THA\")\nworld_fe = wbdata.get_dataframe(list_fe, country=\"THA\")\n",
    "id": "24e4fe9c504c4e469de6aef0d013d733",
    "idx": 5,
    "time": "2021-01-29T19:05:30.332Z",
    "type": "execution"
   },
   {
    "id": "24e4fe9c504c4e469de6aef0d013d733",
    "time": "2021-01-29T19:05:30.937Z",
    "type": "completion"
   },
   {
    "code": "year= 2018 \nlist_age = [\"0-4\",\"5-9\",\"10-14\",\"15-19\",\"20-24\",\"25-29\",\"30-34\",\"35-39\",\"40-44\",\"45-49\",\"50-54\",\"55-59\",\"60-64\",\"65-UP\"]\nlist_fe = world_fe.query(\"date=='2018'\").sum(axis=0).tolist()\nlist_ma = world_ma.query(\"date=='2018'\").sum(axis=0).tolist()\nlist_ma = -list_ma\ndff = pd.DataFrame({'Age': list_age,\n                 'Female': list_fe,\n                 'Male': list_ma})\ndff",
    "id": "572abc210a0041a688d7687536fa54ba",
    "idx": 6,
    "time": "2021-01-29T19:06:18.302Z",
    "type": "execution"
   },
   {
    "id": "572abc210a0041a688d7687536fa54ba",
    "time": "2021-01-29T19:06:18.505Z",
    "type": "completion"
   },
   {
    "code": "year= 2018 \nlist_age = [\"0-4\",\"5-9\",\"10-14\",\"15-19\",\"20-24\",\"25-29\",\"30-34\",\"35-39\",\"40-44\",\"45-49\",\"50-54\",\"55-59\",\"60-64\",\"65-UP\"]\nlist_fe = world_fe.query(\"date=='2018'\").sum(axis=0).tolist()\nlist_ma = world_ma.query(\"date=='2018'\").sum(axis=0).tolist()\n\ndff = pd.DataFrame({'Age': list_age,\n                 'Female': list_fe,\n                 'Male': list_ma})\ndff",
    "id": "572abc210a0041a688d7687536fa54ba",
    "idx": 6,
    "time": "2021-01-29T19:06:28.941Z",
    "type": "execution"
   },
   {
    "id": "572abc210a0041a688d7687536fa54ba",
    "time": "2021-01-29T19:06:29.103Z",
    "type": "completion"
   },
   {
    "code": "year= 2018 \nlist_age = [\"0-4\",\"5-9\",\"10-14\",\"15-19\",\"20-24\",\"25-29\",\"30-34\",\"35-39\",\"40-44\",\"45-49\",\"50-54\",\"55-59\",\"60-64\",'65-69', '70-74', '75-79', '80-UP']\nlist_fe = world_fe.query(\"date=='2018'\").sum(axis=0).tolist()\nlist_ma = world_ma.query(\"date=='2018'\").sum(axis=0).tolist()\n\ndff = pd.DataFrame({'Age': list_age,\n                 'Female': list_fe,\n                 'Male': list_ma})\ndff",
    "id": "572abc210a0041a688d7687536fa54ba",
    "idx": 6,
    "time": "2021-01-29T19:07:44.550Z",
    "type": "execution"
   },
   {
    "id": "572abc210a0041a688d7687536fa54ba",
    "time": "2021-01-29T19:07:44.870Z",
    "type": "completion"
   },
   {
    "code": "year= 2018 \nlist_age = [\"0-4\",\"5-9\",\"10-14\",\"15-19\",\"20-24\",\"25-29\",\"30-34\",\"35-39\",\"40-44\",\"45-49\",\"50-54\",\"55-59\",\"60-64\",'65-69', '70-74', '75-79', '80-UP']\nrange_fe = world_fe.query(\"date=='2018'\").sum(axis=0).tolist()\nrange_ma = world_ma.query(\"date=='2018'\").sum(axis=0).tolist()\n\ndff = pd.DataFrame({'Age': range_age,\n                 'Female': range_fe,\n                 'Male': list_ma})\ndff",
    "id": "572abc210a0041a688d7687536fa54ba",
    "idx": 6,
    "time": "2021-01-29T19:09:20.350Z",
    "type": "execution"
   },
   {
    "id": "572abc210a0041a688d7687536fa54ba",
    "time": "2021-01-29T19:09:20.446Z",
    "type": "completion"
   },
   {
    "code": "year= 2018 \nlist_age = [\"0-4\",\"5-9\",\"10-14\",\"15-19\",\"20-24\",\"25-29\",\"30-34\",\"35-39\",\"40-44\",\"45-49\",\"50-54\",\"55-59\",\"60-64\",'65-69', '70-74', '75-79', '80-UP']\nrange_fe = world_fe.query(\"date=='2018'\").sum(axis=0).tolist()\nrange_ma = world_ma.query(\"date=='2018'\").sum(axis=0).tolist()\n\ndff = pd.DataFrame({'Age': lsit_age,\n                 'Female': range_fe,\n                 'Male': range_ma})\ndff",
    "id": "572abc210a0041a688d7687536fa54ba",
    "idx": 6,
    "time": "2021-01-29T19:09:33.219Z",
    "type": "execution"
   },
   {
    "id": "572abc210a0041a688d7687536fa54ba",
    "time": "2021-01-29T19:09:33.310Z",
    "type": "completion"
   },
   {
    "code": "year= 2018 \nlist_age = [\"0-4\",\"5-9\",\"10-14\",\"15-19\",\"20-24\",\"25-29\",\"30-34\",\"35-39\",\"40-44\",\"45-49\",\"50-54\",\"55-59\",\"60-64\",'65-69', '70-74', '75-79', '80-UP']\nrange_fe = world_fe.query(\"date=='2018'\").sum(axis=0).tolist()\nrange_ma = world_ma.query(\"date=='2018'\").sum(axis=0).tolist()\n\ndff = pd.DataFrame({'Age': list_age,\n                 'Female': range_fe,\n                 'Male': range_ma})\ndff",
    "id": "572abc210a0041a688d7687536fa54ba",
    "idx": 6,
    "time": "2021-01-29T19:09:37.508Z",
    "type": "execution"
   },
   {
    "id": "572abc210a0041a688d7687536fa54ba",
    "time": "2021-01-29T19:09:37.598Z",
    "type": "completion"
   },
   {
    "code": "range_ma.index(2)",
    "id": "e9ba529077864d648982ad4cdaa5ead9",
    "idx": 7,
    "time": "2021-01-29T19:09:50.377Z",
    "type": "execution"
   },
   {
    "id": "e9ba529077864d648982ad4cdaa5ead9",
    "time": "2021-01-29T19:09:50.465Z",
    "type": "completion"
   },
   {
    "code": "range_ma.index",
    "id": "e9ba529077864d648982ad4cdaa5ead9",
    "idx": 7,
    "time": "2021-01-29T19:10:01.432Z",
    "type": "execution"
   },
   {
    "id": "e9ba529077864d648982ad4cdaa5ead9",
    "time": "2021-01-29T19:10:01.504Z",
    "type": "completion"
   },
   {
    "code": "print(type(range_ma))",
    "id": "e9ba529077864d648982ad4cdaa5ead9",
    "idx": 7,
    "time": "2021-01-29T19:10:42.446Z",
    "type": "execution"
   },
   {
    "id": "e9ba529077864d648982ad4cdaa5ead9",
    "time": "2021-01-29T19:10:42.527Z",
    "type": "completion"
   },
   {
    "code": "print(type(range_ma[2]))",
    "id": "e9ba529077864d648982ad4cdaa5ead9",
    "idx": 7,
    "time": "2021-01-29T19:12:02.750Z",
    "type": "execution"
   },
   {
    "id": "e9ba529077864d648982ad4cdaa5ead9",
    "time": "2021-01-29T19:12:02.819Z",
    "type": "completion"
   },
   {
    "code": "range_ma[2]",
    "id": "5d4d588614ac4a2d8e72e5802f6a3e96",
    "idx": 8,
    "time": "2021-01-29T19:12:11.933Z",
    "type": "execution"
   },
   {
    "id": "5d4d588614ac4a2d8e72e5802f6a3e96",
    "time": "2021-01-29T19:12:12.001Z",
    "type": "completion"
   },
   {
    "code": "neg_range_ma = [ -x for x in range_ma]\nprint(neg_range_ma)",
    "id": "e9ba529077864d648982ad4cdaa5ead9",
    "idx": 7,
    "time": "2021-01-29T19:38:25.443Z",
    "type": "execution"
   },
   {
    "id": "e9ba529077864d648982ad4cdaa5ead9",
    "time": "2021-01-29T19:38:25.513Z",
    "type": "completion"
   },
   {
    "code": "year= 2018 \nlist_age = [\"0-4\",\"5-9\",\"10-14\",\"15-19\",\"20-24\",\"25-29\",\"30-34\",\"35-39\",\"40-44\",\"45-49\",\"50-54\",\"55-59\",\"60-64\",'65-69', '70-74', '75-79', '80-UP']\nrange_fe = world_fe.query(\"date=='2018'\").sum(axis=0).tolist()\nrange_ma = world_ma.query(\"date=='2018'\").sum(axis=0).tolist()\nneg_range_ma = [ -x for x in range_ma]\n\ndff = pd.DataFrame({'Age': list_age,\n                 'Female': range_fe,\n                 'Male': neg_range_ma})\ndff",
    "id": "572abc210a0041a688d7687536fa54ba",
    "idx": 6,
    "time": "2021-01-29T19:38:47.767Z",
    "type": "execution"
   },
   {
    "id": "572abc210a0041a688d7687536fa54ba",
    "time": "2021-01-29T19:38:47.904Z",
    "type": "completion"
   },
   {
    "code": "AgeClass = [ '80-UP', '75-79', '70-74','65-69','65-64','60-64','55-59','50-54','45-49','40-44','35-39','30-34','25-29','20-24','15-19','10-14','5-9','0-4']\n\nbar_plot = sns.barplot(x='Female', y='Age', data=dff, order=AgeClass)\n\nbar_plot = sns.barplot(x='Male', y='Age', data=dff, order=AgeClass)\n\nbar_plot.set(xlabel=\"Population (hundreds of millions)\", ylabel=\"Age-Group\", title = \"Population Pyramid\")",
    "id": "5d4d588614ac4a2d8e72e5802f6a3e96",
    "idx": 8,
    "time": "2021-01-29T19:40:27.259Z",
    "type": "execution"
   },
   {
    "id": "5d4d588614ac4a2d8e72e5802f6a3e96",
    "time": "2021-01-29T19:40:27.725Z",
    "type": "completion"
   },
   {
    "code": "AgeClass = [ '80-UP', '75-79', '70-74','65-69','60-64','55-59','50-54','45-49','40-44','35-39','30-34','25-29','20-24','15-19','10-14','5-9','0-4']\n\nbar_plot = sns.barplot(x='Female', y='Age', data=dff, order=AgeClass)\n\nbar_plot = sns.barplot(x='Male', y='Age', data=dff, order=AgeClass)\n\nbar_plot.set(xlabel=\"Population (hundreds of millions)\", ylabel=\"Age-Group\", title = \"Population Pyramid\")",
    "id": "5d4d588614ac4a2d8e72e5802f6a3e96",
    "idx": 8,
    "time": "2021-01-29T19:41:46.594Z",
    "type": "execution"
   },
   {
    "id": "5d4d588614ac4a2d8e72e5802f6a3e96",
    "time": "2021-01-29T19:41:47.075Z",
    "type": "completion"
   },
   {
    "code": "AgeClass = [ '80-UP', '75-79', '70-74','65-69','60-64','55-59','50-54','45-49','40-44','35-39','30-34','25-29','20-24','15-19','10-14','5-9','0-4']\n\nbar_plot = sns.barplot(x='Female', y='Age', data=dff, order=AgeClass)\n\nbar_plot = sns.barplot(x='Male', y='Age', data=dff, order=AgeClass)\n\nbar_plot.set(xlabel=\"Population (millions)\", ylabel=\"Age-Group\", title = \"Population Pyramid\")",
    "id": "5d4d588614ac4a2d8e72e5802f6a3e96",
    "idx": 8,
    "time": "2021-01-29T19:42:50.191Z",
    "type": "execution"
   },
   {
    "id": "5d4d588614ac4a2d8e72e5802f6a3e96",
    "time": "2021-01-29T19:42:50.742Z",
    "type": "completion"
   },
   {
    "code": "xx= \"THA\"\nworld_ma = wbdata.get_dataframe(list_ma, country=xx)\nworld_fe = wbdata.get_dataframe(list_fe, country=xx)",
    "id": "0d3fb5afe09d4afd838e277e49e50a2f",
    "idx": 5,
    "time": "2021-01-29T22:20:04.812Z",
    "type": "execution"
   },
   {
    "id": "0d3fb5afe09d4afd838e277e49e50a2f",
    "time": "2021-01-29T22:20:04.936Z",
    "type": "completion"
   },
   {
    "code": "import numpy as np\nimport pandas as pd\nimport matplotlib.pyplot as plt\nimport seaborn as sns\n",
    "id": "63780b0b05e14bbc87f4bf45911e8840",
    "idx": 0,
    "time": "2021-01-29T22:20:10.368Z",
    "type": "execution"
   },
   {
    "code": "!pip install wbdata\n\nimport wbdata",
    "id": "af873cc55eb9465c8017cb2c363196a7",
    "idx": 1,
    "time": "2021-01-29T22:20:10.858Z",
    "type": "execution"
   },
   {
    "id": "63780b0b05e14bbc87f4bf45911e8840",
    "time": "2021-01-29T22:20:11.454Z",
    "type": "completion"
   },
   {
    "code": "population = 40\n\nindicators = wbdata.get_indicator(source=population)\n",
    "id": "9b359498bdf2419c8010de7e550f4eb6",
    "idx": 2,
    "time": "2021-01-29T22:20:12.430Z",
    "type": "execution"
   },
   {
    "id": "af873cc55eb9465c8017cb2c363196a7",
    "time": "2021-01-29T22:20:15.957Z",
    "type": "completion"
   },
   {
    "id": "9b359498bdf2419c8010de7e550f4eb6",
    "time": "2021-01-29T22:20:15.960Z",
    "type": "completion"
   },
   {
    "code": "age_ranges = []\n\n# Ranges top out at 80, and go in five year increments\nfor i in range(0,80,5):\n    age_ranges.append(f\"{i:02d}\"+f\"{i+4:02d}\")\n\nage_ranges.append(\"80UP\")\n\nprint(age_ranges)",
    "id": "1181b71a78694e3e80c44dbb92840ef5",
    "idx": 3,
    "time": "2021-01-29T22:20:21.132Z",
    "type": "execution"
   },
   {
    "id": "1181b71a78694e3e80c44dbb92840ef5",
    "time": "2021-01-29T22:20:21.199Z",
    "type": "completion"
   },
   {
    "code": "list_ma = {\"SP.POP.\"+age_range+\".MA\":\"Males \"+age_range for age_range in age_ranges}\nlist_fe = {\"SP.POP.\"+age_range+\".FE\":\"Females \"+age_range for age_range in age_ranges}\n",
    "id": "4d4a681b88c64e7099cb44ff26e86a1c",
    "idx": 4,
    "time": "2021-01-29T22:20:21.892Z",
    "type": "execution"
   },
   {
    "id": "4d4a681b88c64e7099cb44ff26e86a1c",
    "time": "2021-01-29T22:20:21.968Z",
    "type": "completion"
   },
   {
    "code": "xx= \"THA\"\nworld_ma = wbdata.get_dataframe(list_ma, country=xx)\nworld_fe = wbdata.get_dataframe(list_fe, country=xx)",
    "id": "0d3fb5afe09d4afd838e277e49e50a2f",
    "idx": 5,
    "time": "2021-01-29T22:20:27.846Z",
    "type": "execution"
   },
   {
    "id": "0d3fb5afe09d4afd838e277e49e50a2f",
    "time": "2021-01-29T22:20:28.048Z",
    "type": "completion"
   },
   {
    "code": "year= 2018 \nlist_age = [\"0-4\",\"5-9\",\"10-14\",\"15-19\",\"20-24\",\"25-29\",\"30-34\",\"35-39\",\"40-44\",\"45-49\",\"50-54\",\"55-59\",\"60-64\",'65-69', '70-74', '75-79', '80-UP']\nrange_fe = world_fe.query(\"date=='2018'\").sum(axis=0).tolist()\nrange_ma = world_ma.query(\"date=='2018'\").sum(axis=0).tolist()\nneg_range_ma = [ -x for x in range_ma]\n\ndff = pd.DataFrame({'Age': list_age,\n                 'Female': range_fe,\n                 'Male': neg_range_ma})\ndff",
    "id": "ce2107df710a484080f26b0b8a56790f",
    "idx": 6,
    "time": "2021-01-29T22:20:32.548Z",
    "type": "execution"
   },
   {
    "id": "ce2107df710a484080f26b0b8a56790f",
    "time": "2021-01-29T22:20:32.652Z",
    "type": "completion"
   },
   {
    "code": "neg_range_ma = [ -x for x in range_ma]\nprint(neg_range_ma)",
    "id": "96832a69a6c6493e8542116185f9dc7f",
    "idx": 7,
    "time": "2021-01-29T22:20:36.672Z",
    "type": "execution"
   },
   {
    "id": "96832a69a6c6493e8542116185f9dc7f",
    "time": "2021-01-29T22:20:36.738Z",
    "type": "completion"
   },
   {
    "code": "AgeClass = [ '80-UP', '75-79', '70-74','65-69','60-64','55-59','50-54','45-49','40-44','35-39','30-34','25-29','20-24','15-19','10-14','5-9','0-4']\n\nbar_plot = sns.barplot(x='Female', y='Age', data=dff, order=AgeClass)\n\nbar_plot = sns.barplot(x='Male', y='Age', data=dff, order=AgeClass)\n\nbar_plot.set(xlabel=\"Population (millions)\", ylabel=\"Age-Group\", title = \"Population Pyramid\")",
    "id": "537333e15b6649658d65c39538204629",
    "idx": 8,
    "time": "2021-01-29T22:20:39.332Z",
    "type": "execution"
   },
   {
    "id": "537333e15b6649658d65c39538204629",
    "time": "2021-01-29T22:20:39.828Z",
    "type": "completion"
   },
   {
    "code": "xx= \"MMR\"\nworld_ma = wbdata.get_dataframe(list_ma, country=xx)\nworld_fe = wbdata.get_dataframe(list_fe, country=xx)",
    "id": "0d3fb5afe09d4afd838e277e49e50a2f",
    "idx": 5,
    "time": "2021-01-29T22:20:55.701Z",
    "type": "execution"
   },
   {
    "id": "0d3fb5afe09d4afd838e277e49e50a2f",
    "time": "2021-01-29T22:20:55.887Z",
    "type": "completion"
   },
   {
    "code": "year= 2018 \nlist_age = [\"0-4\",\"5-9\",\"10-14\",\"15-19\",\"20-24\",\"25-29\",\"30-34\",\"35-39\",\"40-44\",\"45-49\",\"50-54\",\"55-59\",\"60-64\",'65-69', '70-74', '75-79', '80-UP']\nrange_fe = world_fe.query(\"date=='2018'\").sum(axis=0).tolist()\nrange_ma = world_ma.query(\"date=='2018'\").sum(axis=0).tolist()\nneg_range_ma = [ -x for x in range_ma]\n\ndff = pd.DataFrame({'Age': list_age,\n                 'Female': range_fe,\n                 'Male': neg_range_ma})\ndff",
    "id": "ce2107df710a484080f26b0b8a56790f",
    "idx": 6,
    "time": "2021-01-29T22:20:58.288Z",
    "type": "execution"
   },
   {
    "id": "ce2107df710a484080f26b0b8a56790f",
    "time": "2021-01-29T22:20:58.387Z",
    "type": "completion"
   },
   {
    "code": "neg_range_ma = [ -x for x in range_ma]\nprint(neg_range_ma)",
    "id": "96832a69a6c6493e8542116185f9dc7f",
    "idx": 7,
    "time": "2021-01-29T22:21:02.457Z",
    "type": "execution"
   },
   {
    "id": "96832a69a6c6493e8542116185f9dc7f",
    "time": "2021-01-29T22:21:02.527Z",
    "type": "completion"
   },
   {
    "code": "AgeClass = [ '80-UP', '75-79', '70-74','65-69','60-64','55-59','50-54','45-49','40-44','35-39','30-34','25-29','20-24','15-19','10-14','5-9','0-4']\n\nbar_plot = sns.barplot(x='Female', y='Age', data=dff, order=AgeClass)\n\nbar_plot = sns.barplot(x='Male', y='Age', data=dff, order=AgeClass)\n\nbar_plot.set(xlabel=\"Population (millions)\", ylabel=\"Age-Group\", title = \"Population Pyramid\")",
    "id": "537333e15b6649658d65c39538204629",
    "idx": 8,
    "time": "2021-01-29T22:21:05.958Z",
    "type": "execution"
   },
   {
    "id": "537333e15b6649658d65c39538204629",
    "time": "2021-01-29T22:21:06.401Z",
    "type": "completion"
   },
   {
    "code": "year= 2017\nlist_age = [\"0-4\",\"5-9\",\"10-14\",\"15-19\",\"20-24\",\"25-29\",\"30-34\",\"35-39\",\"40-44\",\"45-49\",\"50-54\",\"55-59\",\"60-64\",'65-69', '70-74', '75-79', '80-UP']\nrange_fe = world_fe.query(\"date=='2018'\").sum(axis=0).tolist()\nrange_ma = world_ma.query(\"date=='2018'\").sum(axis=0).tolist()\nneg_range_ma = [ -x for x in range_ma]\n\ndff = pd.DataFrame({'Age': list_age,\n                 'Female': range_fe,\n                 'Male': neg_range_ma})\ndff",
    "id": "ce2107df710a484080f26b0b8a56790f",
    "idx": 6,
    "time": "2021-01-29T22:22:08.828Z",
    "type": "execution"
   },
   {
    "id": "ce2107df710a484080f26b0b8a56790f",
    "time": "2021-01-29T22:22:08.919Z",
    "type": "completion"
   },
   {
    "code": "neg_range_ma = [ -x for x in range_ma]\nprint(neg_range_ma)",
    "id": "96832a69a6c6493e8542116185f9dc7f",
    "idx": 7,
    "time": "2021-01-29T22:22:12.341Z",
    "type": "execution"
   },
   {
    "id": "96832a69a6c6493e8542116185f9dc7f",
    "time": "2021-01-29T22:22:12.402Z",
    "type": "completion"
   },
   {
    "code": "AgeClass = [ '80-UP', '75-79', '70-74','65-69','60-64','55-59','50-54','45-49','40-44','35-39','30-34','25-29','20-24','15-19','10-14','5-9','0-4']\n\nbar_plot = sns.barplot(x='Female', y='Age', data=dff, order=AgeClass)\n\nbar_plot = sns.barplot(x='Male', y='Age', data=dff, order=AgeClass)\n\nbar_plot.set(xlabel=\"Population (millions)\", ylabel=\"Age-Group\", title = \"Population Pyramid\")",
    "id": "537333e15b6649658d65c39538204629",
    "idx": 8,
    "time": "2021-01-29T22:22:13.358Z",
    "type": "execution"
   },
   {
    "id": "537333e15b6649658d65c39538204629",
    "time": "2021-01-29T22:22:13.841Z",
    "type": "completion"
   },
   {
    "code": "year= 2000\nlist_age = [\"0-4\",\"5-9\",\"10-14\",\"15-19\",\"20-24\",\"25-29\",\"30-34\",\"35-39\",\"40-44\",\"45-49\",\"50-54\",\"55-59\",\"60-64\",'65-69', '70-74', '75-79', '80-UP']\nrange_fe = world_fe.query(\"date=='2018'\").sum(axis=0).tolist()\nrange_ma = world_ma.query(\"date=='2018'\").sum(axis=0).tolist()\nneg_range_ma = [ -x for x in range_ma]\n\ndff = pd.DataFrame({'Age': list_age,\n                 'Female': range_fe,\n                 'Male': neg_range_ma})\ndff",
    "id": "ce2107df710a484080f26b0b8a56790f",
    "idx": 6,
    "time": "2021-01-29T22:22:20.591Z",
    "type": "execution"
   },
   {
    "id": "ce2107df710a484080f26b0b8a56790f",
    "time": "2021-01-29T22:22:20.681Z",
    "type": "completion"
   },
   {
    "code": "neg_range_ma = [ -x for x in range_ma]\nprint(neg_range_ma)",
    "id": "96832a69a6c6493e8542116185f9dc7f",
    "idx": 7,
    "time": "2021-01-29T22:22:25.820Z",
    "type": "execution"
   },
   {
    "id": "96832a69a6c6493e8542116185f9dc7f",
    "time": "2021-01-29T22:22:25.883Z",
    "type": "completion"
   },
   {
    "code": "AgeClass = [ '80-UP', '75-79', '70-74','65-69','60-64','55-59','50-54','45-49','40-44','35-39','30-34','25-29','20-24','15-19','10-14','5-9','0-4']\n\nbar_plot = sns.barplot(x='Female', y='Age', data=dff, order=AgeClass)\n\nbar_plot = sns.barplot(x='Male', y='Age', data=dff, order=AgeClass)\n\nbar_plot.set(xlabel=\"Population (millions)\", ylabel=\"Age-Group\", title = \"Population Pyramid\")",
    "id": "537333e15b6649658d65c39538204629",
    "idx": 8,
    "time": "2021-01-29T22:22:27.391Z",
    "type": "execution"
   },
   {
    "id": "537333e15b6649658d65c39538204629",
    "time": "2021-01-29T22:22:28.088Z",
    "type": "completion"
   }
  ],
  "kernelspec": {
   "display_name": "Python 3",
   "language": "python",
   "name": "python3"
  },
  "language_info": {
   "codemirror_mode": {
    "name": "ipython",
    "version": 3
   },
   "file_extension": ".py",
   "mimetype": "text/x-python",
   "name": "python",
   "nbconvert_exporter": "python",
   "pygments_lexer": "ipython3",
   "version": "3.8.6"
  }
 },
 "nbformat": 4,
 "nbformat_minor": 4
}
